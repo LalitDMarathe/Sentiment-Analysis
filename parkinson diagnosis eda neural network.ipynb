{
 "cells": [
  {
   "cell_type": "code",
   "execution_count": null,
   "metadata": {
    "_cell_guid": "b1076dfc-b9ad-4769-8c92-a6c4dae69d19",
    "_uuid": "8f2839f25d086af736a60e9eeb907d3b93b6e0e5",
    "execution": {
     "iopub.execute_input": "2021-12-11T07:42:51.260797Z",
     "iopub.status.busy": "2021-12-11T07:42:51.260133Z",
     "iopub.status.idle": "2021-12-11T07:42:51.29731Z",
     "shell.execute_reply": "2021-12-11T07:42:51.296735Z",
     "shell.execute_reply.started": "2021-12-11T07:42:51.260664Z"
    }
   },
   "outputs": [],
   "source": [
    "# This Python 3 environment comes with many helpful analytics libraries installed\n",
    "# It is defined by the kaggle/python Docker image: https://github.com/kaggle/docker-python\n",
    "# For example, here's several helpful packages to load\n",
    "\n",
    "import numpy as np # linear algebra\n",
    "import pandas as pd # data processing, CSV file I/O (e.g. pd.read_csv)\n",
    "\n",
    "# Input data files are available in the read-only \"../input/\" directory\n",
    "# For example, running this (by clicking run or pressing Shift+Enter) will list all files under the input directory\n",
    "\n",
    "import os\n",
    "for dirname, _, filenames in os.walk('/kaggle/input'):\n",
    "    for filename in filenames:\n",
    "        print(os.path.join(dirname, filename))\n",
    "\n",
    "# You can write up to 20GB to the current directory (/kaggle/working/) that gets preserved as output when you create a version using \"Save & Run All\" \n",
    "# You can also write temporary files to /kaggle/temp/, but they won't be saved outside of the current session"
   ]
  },
  {
   "cell_type": "markdown",
   "metadata": {},
   "source": [
    "Features Information:\n",
    "\n",
    "\n",
    "\n",
    "name - ASCII subject name and recording number\n",
    "\n",
    "\n",
    "MDVP:Fo(Hz) - Average vocal fundamental frequency\n",
    "\n",
    "\n",
    "MDVP:Fhi(Hz) - Maximum vocal fundamental frequency\n",
    "\n",
    "\n",
    "MDVP:Flo(Hz) - Minimum vocal fundamental frequency\n",
    "\n",
    "\n",
    "MDVP:Jitter(%),MDVP:Jitter(Abs),MDVP:RAP,MDVP:PPQ,Jitter:DDP - Several measures of variation in fundamental frequency\n",
    "\n",
    "\n",
    "MDVP:Shimmer,MDVP:Shimmer(dB),Shimmer:APQ3,Shimmer:APQ5,MDVP:APQ,Shimmer:DDA - Several measures of variation in amplitude\n",
    "\n",
    "\n",
    "NHR,HNR - Two measures of ratio of noise to tonal components in the voice\n",
    "\n",
    "\n",
    "status - Health status of the subject (one) - Parkinson's, (zero) - healthy\n",
    "\n",
    "\n",
    "RPDE,D2 - Two nonlinear dynamical complexity measures\n",
    "\n",
    "\n",
    "DFA - Signal fractal scaling exponent\n",
    "\n",
    "\n",
    "spread1,spread2,PPE - Three nonlinear measures of fundamental frequency variation\n"
   ]
  },
  {
   "cell_type": "markdown",
   "metadata": {},
   "source": [
    "Citation Request:\n",
    "\n",
    "\n",
    "If you use this dataset, please cite the following paper:\n",
    "\n",
    "\n",
    "'Exploiting Nonlinear Recurrence and Fractal Scaling Properties for Voice Disorder Detection', Little MA, McSharry PE, Roberts SJ, Costello DAE, Moroz IM. BioMedical Engineering OnLine 2007, 6:23 (26 June 2007)"
   ]
  },
  {
   "cell_type": "markdown",
   "metadata": {},
   "source": [
    "Kaggle: https://www.kaggle.com/debasisdotcom/parkinson-disease-detection"
   ]
  },
  {
   "cell_type": "code",
   "execution_count": null,
   "metadata": {
    "execution": {
     "iopub.execute_input": "2021-12-11T07:43:12.291566Z",
     "iopub.status.busy": "2021-12-11T07:43:12.291279Z",
     "iopub.status.idle": "2021-12-11T07:43:18.605819Z",
     "shell.execute_reply": "2021-12-11T07:43:18.6049Z",
     "shell.execute_reply.started": "2021-12-11T07:43:12.291536Z"
    }
   },
   "outputs": [],
   "source": [
    "import tensorflow as tf\n",
    "import numpy as np\n",
    "import pandas as pd\n",
    "import seaborn as sns\n",
    "import matplotlib.pyplot as plt\n",
    "%matplotlib inline"
   ]
  },
  {
   "cell_type": "code",
   "execution_count": null,
   "metadata": {
    "execution": {
     "iopub.execute_input": "2021-12-11T07:43:22.691491Z",
     "iopub.status.busy": "2021-12-11T07:43:22.690456Z",
     "iopub.status.idle": "2021-12-11T07:43:22.700129Z",
     "shell.execute_reply": "2021-12-11T07:43:22.698966Z",
     "shell.execute_reply.started": "2021-12-11T07:43:22.691429Z"
    }
   },
   "outputs": [],
   "source": [
    "#import os\n",
    "# for dirname, _, filenames in os.walk('/kaggle/input'):\n",
    "  #  for filename in filenames:\n",
    "   #     print(os.path.join(dirname, filename))"
   ]
  },
  {
   "cell_type": "code",
   "execution_count": null,
   "metadata": {
    "execution": {
     "iopub.execute_input": "2021-12-11T07:43:29.858666Z",
     "iopub.status.busy": "2021-12-11T07:43:29.858349Z",
     "iopub.status.idle": "2021-12-11T07:43:29.890101Z",
     "shell.execute_reply": "2021-12-11T07:43:29.88921Z",
     "shell.execute_reply.started": "2021-12-11T07:43:29.858631Z"
    }
   },
   "outputs": [],
   "source": [
    "df = pd.read_csv('Parkinsson disease.csv')"
   ]
  },
  {
   "cell_type": "code",
   "execution_count": null,
   "metadata": {
    "execution": {
     "iopub.execute_input": "2021-12-11T07:43:43.728213Z",
     "iopub.status.busy": "2021-12-11T07:43:43.727209Z",
     "iopub.status.idle": "2021-12-11T07:43:43.768801Z",
     "shell.execute_reply": "2021-12-11T07:43:43.767969Z",
     "shell.execute_reply.started": "2021-12-11T07:43:43.728172Z"
    }
   },
   "outputs": [],
   "source": [
    "df.head()"
   ]
  },
  {
   "cell_type": "code",
   "execution_count": null,
   "metadata": {
    "execution": {
     "iopub.execute_input": "2021-12-11T07:43:52.90406Z",
     "iopub.status.busy": "2021-12-11T07:43:52.903656Z",
     "iopub.status.idle": "2021-12-11T07:43:52.912299Z",
     "shell.execute_reply": "2021-12-11T07:43:52.911732Z",
     "shell.execute_reply.started": "2021-12-11T07:43:52.904022Z"
    }
   },
   "outputs": [],
   "source": [
    "df.isnull().sum()"
   ]
  },
  {
   "cell_type": "code",
   "execution_count": null,
   "metadata": {
    "execution": {
     "iopub.execute_input": "2021-12-11T07:44:01.873649Z",
     "iopub.status.busy": "2021-12-11T07:44:01.873384Z",
     "iopub.status.idle": "2021-12-11T07:44:01.898388Z",
     "shell.execute_reply": "2021-12-11T07:44:01.897171Z",
     "shell.execute_reply.started": "2021-12-11T07:44:01.87362Z"
    }
   },
   "outputs": [],
   "source": [
    "df.info()"
   ]
  },
  {
   "cell_type": "code",
   "execution_count": null,
   "metadata": {
    "execution": {
     "iopub.execute_input": "2021-12-11T07:44:09.291738Z",
     "iopub.status.busy": "2021-12-11T07:44:09.291291Z",
     "iopub.status.idle": "2021-12-11T07:44:09.362912Z",
     "shell.execute_reply": "2021-12-11T07:44:09.361979Z",
     "shell.execute_reply.started": "2021-12-11T07:44:09.291697Z"
    }
   },
   "outputs": [],
   "source": [
    "df.describe()"
   ]
  },
  {
   "cell_type": "code",
   "execution_count": null,
   "metadata": {
    "execution": {
     "iopub.execute_input": "2021-12-11T07:44:29.239023Z",
     "iopub.status.busy": "2021-12-11T07:44:29.238746Z",
     "iopub.status.idle": "2021-12-11T07:44:29.631767Z",
     "shell.execute_reply": "2021-12-11T07:44:29.6311Z",
     "shell.execute_reply.started": "2021-12-11T07:44:29.238994Z"
    }
   },
   "outputs": [],
   "source": [
    "df.corr()['status'][:-1].sort_values().plot(kind='bar')"
   ]
  },
  {
   "cell_type": "code",
   "execution_count": null,
   "metadata": {
    "execution": {
     "iopub.execute_input": "2021-12-11T07:44:41.298192Z",
     "iopub.status.busy": "2021-12-11T07:44:41.29759Z",
     "iopub.status.idle": "2021-12-11T07:44:41.304525Z",
     "shell.execute_reply": "2021-12-11T07:44:41.303888Z",
     "shell.execute_reply.started": "2021-12-11T07:44:41.298141Z"
    }
   },
   "outputs": [],
   "source": [
    "df = df.drop('name', axis = 1)"
   ]
  },
  {
   "cell_type": "code",
   "execution_count": null,
   "metadata": {
    "execution": {
     "iopub.execute_input": "2021-12-11T07:44:49.125936Z",
     "iopub.status.busy": "2021-12-11T07:44:49.125623Z",
     "iopub.status.idle": "2021-12-11T07:44:52.202737Z",
     "shell.execute_reply": "2021-12-11T07:44:52.202069Z",
     "shell.execute_reply.started": "2021-12-11T07:44:49.125903Z"
    }
   },
   "outputs": [],
   "source": [
    "plt.figure(figsize=(30,30))\n",
    "sns.heatmap(df.corr(), annot = True, cmap= \"coolwarm\")"
   ]
  },
  {
   "cell_type": "markdown",
   "metadata": {},
   "source": [
    "NEURAL NETWORKS (Multi-Layer Perceptron)"
   ]
  },
  {
   "cell_type": "code",
   "execution_count": null,
   "metadata": {
    "execution": {
     "iopub.execute_input": "2021-12-11T07:46:39.767327Z",
     "iopub.status.busy": "2021-12-11T07:46:39.76703Z",
     "iopub.status.idle": "2021-12-11T07:46:39.77293Z",
     "shell.execute_reply": "2021-12-11T07:46:39.772342Z",
     "shell.execute_reply.started": "2021-12-11T07:46:39.767297Z"
    }
   },
   "outputs": [],
   "source": [
    "X = df.drop('status', axis = 1)\n",
    "Y = df['status']"
   ]
  },
  {
   "cell_type": "markdown",
   "metadata": {},
   "source": [
    "Train Test Split"
   ]
  },
  {
   "cell_type": "code",
   "execution_count": null,
   "metadata": {
    "execution": {
     "iopub.execute_input": "2021-12-11T07:47:10.03344Z",
     "iopub.status.busy": "2021-12-11T07:47:10.032933Z",
     "iopub.status.idle": "2021-12-11T07:47:10.215427Z",
     "shell.execute_reply": "2021-12-11T07:47:10.214471Z",
     "shell.execute_reply.started": "2021-12-11T07:47:10.033404Z"
    }
   },
   "outputs": [],
   "source": [
    "from sklearn.model_selection import train_test_split\n",
    "X_train, X_test, Y_train, Y_test = train_test_split(X,Y,test_size=0.25,random_state=101)"
   ]
  },
  {
   "cell_type": "markdown",
   "metadata": {},
   "source": [
    "Scaling Data"
   ]
  },
  {
   "cell_type": "code",
   "execution_count": null,
   "metadata": {
    "execution": {
     "iopub.execute_input": "2021-12-11T07:47:27.84234Z",
     "iopub.status.busy": "2021-12-11T07:47:27.841608Z",
     "iopub.status.idle": "2021-12-11T07:47:27.845488Z",
     "shell.execute_reply": "2021-12-11T07:47:27.844945Z",
     "shell.execute_reply.started": "2021-12-11T07:47:27.842301Z"
    }
   },
   "outputs": [],
   "source": [
    "from sklearn.preprocessing import MinMaxScaler\n",
    "scaler = MinMaxScaler()"
   ]
  },
  {
   "cell_type": "code",
   "execution_count": null,
   "metadata": {
    "execution": {
     "iopub.execute_input": "2021-12-11T07:47:35.7715Z",
     "iopub.status.busy": "2021-12-11T07:47:35.771201Z",
     "iopub.status.idle": "2021-12-11T07:47:35.782904Z",
     "shell.execute_reply": "2021-12-11T07:47:35.782007Z",
     "shell.execute_reply.started": "2021-12-11T07:47:35.771468Z"
    }
   },
   "outputs": [],
   "source": [
    "X_train_scaled = scaler.fit_transform(X_train)\n",
    "X_test_scaled = scaler.transform(X_test)"
   ]
  },
  {
   "cell_type": "code",
   "execution_count": null,
   "metadata": {
    "execution": {
     "iopub.execute_input": "2021-12-11T07:47:42.075625Z",
     "iopub.status.busy": "2021-12-11T07:47:42.075196Z",
     "iopub.status.idle": "2021-12-11T07:47:42.0804Z",
     "shell.execute_reply": "2021-12-11T07:47:42.079731Z",
     "shell.execute_reply.started": "2021-12-11T07:47:42.075585Z"
    }
   },
   "outputs": [],
   "source": [
    "X_train_scaled.shape"
   ]
  },
  {
   "cell_type": "markdown",
   "metadata": {},
   "source": [
    "Creating The Model"
   ]
  },
  {
   "cell_type": "code",
   "execution_count": null,
   "metadata": {
    "execution": {
     "iopub.execute_input": "2021-12-11T07:48:01.047129Z",
     "iopub.status.busy": "2021-12-11T07:48:01.046389Z",
     "iopub.status.idle": "2021-12-11T07:48:02.139033Z",
     "shell.execute_reply": "2021-12-11T07:48:02.13818Z",
     "shell.execute_reply.started": "2021-12-11T07:48:01.047086Z"
    }
   },
   "outputs": [],
   "source": [
    "from tensorflow.keras.models import Sequential\n",
    "from tensorflow.keras.layers import Dense, Activation,Dropout"
   ]
  },
  {
   "cell_type": "code",
   "execution_count": null,
   "metadata": {
    "execution": {
     "iopub.execute_input": "2021-12-11T07:48:09.750538Z",
     "iopub.status.busy": "2021-12-11T07:48:09.750267Z",
     "iopub.status.idle": "2021-12-11T07:48:10.04087Z",
     "shell.execute_reply": "2021-12-11T07:48:10.040011Z",
     "shell.execute_reply.started": "2021-12-11T07:48:09.75051Z"
    }
   },
   "outputs": [],
   "source": [
    "model = Sequential()\n",
    "\n",
    "model.add(Dense(units=30,activation='relu'))\n",
    "model.add(Dropout(0.2))\n",
    "model.add(Dense(units=25,activation='relu'))\n",
    "model.add(Dropout(0.2))\n",
    "model.add(Dense(units=10,activation='relu'))\n",
    "model.add(Dropout(0.2))\n",
    "\n",
    "model.add(Dense(units=1,activation='sigmoid'))\n",
    "\n",
    "# For a binary classification problem\n",
    "model.compile(loss='binary_crossentropy', optimizer='adam')"
   ]
  },
  {
   "cell_type": "code",
   "execution_count": null,
   "metadata": {
    "execution": {
     "iopub.execute_input": "2021-12-11T07:48:21.952334Z",
     "iopub.status.busy": "2021-12-11T07:48:21.952033Z",
     "iopub.status.idle": "2021-12-11T07:48:21.958028Z",
     "shell.execute_reply": "2021-12-11T07:48:21.956922Z",
     "shell.execute_reply.started": "2021-12-11T07:48:21.9523Z"
    }
   },
   "outputs": [],
   "source": [
    "from tensorflow.keras.callbacks import EarlyStopping\n",
    "cb = EarlyStopping(monitor='val_loss', mode='min', verbose=1, patience=10)"
   ]
  },
  {
   "cell_type": "code",
   "execution_count": null,
   "metadata": {
    "execution": {
     "iopub.execute_input": "2021-12-11T07:48:34.017022Z",
     "iopub.status.busy": "2021-12-11T07:48:34.016599Z",
     "iopub.status.idle": "2021-12-11T07:48:45.251579Z",
     "shell.execute_reply": "2021-12-11T07:48:45.25061Z",
     "shell.execute_reply.started": "2021-12-11T07:48:34.01699Z"
    }
   },
   "outputs": [],
   "source": [
    "model.fit(x=X_train_scaled,y=Y_train, validation_data=(X_test_scaled, Y_test), batch_size=450, epochs=600, callbacks=[cb])"
   ]
  },
  {
   "cell_type": "code",
   "execution_count": null,
   "metadata": {
    "execution": {
     "iopub.execute_input": "2021-12-11T07:48:52.141172Z",
     "iopub.status.busy": "2021-12-11T07:48:52.140438Z",
     "iopub.status.idle": "2021-12-11T07:48:52.145576Z",
     "shell.execute_reply": "2021-12-11T07:48:52.14491Z",
     "shell.execute_reply.started": "2021-12-11T07:48:52.141124Z"
    }
   },
   "outputs": [],
   "source": [
    "losses = pd.DataFrame(model.history.history)"
   ]
  },
  {
   "cell_type": "code",
   "execution_count": null,
   "metadata": {
    "execution": {
     "iopub.execute_input": "2021-12-11T07:49:01.469688Z",
     "iopub.status.busy": "2021-12-11T07:49:01.468968Z",
     "iopub.status.idle": "2021-12-11T07:49:01.711192Z",
     "shell.execute_reply": "2021-12-11T07:49:01.710474Z",
     "shell.execute_reply.started": "2021-12-11T07:49:01.469634Z"
    }
   },
   "outputs": [],
   "source": [
    "losses.plot()"
   ]
  },
  {
   "cell_type": "markdown",
   "metadata": {},
   "source": [
    "Model Evaluation"
   ]
  },
  {
   "cell_type": "code",
   "execution_count": null,
   "metadata": {
    "execution": {
     "iopub.execute_input": "2021-12-11T07:49:19.458939Z",
     "iopub.status.busy": "2021-12-11T07:49:19.457927Z",
     "iopub.status.idle": "2021-12-11T07:49:19.617377Z",
     "shell.execute_reply": "2021-12-11T07:49:19.616745Z",
     "shell.execute_reply.started": "2021-12-11T07:49:19.458881Z"
    }
   },
   "outputs": [],
   "source": [
    "predictions = (model.predict(X_test_scaled) > 0.5).astype(\"int32\")"
   ]
  },
  {
   "cell_type": "code",
   "execution_count": null,
   "metadata": {
    "execution": {
     "iopub.execute_input": "2021-12-11T07:49:29.543506Z",
     "iopub.status.busy": "2021-12-11T07:49:29.543018Z",
     "iopub.status.idle": "2021-12-11T07:49:29.547499Z",
     "shell.execute_reply": "2021-12-11T07:49:29.546551Z",
     "shell.execute_reply.started": "2021-12-11T07:49:29.543455Z"
    }
   },
   "outputs": [],
   "source": [
    "from sklearn.metrics import classification_report,confusion_matrix, accuracy_score"
   ]
  },
  {
   "cell_type": "code",
   "execution_count": null,
   "metadata": {
    "execution": {
     "iopub.execute_input": "2021-12-11T07:49:36.961532Z",
     "iopub.status.busy": "2021-12-11T07:49:36.961253Z",
     "iopub.status.idle": "2021-12-11T07:49:36.967947Z",
     "shell.execute_reply": "2021-12-11T07:49:36.967149Z",
     "shell.execute_reply.started": "2021-12-11T07:49:36.961505Z"
    }
   },
   "outputs": [],
   "source": [
    "print(confusion_matrix(Y_test,predictions))"
   ]
  },
  {
   "cell_type": "code",
   "execution_count": null,
   "metadata": {
    "execution": {
     "iopub.execute_input": "2021-12-11T07:49:44.204429Z",
     "iopub.status.busy": "2021-12-11T07:49:44.203943Z",
     "iopub.status.idle": "2021-12-11T07:49:44.214138Z",
     "shell.execute_reply": "2021-12-11T07:49:44.213134Z",
     "shell.execute_reply.started": "2021-12-11T07:49:44.204379Z"
    }
   },
   "outputs": [],
   "source": [
    "print(classification_report(Y_test,predictions))"
   ]
  },
  {
   "cell_type": "code",
   "execution_count": null,
   "metadata": {
    "execution": {
     "iopub.execute_input": "2021-12-11T07:49:52.889195Z",
     "iopub.status.busy": "2021-12-11T07:49:52.888292Z",
     "iopub.status.idle": "2021-12-11T07:49:52.895598Z",
     "shell.execute_reply": "2021-12-11T07:49:52.894327Z",
     "shell.execute_reply.started": "2021-12-11T07:49:52.889152Z"
    }
   },
   "outputs": [],
   "source": [
    "print(accuracy_score(Y_test,predictions))"
   ]
  }
 ],
 "metadata": {
  "kernelspec": {
   "display_name": "Python 3 (ipykernel)",
   "language": "python",
   "name": "python3"
  },
  "language_info": {
   "codemirror_mode": {
    "name": "ipython",
    "version": 3
   },
   "file_extension": ".py",
   "mimetype": "text/x-python",
   "name": "python",
   "nbconvert_exporter": "python",
   "pygments_lexer": "ipython3",
   "version": "3.9.7"
  }
 },
 "nbformat": 4,
 "nbformat_minor": 4
}
