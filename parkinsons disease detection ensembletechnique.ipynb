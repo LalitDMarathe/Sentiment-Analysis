{
 "cells": [
  {
   "cell_type": "markdown",
   "metadata": {},
   "source": [
    "# parkinsons disease detection ensembletechnique"
   ]
  },
  {
   "cell_type": "code",
   "execution_count": null,
   "metadata": {
    "_cell_guid": "b1076dfc-b9ad-4769-8c92-a6c4dae69d19",
    "_uuid": "8f2839f25d086af736a60e9eeb907d3b93b6e0e5",
    "execution": {
     "iopub.execute_input": "2021-12-10T16:03:56.746534Z",
     "iopub.status.busy": "2021-12-10T16:03:56.746095Z",
     "iopub.status.idle": "2021-12-10T16:03:56.792391Z",
     "shell.execute_reply": "2021-12-10T16:03:56.791629Z",
     "shell.execute_reply.started": "2021-12-10T16:03:56.746422Z"
    }
   },
   "outputs": [],
   "source": [
    "# This Python 3 environment comes with many helpful analytics libraries installed\n",
    "# It is defined by the kaggle/python Docker image: https://github.com/kaggle/docker-python\n",
    "# For example, here's several helpful packages to load\n",
    "\n",
    "import numpy as np # linear algebra\n",
    "import pandas as pd # data processing, CSV file I/O (e.g. pd.read_csv)\n",
    "\n",
    "# Input data files are available in the read-only \"../input/\" directory\n",
    "# For example, running this (by clicking run or pressing Shift+Enter) will list all files under the input directory\n",
    "\n",
    "#import os\n",
    "#for dirname, _, filenames in os.walk('/kaggle/input'):\n",
    "#    for filename in filenames:\n",
    "#        print(os.path.join(dirname, filename))"
   ]
  },
  {
   "cell_type": "code",
   "execution_count": null,
   "metadata": {
    "execution": {
     "iopub.execute_input": "2021-12-10T16:05:11.575116Z",
     "iopub.status.busy": "2021-12-10T16:05:11.57453Z",
     "iopub.status.idle": "2021-12-10T16:05:14.027967Z",
     "shell.execute_reply": "2021-12-10T16:05:14.027058Z",
     "shell.execute_reply.started": "2021-12-10T16:05:11.575034Z"
    }
   },
   "outputs": [],
   "source": [
    "# Importing the necessary libraries\n",
    "import seaborn as sns                       # For Data Visualization \n",
    "import matplotlib.pyplot as plt                       # Necessary module for plotting purpose\n",
    "import warnings                                                      # importing warning library\n",
    "\n",
    "# add graphs into jupiter notebook\n",
    "%matplotlib inline                             \n",
    "warnings.filterwarnings('ignore')                                    # for ignoring warnings in notebook\n",
    "\n",
    "import statsmodels.api as sm                        # importing statsmodel api\n",
    "from sklearn import model_selection                                  # For model_selection\n",
    "from sklearn.model_selection import train_test_split      # For train-test split\n",
    "\n",
    "# getting methods for confusion matrix, F1 score, Accuracy Score\n",
    "from sklearn import metrics                                          \n",
    "from sklearn.metrics import confusion_matrix,f1_score,accuracy_score,classification_report,roc_curve,auc,average_precision_score\n",
    "from sklearn.linear_model import LogisticRegression    # For logistic Regression\n",
    "from sklearn.naive_bayes import GaussianNB            # For Naive Bayes classifier\n",
    "from sklearn.neighbors import KNeighborsClassifier  # For K-NN Classifier\n",
    "from sklearn.svm import SVC                   # For support vector machine based classifier\n",
    "\n",
    "## Scaling\n",
    "from sklearn.preprocessing import StandardScaler\n",
    "\n",
    "from sklearn.tree import DecisionTreeClassifier\n",
    "from sklearn.ensemble import StackingClassifier\n",
    "from sklearn.ensemble import RandomForestClassifier\n",
    "from sklearn.ensemble import AdaBoostClassifier"
   ]
  },
  {
   "cell_type": "code",
   "execution_count": null,
   "metadata": {
    "execution": {
     "iopub.execute_input": "2021-12-10T16:05:33.484369Z",
     "iopub.status.busy": "2021-12-10T16:05:33.483437Z",
     "iopub.status.idle": "2021-12-10T16:05:33.557692Z",
     "shell.execute_reply": "2021-12-10T16:05:33.556878Z",
     "shell.execute_reply.started": "2021-12-10T16:05:33.484311Z"
    }
   },
   "outputs": [],
   "source": [
    "pdDataOrg = pd.read_csv(\"Parkinsson disease.csv\")        # using pandas read_csv function to load dataset into pdData variable\n",
    "pdDataOrg.head() "
   ]
  },
  {
   "cell_type": "code",
   "execution_count": null,
   "metadata": {
    "execution": {
     "iopub.execute_input": "2021-12-10T16:05:49.914023Z",
     "iopub.status.busy": "2021-12-10T16:05:49.913695Z",
     "iopub.status.idle": "2021-12-10T16:05:49.958829Z",
     "shell.execute_reply": "2021-12-10T16:05:49.958177Z",
     "shell.execute_reply.started": "2021-12-10T16:05:49.913989Z"
    }
   },
   "outputs": [],
   "source": [
    "'''\n",
    "To use columns of pdDataOrg df more conveniently following are some changes I have done\n",
    "    a. pushing target column i.e 'status' to last column\n",
    "    b. converting all column names in lower case\n",
    "    c. replacing spaces in column names with '_'\n",
    "    d. replacing ':' in column names with '_'\n",
    "    e. replacing '(' in column names with '_'\n",
    "    f. replacing ')' in column names with '' i.e blank\n",
    "    g. replacing '%' in column names with 'in_percent'\n",
    "'''\n",
    "\n",
    "pdData = pdDataOrg.copy()                                               # creating a copy of loanDataOrg into loanData\n",
    "\n",
    "targetCol = 'status'                                                    # defining target column\n",
    "targetColDf = pdData.pop(targetCol)                                     # popping target column from loanData df\n",
    "pdData.insert(len(pdData.columns),targetCol, targetColDf)               # inserting target column to last column\n",
    "\n",
    "# deleting variables that were used for changing column position of target column\n",
    "del targetCol \n",
    "del targetColDf\n",
    "\n",
    "# converting column names into lower case\n",
    "pdData.columns = [c.lower() for c in pdData.columns]\n",
    "# replacing spaces in column names with '_'\n",
    "pdData.columns = [c.replace(' ', '_') for c in pdData.columns]\n",
    "# replacing ':' in column names with '_'\n",
    "pdData.columns = [c.replace(':', '_') for c in pdData.columns]\n",
    "# replacing '(' in column names with '_'\n",
    "pdData.columns = [c.replace('(', '_') for c in pdData.columns]\n",
    "# replacing ')' in column names with '' i.e blank\n",
    "pdData.columns = [c.replace(')', '') for c in pdData.columns]\n",
    "# replacing '%' in column names with 'in_percent'\n",
    "pdData.columns = [c.replace('%', 'in_percent') for c in pdData.columns]\n",
    "\n",
    "# to check the above printing top 5 rows\n",
    "pdData.head()"
   ]
  },
  {
   "cell_type": "markdown",
   "metadata": {},
   "source": [
    "It is always a good practice to eye-ball raw data to get a feel of the data in terms of number of records, structure of the file, number of attributes, types of attributes and a general idea of likely challenges in the dataset. Mention a few comments in this regard (5 points)\n",
    "\n",
    "\n",
    "Attribute Information:\n",
    "\n",
    "\n",
    "name - ASCII subject name and recording number.\n",
    "\n",
    "mdvp_fo_hz - Average vocal fundamental frequency (Actualy column name MDVP:Fo(Hz) )\n",
    "\n",
    "mdvp_fhi_hz - Maximum vocal fundamental frequency (Actualy column name MDVP:Fhi(Hz) )\n",
    "\n",
    "mdvp_flo_hz - Minimum vocal fundamental frequency (Actualy column name MDVP:Flo(Hz) )\n",
    "\n",
    "mdvp_jitter_in_percent, mdvp_jitter_abs, mdvp_rap, mdvp_ppq, jitter_ddp - Several measures of variation in fundamental frequency (Actualy column names MDVP:Jitter(%), MDVP:Jitter(Abs), MDVP:RAP, MDVP:PPQ, Jitter:DDP respectively)\n",
    "\n",
    "mdvp_shimmer, mdvp_shimmer_db, shimmer_apq3, shimmer_apq5, mdvp_apq, shimmer_dda - Several measures of variation in amplitude (Actualy column names MDVP:Shimmer, MDVP:Shimmer(dB), Shimmer:APQ3, Shimmer:APQ5, MDVP:APQ, Shimmer:DDA respectively)\n",
    "\n",
    "nhr, hnr - Two measures of ratio of noise to tonal components in the voice (Actualy column names NHR, HNR respectively)\n",
    "\n",
    "rpde, d2 - Two nonlinear dynamical complexity measures (Actualy column names RPDE, D2 respectively)\n",
    "\n",
    "dfa - Signal fractal scaling exponent (Actualy column name DFA )\n",
    "\n",
    "spread1, spread2, ppe - Three nonlinear measures of fundamental frequency variation (Actualy column names spread1, spread2, PPE respectively)\n",
    "\n",
    "status - Health status of the subject (one) - Parkinson's, (zero) - healthy (Target Varibale / attribute)"
   ]
  },
  {
   "cell_type": "code",
   "execution_count": null,
   "metadata": {
    "execution": {
     "iopub.execute_input": "2021-12-10T16:08:45.308148Z",
     "iopub.status.busy": "2021-12-10T16:08:45.307742Z",
     "iopub.status.idle": "2021-12-10T16:08:45.314673Z",
     "shell.execute_reply": "2021-12-10T16:08:45.313612Z",
     "shell.execute_reply.started": "2021-12-10T16:08:45.30811Z"
    }
   },
   "outputs": [],
   "source": [
    "print('\\033[1mThe Parkinson\\'s disease dataset having \"{0}\" rows and \"{1}\" columns\\033[0m.'.format(pdData.shape[0],pdData.shape[1]))"
   ]
  },
  {
   "cell_type": "code",
   "execution_count": null,
   "metadata": {
    "execution": {
     "iopub.execute_input": "2021-12-10T16:08:53.083284Z",
     "iopub.status.busy": "2021-12-10T16:08:53.082959Z",
     "iopub.status.idle": "2021-12-10T16:08:53.105467Z",
     "shell.execute_reply": "2021-12-10T16:08:53.104439Z",
     "shell.execute_reply.started": "2021-12-10T16:08:53.083244Z"
    }
   },
   "outputs": [],
   "source": [
    "pdData.info()"
   ]
  },
  {
   "cell_type": "markdown",
   "metadata": {},
   "source": [
    "Setting 'name' attribute as index of the pdData dataframe as the attribute / column does not have an significance towards identifying patients have Parkinson's disease or not i.e 'status' column [Health status of the subject (one) - Parkinson's, (zero) - healthy]"
   ]
  },
  {
   "cell_type": "code",
   "execution_count": null,
   "metadata": {
    "execution": {
     "iopub.execute_input": "2021-12-10T16:09:12.886072Z",
     "iopub.status.busy": "2021-12-10T16:09:12.885324Z",
     "iopub.status.idle": "2021-12-10T16:09:12.892034Z",
     "shell.execute_reply": "2021-12-10T16:09:12.89112Z",
     "shell.execute_reply.started": "2021-12-10T16:09:12.886018Z"
    }
   },
   "outputs": [],
   "source": [
    "# setting name column as index column\n",
    "pdData.set_index('name',inplace=True)"
   ]
  },
  {
   "cell_type": "code",
   "execution_count": null,
   "metadata": {
    "execution": {
     "iopub.execute_input": "2021-12-10T16:09:32.00148Z",
     "iopub.status.busy": "2021-12-10T16:09:32.000747Z",
     "iopub.status.idle": "2021-12-10T16:09:32.007781Z",
     "shell.execute_reply": "2021-12-10T16:09:32.006876Z",
     "shell.execute_reply.started": "2021-12-10T16:09:32.001437Z"
    }
   },
   "outputs": [],
   "source": [
    "# after setting column 'name' as index now we have less columns to confirm that printing number of rows and column once again\n",
    "print('\\033[1mAfter setting \\'name\\' column as index of the Dataset,\\033[0m now there are \\033[1m\"{0}\"\\033[0m Rows and \\033[1m\"{1}\"\\033[0m Columns in the given Dataset.'.format(pdData.shape[0],pdData.shape[1]))"
   ]
  },
  {
   "cell_type": "code",
   "execution_count": null,
   "metadata": {
    "execution": {
     "iopub.execute_input": "2021-12-10T16:09:41.940212Z",
     "iopub.status.busy": "2021-12-10T16:09:41.939622Z",
     "iopub.status.idle": "2021-12-10T16:09:41.970332Z",
     "shell.execute_reply": "2021-12-10T16:09:41.969243Z",
     "shell.execute_reply.started": "2021-12-10T16:09:41.940169Z"
    }
   },
   "outputs": [],
   "source": [
    "# printing top 5 rows once again to check\n",
    "pd.options.display.max_columns = None\n",
    "pdData.head()"
   ]
  },
  {
   "cell_type": "code",
   "execution_count": null,
   "metadata": {
    "execution": {
     "iopub.execute_input": "2021-12-10T16:09:53.461454Z",
     "iopub.status.busy": "2021-12-10T16:09:53.461116Z",
     "iopub.status.idle": "2021-12-10T16:09:53.47892Z",
     "shell.execute_reply": "2021-12-10T16:09:53.478124Z",
     "shell.execute_reply.started": "2021-12-10T16:09:53.461416Z"
    }
   },
   "outputs": [],
   "source": [
    "# printing datatypes of each columns of the dataset\n",
    "\n",
    "print(\"\\033[1m*\"*100)\n",
    "print(\"a.\\nColumn_Names        Data_Types\")\n",
    "print(\"*\"*30)\n",
    "print(\"\\033[0m{0}\\033[1m\".format(pdData.dtypes))\n",
    "print(\"*\"*30)\n",
    "print()\n",
    "\n",
    "# printing No of Columns having different Types of Datatype\n",
    "\n",
    "print(\"*\"*100)\n",
    "print(\"b.\\nNumber of Columns with each DataTypes as follows :\")\n",
    "print(\"*\"*50)\n",
    "print(\"Column_Names     No_of_Columns\\033[0m\")\n",
    "print(\"*\"*30)\n",
    "print(pdData.dtypes.value_counts())\n",
    "print(\"\\033[1m*\"*30)\n",
    "print(\"\\033[0m\")\n",
    "\n",
    "# printing Different Column Names of the dataset\n",
    "\n",
    "print(\"\\033[1m*\"*100)\n",
    "print(\"c.\\nEach Column Names of the dataset\")\n",
    "print(\"*\"*80)\n",
    "print(\"\\033[0m{0}\\033[1m\".format(pdData.columns))\n",
    "print(\"*\"*80)\n",
    "print(\"\\033[0m\")"
   ]
  },
  {
   "cell_type": "markdown",
   "metadata": {},
   "source": [
    "After observing the dataset and column description given we can conclude the followings:\n",
    "\n",
    "\n",
    "Columns having only two datatypes, int64, float64. (column 'name' was object datatype which was set as index of the dataframe)\n",
    "\n",
    "Column 'status' is only having int64 datatype, remaining all columns datatype is float64.\n",
    "\n",
    "All columns except 'status' are Numeric column.\n",
    "\n",
    "Columns 'status' is Nominal Categorical column with binary response."
   ]
  },
  {
   "cell_type": "code",
   "execution_count": null,
   "metadata": {
    "execution": {
     "iopub.execute_input": "2021-12-10T16:10:25.008967Z",
     "iopub.status.busy": "2021-12-10T16:10:25.008652Z",
     "iopub.status.idle": "2021-12-10T16:10:25.035312Z",
     "shell.execute_reply": "2021-12-10T16:10:25.03402Z",
     "shell.execute_reply.started": "2021-12-10T16:10:25.008936Z"
    }
   },
   "outputs": [],
   "source": [
    "# checking missing values in dataset for each attributes / columns \n",
    "\n",
    "print(\"\\033[1m*\"*100)\n",
    "print(\"Column_Name       No_of_Missing_Values\")\n",
    "print(\"*\"*50)\n",
    "print(\"\\033[0m{0}\".format(pdData.isnull().sum()))\n",
    "print(\"\\033[1m*\"*50)\n",
    "print()\n",
    "\n",
    "# checking if any duplicate rows available in the dataset\n",
    "\n",
    "print(\"*\"*100)\n",
    "print(\"Showing Duplicate rows if any in the dataset: \")\n",
    "print(\"*\"*50)\n",
    "print(\"\\033[0m{0}\".format(pdData[pdData.duplicated()]))\n",
    "print(\"\\033[1m*\"*100)\n",
    "print(\"\\033[0m\")"
   ]
  },
  {
   "cell_type": "markdown",
   "metadata": {},
   "source": [
    "As shown above,\n",
    "        (a.) There are no missing values\n",
    "and (b.) No duplicate rows in the given dataset"
   ]
  },
  {
   "cell_type": "code",
   "execution_count": null,
   "metadata": {
    "execution": {
     "iopub.execute_input": "2021-12-10T16:10:45.393242Z",
     "iopub.status.busy": "2021-12-10T16:10:45.392893Z",
     "iopub.status.idle": "2021-12-10T16:10:45.465986Z",
     "shell.execute_reply": "2021-12-10T16:10:45.465311Z",
     "shell.execute_reply.started": "2021-12-10T16:10:45.393202Z"
    }
   },
   "outputs": [],
   "source": [
    "# Five point summary of each attribute\n",
    "pdData.describe().T"
   ]
  },
  {
   "cell_type": "code",
   "execution_count": null,
   "metadata": {
    "execution": {
     "iopub.execute_input": "2021-12-10T16:10:53.434078Z",
     "iopub.status.busy": "2021-12-10T16:10:53.43279Z",
     "iopub.status.idle": "2021-12-10T16:10:53.445596Z",
     "shell.execute_reply": "2021-12-10T16:10:53.444696Z",
     "shell.execute_reply.started": "2021-12-10T16:10:53.434011Z"
    }
   },
   "outputs": [],
   "source": [
    "# checking skewness of the data\n",
    "pdData.skew().sort_values(ascending=False)"
   ]
  },
  {
   "cell_type": "markdown",
   "metadata": {},
   "source": [
    "As from above we understand the following:\n",
    "\n",
    "Independent variables are measured in different units e.g. Hz, dB, % and absoulute etc i.e variation in units of data exists and gap between feature values extreamly high. Requires data scalling techniques to scale different quantities of measurements.\n",
    "Symmetrical distribution : Values close to 0 MDVP:Fo(Hz) spread1 spread2 PPE\n",
    "Negative skewness and Tail is larger towards the left hand side of the distribution HNR status RPDE DFA\n",
    "Positive skewness and Tail is larger towards the Right hand side of the distribution All other attributes have a very high distribution towards right of the median"
   ]
  },
  {
   "cell_type": "markdown",
   "metadata": {},
   "source": [
    "Using univariate & bivariate analysis to check the individual attributes for their basic statistics such as central values, spread, tails, relationships between variables etc. mention your observations (15 points)"
   ]
  },
  {
   "cell_type": "markdown",
   "metadata": {},
   "source": [
    "A. 'mdvp_fo_hz' attribute : (MDVP:Fo(Hz) - Average vocal fundamental frequency )"
   ]
  },
  {
   "cell_type": "code",
   "execution_count": null,
   "metadata": {
    "execution": {
     "iopub.execute_input": "2021-12-10T16:12:04.062304Z",
     "iopub.status.busy": "2021-12-10T16:12:04.061575Z",
     "iopub.status.idle": "2021-12-10T16:12:04.389723Z",
     "shell.execute_reply": "2021-12-10T16:12:04.388744Z",
     "shell.execute_reply.started": "2021-12-10T16:12:04.062248Z"
    }
   },
   "outputs": [],
   "source": [
    "feature = 'mdvp_fo_hz'\n",
    "meanData = 'Mean : ' + str(round(pdData[feature].mean(),4))        # variable to contain mean of the attribute\n",
    "skewData = 'Skewness : ' + str(round(pdData[feature].skew(),4))    # variable to contain skewness of the attribute\n",
    "plt.figure(figsize=(10,5))                                         # setting figure size with width = 10 and height = 5\n",
    "fig = sns.distplot(pdData[feature], bins=30, kde=True)             # seaborn distplot to examine distribution of the feature\n",
    "plt.title(\"Distribution of feature : \"+feature+\" having \"+meanData+\" and \"+skewData)   # setting title of the figure\n",
    "plt.show()"
   ]
  },
  {
   "cell_type": "markdown",
   "metadata": {},
   "source": [
    "From above we can understand the following about Average vocal fundamental frequency (mdvp_fo_hz) attribute of the dataset:\n",
    "\n",
    "Mean value of the attribute is 154.2286 with skewness of 0.5917, which shows that the datapoints of the attribute is slightly right / positive skewed.\n",
    "Maximum datapoints are ranging from 110 to 130 Hz."
   ]
  },
  {
   "cell_type": "code",
   "execution_count": null,
   "metadata": {
    "execution": {
     "iopub.execute_input": "2021-12-10T16:12:38.696814Z",
     "iopub.status.busy": "2021-12-10T16:12:38.696492Z",
     "iopub.status.idle": "2021-12-10T16:12:39.310264Z",
     "shell.execute_reply": "2021-12-10T16:12:39.309281Z",
     "shell.execute_reply.started": "2021-12-10T16:12:38.696766Z"
    }
   },
   "outputs": [],
   "source": [
    "plt.figure(figsize=(10,5))                                         # setting figure size with width = 10 and height = 5\n",
    "# seaborn distplot to examine distribution of the feature of healthy patient\n",
    "fig = sns.distplot(pdData[pdData['status'] == 0][feature], bins=30, kde=True, label='Healthy')\n",
    "# seaborn distplot to examine distribution of the feature of Parkinson's patient\n",
    "fig = sns.distplot(pdData[pdData['status'] == 1][feature], bins=30, kde=True, label='Parkinson\\'s')\n",
    "plt.legend()\n",
    "plt.title(\"Distribution of feature : \"+feature)                    # setting title of the figure\n",
    "plt.show()"
   ]
  },
  {
   "cell_type": "markdown",
   "metadata": {},
   "source": [
    "From the above we can observe that, most of the patients with Parkinson's disease have Average vocal fundamental frequency (mdvp_fo_hz) between 90 to 190 hz. Even though some of healthy patients have Average vocal fundamental frequency between 110-130 Hz and 170-180 Hz.\n",
    "\n",
    "Lets bucket Average vocal fundamental frequency (mdvp_fo_hz) and check w.r.t the different status i.e Healthy or Parkinson's:"
   ]
  },
  {
   "cell_type": "code",
   "execution_count": null,
   "metadata": {
    "execution": {
     "iopub.execute_input": "2021-12-10T16:13:07.084279Z",
     "iopub.status.busy": "2021-12-10T16:13:07.083931Z",
     "iopub.status.idle": "2021-12-10T16:13:07.431598Z",
     "shell.execute_reply": "2021-12-10T16:13:07.430693Z",
     "shell.execute_reply.started": "2021-12-10T16:13:07.08424Z"
    }
   },
   "outputs": [],
   "source": [
    "bins = [50,100,150,200,250,300]                                         # defining mdvp_fo_hz bins,\n",
    "# defining labels of mdvp_fo_hz groups as per bins defined as above\n",
    "mdvp_fo_hz_group = ['mdvp_fo_hz : 50-100', 'mdvp_fo_hz : 100-150', 'mdvp_fo_hz : 150-200', 'mdvp_fo_hz : 200-250', 'mdvp_fo_hz : 250-300']\n",
    "pdData_mdvp_fo_hz_bin = pd.cut(pdData.mdvp_fo_hz,bins,labels=mdvp_fo_hz_group)  # segmenting data as per bins defined\n",
    "\n",
    "# putting into pandas crosstab and applying lambda function to take percentage and assigning to mdvp_fo_hz_group_col variable\n",
    "mdvp_fo_hz_group_col = pd.crosstab(pdData_mdvp_fo_hz_bin,pdData.status).apply(lambda r: r/r.sum()*100, axis=1)\n",
    "print(mdvp_fo_hz_group_col)                                                    # printing above crosstab\n",
    "\n",
    "# plotting a stacked bar chart to show PD status for different mdvp_fo_hz group\n",
    "mdvp_fo_hz_group_col.div(mdvp_fo_hz_group_col.sum(1).astype(float), axis=0).plot(kind='bar',stacked=True)\n",
    "plt.title(\"PD status with different mdvp_fo_hz group\")                     # setting title of the figure"
   ]
  },
  {
   "cell_type": "markdown",
   "metadata": {},
   "source": [
    "We can find out the following from the above crosstab:\n",
    "All the patient with Average vocal fundamental frequency (mdvp_fo_hz) group between 50-100 are having Parkinson's disease.\n",
    "Average vocal fundamental frequency (mdvp_fo_hz) group between 150-200 having second higest Parkinson's patient with percentage of 88.525, followed by Average vocal fundamental frequency (mdvp_fo_hz) group between 100-150 having Parkinson's patient with percentage of 80.435 .\n",
    "Average vocal fundamental frequency (mdvp_fo_hz) group between 200-250 having Healthy patient with percentage of 65.625 .\n",
    "All the patient with Average vocal fundamental frequency (mdvp_fo_hz) group between 250-300 are Healthy.\n",
    "\n",
    "Let's check outliers for the attribute :"
   ]
  },
  {
   "cell_type": "code",
   "execution_count": null,
   "metadata": {
    "execution": {
     "iopub.execute_input": "2021-12-10T16:13:27.529833Z",
     "iopub.status.busy": "2021-12-10T16:13:27.528859Z",
     "iopub.status.idle": "2021-12-10T16:13:27.711735Z",
     "shell.execute_reply": "2021-12-10T16:13:27.710755Z",
     "shell.execute_reply.started": "2021-12-10T16:13:27.529766Z"
    }
   },
   "outputs": [],
   "source": [
    "ax = sns.boxplot(x=pdData[feature])        # seaborn boxplot to examine outliers of the feature"
   ]
  },
  {
   "cell_type": "markdown",
   "metadata": {},
   "source": [
    "There are no outliers presnt in the 'mdvp_fo_hz' feature / attribute as we can see from above boxplot.\n",
    "\n",
    "Now will check if any outliers present for different target attributes i.e 'status'"
   ]
  },
  {
   "cell_type": "code",
   "execution_count": null,
   "metadata": {
    "execution": {
     "iopub.execute_input": "2021-12-10T16:13:45.561671Z",
     "iopub.status.busy": "2021-12-10T16:13:45.561279Z",
     "iopub.status.idle": "2021-12-10T16:13:45.796367Z",
     "shell.execute_reply": "2021-12-10T16:13:45.795323Z",
     "shell.execute_reply.started": "2021-12-10T16:13:45.56163Z"
    }
   },
   "outputs": [],
   "source": [
    "sns.boxplot(x=pdData['status'],y=pdData[feature]) "
   ]
  },
  {
   "cell_type": "markdown",
   "metadata": {},
   "source": [
    "From above, it is observed there are no outliers present in mdvp_fo_hz attribute for different 'status' attributes."
   ]
  },
  {
   "cell_type": "markdown",
   "metadata": {},
   "source": [
    "B. 'mdvp_fhi_hz' attribute : (MDVP:Fhi(Hz) - Maximum vocal fundamental frequency )"
   ]
  },
  {
   "cell_type": "code",
   "execution_count": null,
   "metadata": {
    "execution": {
     "iopub.execute_input": "2021-12-10T16:14:15.770735Z",
     "iopub.status.busy": "2021-12-10T16:14:15.770172Z",
     "iopub.status.idle": "2021-12-10T16:14:16.088471Z",
     "shell.execute_reply": "2021-12-10T16:14:16.087473Z",
     "shell.execute_reply.started": "2021-12-10T16:14:15.770689Z"
    }
   },
   "outputs": [],
   "source": [
    "feature = 'mdvp_fhi_hz'\n",
    "meanData = 'Mean : ' + str(round(pdData[feature].mean(),4))        # variable to contain mean of the attribute\n",
    "skewData = 'Skewness : ' + str(round(pdData[feature].skew(),4))    # variable to contain skewness of the attribute\n",
    "plt.figure(figsize=(10,5))                                         # setting figure size with width = 10 and height = 5\n",
    "fig = sns.distplot(pdData[feature], bins=30, kde=True)             # seaborn distplot to examine distribution of the feature\n",
    "plt.title(\"Distribution of feature : \"+feature+\" having \"+meanData+\" and \"+skewData)   # setting title of the figure\n",
    "plt.show()"
   ]
  },
  {
   "cell_type": "markdown",
   "metadata": {},
   "source": [
    "From above we can understand the following about Maximum vocal fundamental frequency (mdvp_fhi_hz) attribute of the dataset:\n",
    "\n",
    "Mean value of the attribute is 197.1049 with skewness of 2.5421, which shows that the datapoints of the attribute is highly right / positive skewed.\n",
    "Maximum datapoints are ranging from 100 to 260 Hz."
   ]
  },
  {
   "cell_type": "code",
   "execution_count": null,
   "metadata": {
    "execution": {
     "iopub.execute_input": "2021-12-10T16:14:33.871997Z",
     "iopub.status.busy": "2021-12-10T16:14:33.871421Z",
     "iopub.status.idle": "2021-12-10T16:14:34.301729Z",
     "shell.execute_reply": "2021-12-10T16:14:34.300826Z",
     "shell.execute_reply.started": "2021-12-10T16:14:33.871892Z"
    }
   },
   "outputs": [],
   "source": [
    "plt.figure(figsize=(10,5))                                         # setting figure size with width = 10 and height = 5\n",
    "# seaborn distplot to examine distribution of the feature of healthy patient\n",
    "fig = sns.distplot(pdData[pdData['status'] == 0][feature], bins=30, kde=True, label='Healthy')\n",
    "# seaborn distplot to examine distribution of the feature of Parkinson's patient\n",
    "fig = sns.distplot(pdData[pdData['status'] == 1][feature], bins=30, kde=True, label='Parkinson\\'s')\n",
    "plt.legend()\n",
    "plt.title(\"Distribution of feature : \"+feature)                    # setting title of the figure\n",
    "plt.show()"
   ]
  },
  {
   "cell_type": "markdown",
   "metadata": {},
   "source": [
    "From the above we can observe that, most of the patients with Parkinson's disease have Maximum vocal fundamental frequency (mdvp_fhi_hz) between 100 to 210 hz.\n",
    "\n",
    "Lets bucket Maximum vocal fundamental frequency (mdvp_fhi_hz) and check w.r.t the different status i.e Healthy or Parkinson's:"
   ]
  },
  {
   "cell_type": "code",
   "execution_count": null,
   "metadata": {
    "execution": {
     "iopub.execute_input": "2021-12-10T16:14:55.853775Z",
     "iopub.status.busy": "2021-12-10T16:14:55.852864Z",
     "iopub.status.idle": "2021-12-10T16:14:56.164143Z",
     "shell.execute_reply": "2021-12-10T16:14:56.16339Z",
     "shell.execute_reply.started": "2021-12-10T16:14:55.853727Z"
    }
   },
   "outputs": [],
   "source": [
    "bins = [100,200,300,400,500,600]                                         # defining mdvp_fhi_hz bins,\n",
    "# defining labels of mdvp_fhi_hz groups as per bins defined as above\n",
    "mdvp_fhi_hz_group = ['mdvp_fhi_hz : 100-200', 'mdvp_fhi_hz : 200-300', 'mdvp_fhi_hz : 300-400', 'mdvp_fhi_hz : 400-500',\n",
    "                     'mdvp_fhi_hz : 500-600']\n",
    "pdData_mdvp_fhi_hz_bin = pd.cut(pdData[feature],bins,labels=mdvp_fhi_hz_group)  # segmenting data as per bins defined\n",
    "\n",
    "# putting into pandas crosstab and applying lambda function to take percentage and assigning to mdvp_fhi_hz_group_col variable\n",
    "mdvp_fhi_hz_group_col = pd.crosstab(pdData_mdvp_fhi_hz_bin,pdData.status).apply(lambda r: r/r.sum()*100, axis=1)\n",
    "print(mdvp_fhi_hz_group_col)                                                    # printing above crosstab\n",
    "\n",
    "# plotting a stacked bar chart to show PD status for different mdvp_fo_hz group\n",
    "mdvp_fhi_hz_group_col.div(mdvp_fhi_hz_group_col.sum(1).astype(float), axis=0).plot(kind='bar',stacked=True)\n",
    "plt.title(\"PD status with different mdvp_fhi_hz group\")                     # setting title of the figure"
   ]
  },
  {
   "cell_type": "markdown",
   "metadata": {},
   "source": [
    "We can find out the following from the above crosstab:\n",
    "All the patients with Maximum vocal fundamental frequency (mdvp_fhi_hz) group between 400-500 are having Parkinson's disease.\n",
    "Maximum vocal fundamental frequency (mdvp_fhi_hz) group between 100-200 having second highest Parkinson's patient with percentage of 87.069, followed by Maximum vocal fundamental frequency (mdvp_fhi_hz) group between 500-600 having Parkinson's patient with percentage of 60.000 .\n",
    "Maximum vocal fundamental frequency (mdvp_fhi_hz) group between 200-300 having Parkinson's patient with percentage of 55.224 .\n",
    "Exactly half of the patients are from Maximum vocal fundamental frequency (mdvp_fhi_hz) group between 300-400 are Healthy.\n",
    "\n",
    "Let's check outliers for the attribute :"
   ]
  },
  {
   "cell_type": "code",
   "execution_count": null,
   "metadata": {
    "execution": {
     "iopub.execute_input": "2021-12-10T16:15:16.862069Z",
     "iopub.status.busy": "2021-12-10T16:15:16.861699Z",
     "iopub.status.idle": "2021-12-10T16:15:17.048812Z",
     "shell.execute_reply": "2021-12-10T16:15:17.048079Z",
     "shell.execute_reply.started": "2021-12-10T16:15:16.862024Z"
    }
   },
   "outputs": [],
   "source": [
    "ax = sns.boxplot(x=pdData[feature])        # seaborn boxplot to examine outliers of the feature"
   ]
  },
  {
   "cell_type": "markdown",
   "metadata": {},
   "source": [
    "In the 'mdvp_fhi_hz' attribute some outliers are present, let's check for the same :"
   ]
  },
  {
   "cell_type": "code",
   "execution_count": null,
   "metadata": {
    "execution": {
     "iopub.execute_input": "2021-12-10T16:15:36.81264Z",
     "iopub.status.busy": "2021-12-10T16:15:36.812149Z",
     "iopub.status.idle": "2021-12-10T16:15:36.828921Z",
     "shell.execute_reply": "2021-12-10T16:15:36.827707Z",
     "shell.execute_reply.started": "2021-12-10T16:15:36.812605Z"
    }
   },
   "outputs": [],
   "source": [
    "Q1 = pdData[feature].quantile(0.25)        # evaluating lower / first quartile\n",
    "Q3 = pdData[feature].quantile(0.75)        # evaluating upper / third quartile\n",
    "IQR = Q3 - Q1                              # evaluating Inter Quartile Range i.e IQR\n",
    "'''\n",
    "finding outliers which are mild outliers (Lower quartile - 1.5 times IQR) or\n",
    "extreme outliers (Upper quartile + 1.5 times IQR)\n",
    "'''\n",
    "outliers = pdData[((pdData[feature] < (Q1 - 1.5 * IQR)) |(pdData[feature] > (Q3 + 1.5 * IQR)))][feature]\n",
    "\n",
    "print(\"*\"*125)\n",
    "# printing mean, median and IQR for the feature\n",
    "print(\"\\033[1mFeature {0} : Mean = {1}, Median = {2} and Inter-Quartile-Range (IQR) = {3}\\033[0m\"\n",
    "      .format(feature,round(np.mean(pdData[feature]),3),round(np.median(pdData[feature]),3),round(IQR,3))\n",
    "     )\n",
    "print()\n",
    "print(\"*\"*125)\n",
    "# printing No of outliers, percentage of the data points are outliers and the values of the outliers\n",
    "print(\"There are \\033[1m{0} outliers\\033[0m ({1} % of the data points) in \\033[1m{2}\\033[0m feature and the values are \\033[1m{3}\\033[0m\"\n",
    ".format(outliers.shape[0],round(((outliers.shape[0]/pdData[feature].shape[0])*100),3),feature,outliers.tolist()))\n",
    "print(\"*\"*125)"
   ]
  },
  {
   "cell_type": "markdown",
   "metadata": {},
   "source": [
    "Now will check if any outliers present for different target attributes i.e 'status'"
   ]
  },
  {
   "cell_type": "code",
   "execution_count": null,
   "metadata": {
    "execution": {
     "iopub.execute_input": "2021-12-10T16:15:57.4042Z",
     "iopub.status.busy": "2021-12-10T16:15:57.403632Z",
     "iopub.status.idle": "2021-12-10T16:15:57.626064Z",
     "shell.execute_reply": "2021-12-10T16:15:57.624999Z",
     "shell.execute_reply.started": "2021-12-10T16:15:57.404147Z"
    }
   },
   "outputs": [],
   "source": [
    "sns.boxplot(x=pdData['status'],y=pdData[feature]) "
   ]
  },
  {
   "cell_type": "markdown",
   "metadata": {},
   "source": [
    "From above, it is observed that for 'mdvp_fhi_hz' attribute patients with Parkinson's disease have more outliers than Healthy patients."
   ]
  },
  {
   "cell_type": "markdown",
   "metadata": {},
   "source": [
    "C. 'mdvp_flo_hz' attribute : (MDVP:Flo(Hz) - Minimum vocal fundamental frequency )"
   ]
  },
  {
   "cell_type": "code",
   "execution_count": null,
   "metadata": {
    "execution": {
     "iopub.execute_input": "2021-12-10T16:16:30.360406Z",
     "iopub.status.busy": "2021-12-10T16:16:30.360021Z",
     "iopub.status.idle": "2021-12-10T16:16:30.664742Z",
     "shell.execute_reply": "2021-12-10T16:16:30.663747Z",
     "shell.execute_reply.started": "2021-12-10T16:16:30.360363Z"
    }
   },
   "outputs": [],
   "source": [
    "feature = 'mdvp_flo_hz'\n",
    "meanData = 'Mean : ' + str(round(pdData[feature].mean(),4))        # variable to contain mean of the attribute\n",
    "skewData = 'Skewness : ' + str(round(pdData[feature].skew(),4))    # variable to contain skewness of the attribute\n",
    "plt.figure(figsize=(10,5))                                         # setting figure size with width = 10 and height = 5\n",
    "fig = sns.distplot(pdData[feature], bins=30, kde=True)             # seaborn distplot to examine distribution of the feature\n",
    "plt.title(\"Distribution of feature : \"+feature+\" having \"+meanData+\" and \"+skewData)   # setting title of the figure\n",
    "plt.show()"
   ]
  },
  {
   "cell_type": "markdown",
   "metadata": {},
   "source": [
    "From above we can understand the following about Minimum vocal fundamental frequency (mdvp_flo_hz) attribute of the dataset:\n",
    "\n",
    "Mean value of the attribute is 116.3246 with skewness of 1.2174, which shows that the datapoints of the attribute is highly right / positive skewed.\n",
    "Maximum datapoints are ranging from 65 to 120 Hz."
   ]
  },
  {
   "cell_type": "code",
   "execution_count": null,
   "metadata": {
    "execution": {
     "iopub.execute_input": "2021-12-10T16:16:48.13613Z",
     "iopub.status.busy": "2021-12-10T16:16:48.135753Z",
     "iopub.status.idle": "2021-12-10T16:16:48.552416Z",
     "shell.execute_reply": "2021-12-10T16:16:48.551204Z",
     "shell.execute_reply.started": "2021-12-10T16:16:48.136091Z"
    }
   },
   "outputs": [],
   "source": [
    "plt.figure(figsize=(10,5))                                         # setting figure size with width = 10 and height = 5\n",
    "# seaborn distplot to examine distribution of the feature of healthy patient\n",
    "fig = sns.distplot(pdData[pdData['status'] == 0][feature], bins=30, kde=True, label='Healthy')\n",
    "# seaborn distplot to examine distribution of the feature of Parkinson's patient\n",
    "fig = sns.distplot(pdData[pdData['status'] == 1][feature], bins=30, kde=True, label='Parkinson\\'s')\n",
    "plt.legend()\n",
    "plt.title(\"Distribution of feature : \"+feature)                    # setting title of the figure\n",
    "plt.show()"
   ]
  },
  {
   "cell_type": "markdown",
   "metadata": {},
   "source": [
    "From the above we can observe that, most of the patients with Parkinson's disease have Minimum vocal fundamental frequency (mdvp_flo_hz) between 60 to 110 hz.\n",
    "\n",
    "Lets bucket Minimum vocal fundamental frequency (mdvp_flo_hz) and check w.r.t the different status i.e Healthy or Parkinson's:"
   ]
  },
  {
   "cell_type": "code",
   "execution_count": null,
   "metadata": {
    "execution": {
     "iopub.execute_input": "2021-12-10T16:17:08.152107Z",
     "iopub.status.busy": "2021-12-10T16:17:08.151568Z",
     "iopub.status.idle": "2021-12-10T16:17:08.460715Z",
     "shell.execute_reply": "2021-12-10T16:17:08.459781Z",
     "shell.execute_reply.started": "2021-12-10T16:17:08.152061Z"
    }
   },
   "outputs": [],
   "source": [
    "bins = [50,100,150,200,250]                                         # defining mdvp_flo_hz bins,\n",
    "# defining labels of mdvp_flo_hz groups as per bins defined as above\n",
    "mdvp_flo_hz_group = ['mdvp_flo_hz : 50-100', 'mdvp_flo_hz : 100-150', 'mdvp_flo_hz : 150-200', 'mdvp_flo_hz : 200-250']\n",
    "pdData_mdvp_flo_hz_bin = pd.cut(pdData[feature],bins,labels=mdvp_flo_hz_group)  # segmenting data as per bins defined\n",
    "\n",
    "# putting into pandas crosstab and applying lambda function to take percentage and assigning to mdvp_flo_hz_group_col variable\n",
    "mdvp_flo_hz_group_col = pd.crosstab(pdData_mdvp_flo_hz_bin,pdData.status).apply(lambda r: r/r.sum()*100, axis=1)\n",
    "print(mdvp_flo_hz_group_col)                                                    # printing above crosstab\n",
    "\n",
    "# plotting a stacked bar chart to show PD status for different mdvp_fo_hz group\n",
    "mdvp_flo_hz_group_col.div(mdvp_flo_hz_group_col.sum(1).astype(float), axis=0).plot(kind='bar',stacked=True)\n",
    "plt.title(\"PD status with different mdvp_flo_hz group\")                     # setting title of the figure"
   ]
  },
  {
   "cell_type": "markdown",
   "metadata": {},
   "source": [
    "We can find out the following from the above crosstab:\n",
    "Minimum vocal fundamental frequency (mdvp_flo_hz) group between 50-100 are having highest Parkinson's patients with percentage of 83.146 .\n",
    "Minimum vocal fundamental frequency (mdvp_flo_hz) group between 100-150 having second higest Parkinson's patient with percentage of 80.000, followed by Minimum vocal fundamental frequency (mdvp_flo_hz) group between 150-200 having Parkinson's patient with percentage of 70.833 .\n",
    "All the patient from Minimum vocal fundamental frequency (mdvp_flo_hz) group between 200-250 are Healthy patient.\n",
    "\n",
    "Let's check outliers for the attribute :"
   ]
  },
  {
   "cell_type": "code",
   "execution_count": null,
   "metadata": {
    "execution": {
     "iopub.execute_input": "2021-12-10T16:17:26.881066Z",
     "iopub.status.busy": "2021-12-10T16:17:26.880692Z",
     "iopub.status.idle": "2021-12-10T16:17:27.064831Z",
     "shell.execute_reply": "2021-12-10T16:17:27.063134Z",
     "shell.execute_reply.started": "2021-12-10T16:17:26.881016Z"
    }
   },
   "outputs": [],
   "source": [
    "ax = sns.boxplot(x=pdData[feature])        # seaborn boxplot to examine outliers of the feature"
   ]
  },
  {
   "cell_type": "markdown",
   "metadata": {},
   "source": [
    "**In the 'mdvp_flo_hz' attribute some outliers are present, let's check for the same :**"
   ]
  },
  {
   "cell_type": "code",
   "execution_count": null,
   "metadata": {
    "execution": {
     "iopub.execute_input": "2021-12-10T16:17:57.710277Z",
     "iopub.status.busy": "2021-12-10T16:17:57.709965Z",
     "iopub.status.idle": "2021-12-10T16:17:57.728848Z",
     "shell.execute_reply": "2021-12-10T16:17:57.727896Z",
     "shell.execute_reply.started": "2021-12-10T16:17:57.710245Z"
    }
   },
   "outputs": [],
   "source": [
    "Q1 = pdData[feature].quantile(0.25)        # evaluating lower / first quartile\n",
    "Q3 = pdData[feature].quantile(0.75)        # evaluating upper / third quartile\n",
    "IQR = Q3 - Q1                              # evaluating Inter Quartile Range i.e IQR\n",
    "'''\n",
    "finding outliers which are mild outliers (Lower quartile - 1.5 times IQR) or\n",
    "extreme outliers (Upper quartile + 1.5 times IQR)\n",
    "'''\n",
    "outliers = pdData[((pdData[feature] < (Q1 - 1.5 * IQR)) |(pdData[feature] > (Q3 + 1.5 * IQR)))][feature]\n",
    "\n",
    "print(\"*\"*125)\n",
    "# printing mean, median and IQR for the feature\n",
    "print(\"\\033[1mFeature {0} : Mean = {1}, Median = {2} and Inter-Quartile-Range (IQR) = {3}\\033[0m\"\n",
    "      .format(feature,round(np.mean(pdData[feature]),3),round(np.median(pdData[feature]),3),round(IQR,3))\n",
    "     )\n",
    "print()\n",
    "print(\"*\"*125)\n",
    "# printing No of outliers, percentage of the data points are outliers and the values of the outliers\n",
    "print(\"There are \\033[1m{0} outliers\\033[0m ({1} % of the data points) in \\033[1m{2}\\033[0m feature and the values are \\033[1m{3}\\033[0m\"\n",
    ".format(outliers.shape[0],round(((outliers.shape[0]/pdData[feature].shape[0])*100),3),feature,outliers.tolist()))\n",
    "print(\"*\"*125)"
   ]
  },
  {
   "cell_type": "markdown",
   "metadata": {},
   "source": [
    "Now will check if any outliers present for different target attributes i.e 'status'"
   ]
  },
  {
   "cell_type": "code",
   "execution_count": null,
   "metadata": {
    "execution": {
     "iopub.execute_input": "2021-12-10T16:18:13.972134Z",
     "iopub.status.busy": "2021-12-10T16:18:13.971792Z",
     "iopub.status.idle": "2021-12-10T16:18:14.187409Z",
     "shell.execute_reply": "2021-12-10T16:18:14.186283Z",
     "shell.execute_reply.started": "2021-12-10T16:18:13.972098Z"
    }
   },
   "outputs": [],
   "source": [
    "sns.boxplot(x=pdData['status'],y=pdData[feature]) "
   ]
  },
  {
   "cell_type": "markdown",
   "metadata": {},
   "source": [
    "From above, it is observed that for 'mdvp_flo_hz' attribute w.r.t different target attribute status i.e Healthy or Parkinson's there are no outliers but combining datapoints are having outliers. Reason for this is patients with Parkinson's disease have lower Minimum vocal fundamental frequency whereas Healthy patients have higher Minimum vocal fundamental frequency as we can deduce from the above boxplot."
   ]
  },
  {
   "cell_type": "markdown",
   "metadata": {},
   "source": [
    "D. 'mdvp_jitter_in_percent' attribute : (MDVP:Jitter(%) - One of the measure of variation in fundamental frequency )"
   ]
  },
  {
   "cell_type": "code",
   "execution_count": null,
   "metadata": {
    "execution": {
     "iopub.execute_input": "2021-12-10T16:18:59.386875Z",
     "iopub.status.busy": "2021-12-10T16:18:59.386557Z",
     "iopub.status.idle": "2021-12-10T16:18:59.67666Z",
     "shell.execute_reply": "2021-12-10T16:18:59.675608Z",
     "shell.execute_reply.started": "2021-12-10T16:18:59.386841Z"
    }
   },
   "outputs": [],
   "source": [
    "feature = 'mdvp_jitter_in_percent'\n",
    "meanData = 'Mean : ' + str(round(pdData[feature].mean(),4))        # variable to contain mean of the attribute\n",
    "skewData = 'Skewness : ' + str(round(pdData[feature].skew(),4))    # variable to contain skewness of the attribute\n",
    "plt.figure(figsize=(10,5))                                         # setting figure size with width = 10 and height = 5\n",
    "fig = sns.distplot(pdData[feature], bins=30, kde=True)             # seaborn distplot to examine distribution of the feature\n",
    "plt.title(\"Distribution of feature : \"+feature+\" having \"+meanData+\" and \"+skewData)   # setting title of the figure\n",
    "plt.show()"
   ]
  },
  {
   "cell_type": "markdown",
   "metadata": {},
   "source": [
    "From above we can understand the following about mdvp_jitter_in_percent (MDVP:Jitter(%)) attribute of the dataset:\n",
    "\n",
    "Mean value of the attribute is 0.0062 with skewness of 3.0849, which shows that the datapoints of the attribute is highly right / positive skewed.\n",
    "Maximum datapoints are ranging from 0.001 to 0.007."
   ]
  },
  {
   "cell_type": "code",
   "execution_count": null,
   "metadata": {
    "execution": {
     "iopub.execute_input": "2021-12-10T16:19:18.699259Z",
     "iopub.status.busy": "2021-12-10T16:19:18.698942Z",
     "iopub.status.idle": "2021-12-10T16:19:19.130909Z",
     "shell.execute_reply": "2021-12-10T16:19:19.129918Z",
     "shell.execute_reply.started": "2021-12-10T16:19:18.699226Z"
    }
   },
   "outputs": [],
   "source": [
    "plt.figure(figsize=(10,5))                                         # setting figure size with width = 10 and height = 5\n",
    "# seaborn distplot to examine distribution of the feature of healthy patient\n",
    "fig = sns.distplot(pdData[pdData['status'] == 0][feature], bins=30, kde=True, label='Healthy')\n",
    "# seaborn distplot to examine distribution of the feature of Parkinson's patient\n",
    "fig = sns.distplot(pdData[pdData['status'] == 1][feature], bins=30, kde=True, label='Parkinson\\'s')\n",
    "plt.legend()\n",
    "plt.title(\"Distribution of feature : \"+feature)                    # setting title of the figure\n",
    "plt.show()"
   ]
  },
  {
   "cell_type": "markdown",
   "metadata": {},
   "source": [
    "From the above we can observe that, patients with mdvp_jitter_in_percent (MDVP:Jitter(%)) values greater than 0.005 are more likly to have Parkinson's disease.\n",
    "\n",
    "Lets bucket mdvp_jitter_in_percent (MDVP:Jitter(%)) and check w.r.t the different status i.e Healthy or Parkinson's:"
   ]
  },
  {
   "cell_type": "code",
   "execution_count": null,
   "metadata": {
    "execution": {
     "iopub.execute_input": "2021-12-10T16:19:38.670592Z",
     "iopub.status.busy": "2021-12-10T16:19:38.670222Z",
     "iopub.status.idle": "2021-12-10T16:19:39.230763Z",
     "shell.execute_reply": "2021-12-10T16:19:39.229848Z",
     "shell.execute_reply.started": "2021-12-10T16:19:38.670551Z"
    }
   },
   "outputs": [],
   "source": [
    "bins = [0.001,0.005,0.010,0.015,0.020,0.025,0.030,0.035]                                         # defining mdvp_jitter_in_percent bins,\n",
    "# defining labels of mdvp_jitter_in_percent groups as per bins defined as above\n",
    "mdvp_jitter_in_percent_group = ['0.001-0.005', '0.005-0.010', '0.010-0.015', '0.015-0.020', '0.020-0.025', '0.025-0.030',\n",
    "                                '0.030-0.035']\n",
    "pdData_mdvp_jitter_in_percent_bin = pd.cut(pdData[feature],bins,labels=mdvp_jitter_in_percent_group)  # segmenting data as per bins defined\n",
    "\n",
    "# putting into pandas crosstab and applying lambda function to take percentage and assigning to mdvp_jitter_in_percent_group_col variable\n",
    "mdvp_jitter_in_percent_group_col = pd.crosstab(pdData_mdvp_jitter_in_percent_bin,pdData.status).apply(lambda r: r/r.sum()*100, axis=1)\n",
    "print(mdvp_jitter_in_percent_group_col)                                                    # printing above crosstab\n",
    "\n",
    "# plotting a stacked bar chart to show PD status for different mdvp_fo_hz group\n",
    "mdvp_jitter_in_percent_group_col.div(mdvp_jitter_in_percent_group_col.sum(1).astype(float), axis=0).plot(kind='bar',stacked=True)\n",
    "plt.title(\"PD status with different mdvp_jitter_in_percent group\")                     # setting title of the figure"
   ]
  },
  {
   "cell_type": "markdown",
   "metadata": {},
   "source": [
    "We can find out the following from the above crosstab:\n",
    "All the patients under mdvp_jitter_in_percent (MDVP:Jitter(%)) groups ranging from 0.015 have Parkinson's disease.\n",
    "mdvp_jitter_in_percent (MDVP:Jitter(%)) group between 0.005-0.010 having second higest Parkinson's patient with percentage of 89.189, followed by mdvp_jitter_in_percent (MDVP:Jitter(%)) group between 0.010-0.015 having Parkinson's patient with percentage of 87.500 .\n",
    "mdvp_jitter_in_percent (MDVP:Jitter(%)) group between 0.001-0.005 having Parkinson's patient with percentage of 61.765 .\n",
    "\n",
    "Let's check outliers for the attribute :"
   ]
  },
  {
   "cell_type": "code",
   "execution_count": null,
   "metadata": {
    "execution": {
     "iopub.execute_input": "2021-12-10T16:19:56.874451Z",
     "iopub.status.busy": "2021-12-10T16:19:56.873561Z",
     "iopub.status.idle": "2021-12-10T16:19:57.065286Z",
     "shell.execute_reply": "2021-12-10T16:19:57.064217Z",
     "shell.execute_reply.started": "2021-12-10T16:19:56.87439Z"
    }
   },
   "outputs": [],
   "source": [
    "ax = sns.boxplot(x=pdData[feature])        # seaborn boxplot to examine outliers of the feature"
   ]
  },
  {
   "cell_type": "markdown",
   "metadata": {},
   "source": [
    "In the 'mdvp_jitter_in_percent' attribute some outliers are present, let's check for the same :"
   ]
  },
  {
   "cell_type": "code",
   "execution_count": null,
   "metadata": {
    "execution": {
     "iopub.execute_input": "2021-12-10T16:20:22.609473Z",
     "iopub.status.busy": "2021-12-10T16:20:22.60917Z",
     "iopub.status.idle": "2021-12-10T16:20:22.626556Z",
     "shell.execute_reply": "2021-12-10T16:20:22.625474Z",
     "shell.execute_reply.started": "2021-12-10T16:20:22.609442Z"
    }
   },
   "outputs": [],
   "source": [
    "Q1 = pdData[feature].quantile(0.25)        # evaluating lower / first quartile\n",
    "Q3 = pdData[feature].quantile(0.75)        # evaluating upper / third quartile\n",
    "IQR = Q3 - Q1                              # evaluating Inter Quartile Range i.e IQR\n",
    "'''\n",
    "finding outliers which are mild outliers (Lower quartile - 1.5 times IQR) or\n",
    "extreme outliers (Upper quartile + 1.5 times IQR)\n",
    "'''\n",
    "outliers = pdData[((pdData[feature] < (Q1 - 1.5 * IQR)) |(pdData[feature] > (Q3 + 1.5 * IQR)))][feature]\n",
    "\n",
    "print(\"*\"*125)\n",
    "# printing mean, median and IQR for the feature\n",
    "print(\"\\033[1mFeature {0} : Mean = {1}, Median = {2} and Inter-Quartile-Range (IQR) = {3}\\033[0m\"\n",
    "      .format(feature,round(np.mean(pdData[feature]),3),round(np.median(pdData[feature]),3),round(IQR,3))\n",
    "     )\n",
    "print()\n",
    "print(\"*\"*125)\n",
    "# printing No of outliers, percentage of the data points are outliers and the values of the outliers\n",
    "print(\"There are \\033[1m{0} outliers\\033[0m ({1} % of the data points) in \\033[1m{2}\\033[0m feature and the values are \\033[1m{3}\\033[0m\"\n",
    ".format(outliers.shape[0],round(((outliers.shape[0]/pdData[feature].shape[0])*100),3),feature,outliers.tolist()))\n",
    "print(\"*\"*125)"
   ]
  },
  {
   "cell_type": "markdown",
   "metadata": {},
   "source": [
    "Now we will check if any outliers present for different target attributes i.e 'status'"
   ]
  },
  {
   "cell_type": "code",
   "execution_count": null,
   "metadata": {
    "execution": {
     "iopub.execute_input": "2021-12-10T16:20:40.616125Z",
     "iopub.status.busy": "2021-12-10T16:20:40.615194Z",
     "iopub.status.idle": "2021-12-10T16:20:40.827901Z",
     "shell.execute_reply": "2021-12-10T16:20:40.82693Z",
     "shell.execute_reply.started": "2021-12-10T16:20:40.616082Z"
    }
   },
   "outputs": [],
   "source": [
    "sns.boxplot(x=pdData['status'],y=pdData[feature]) "
   ]
  },
  {
   "cell_type": "markdown",
   "metadata": {},
   "source": [
    "From above, it is observed that for 'mdvp_jitter_in_percent' attribute patients with Parkinson's disease have more outliers than Healthy patients."
   ]
  },
  {
   "cell_type": "markdown",
   "metadata": {},
   "source": [
    "E. 'mdvp_jitter_abs' attribute : (MDVP:Jitter(Abs) - One of the measure of variation in fundamental frequency )"
   ]
  },
  {
   "cell_type": "code",
   "execution_count": null,
   "metadata": {
    "execution": {
     "iopub.execute_input": "2021-12-10T16:21:11.798424Z",
     "iopub.status.busy": "2021-12-10T16:21:11.798107Z",
     "iopub.status.idle": "2021-12-10T16:21:12.10388Z",
     "shell.execute_reply": "2021-12-10T16:21:12.102893Z",
     "shell.execute_reply.started": "2021-12-10T16:21:11.798392Z"
    }
   },
   "outputs": [],
   "source": [
    "feature = 'mdvp_jitter_abs'\n",
    "meanData = 'Mean : ' + str(round(pdData[feature].mean(),6))        # variable to contain mean of the attribute\n",
    "skewData = 'Skewness : ' + str(round(pdData[feature].skew(),4))    # variable to contain skewness of the attribute\n",
    "plt.figure(figsize=(10,5))                                         # setting figure size with width = 10 and height = 5\n",
    "fig = sns.distplot(pdData[feature], bins=30, kde=True)             # seaborn distplot to examine distribution of the feature\n",
    "plt.title(\"Distribution of feature : \"+feature+\" having \"+meanData+\" and \"+skewData)   # setting title of the figure\n",
    "plt.show()"
   ]
  },
  {
   "cell_type": "markdown",
   "metadata": {},
   "source": [
    "From above we can understand the following about mdvp_jitter_abs (MDVP:Jitter(Abs)) attribute of the dataset:\n",
    "\n",
    "Mean value of the attribute is 0.000044 with skewness of 2.6491, which shows that the datapoints of the attribute is highly right / positive skewed.\n",
    "Maximum datapoints are ranging from 0.00001 to 0.00004."
   ]
  },
  {
   "cell_type": "code",
   "execution_count": null,
   "metadata": {
    "execution": {
     "iopub.execute_input": "2021-12-10T16:21:29.939167Z",
     "iopub.status.busy": "2021-12-10T16:21:29.938819Z",
     "iopub.status.idle": "2021-12-10T16:21:30.356851Z",
     "shell.execute_reply": "2021-12-10T16:21:30.355947Z",
     "shell.execute_reply.started": "2021-12-10T16:21:29.939129Z"
    }
   },
   "outputs": [],
   "source": [
    "plt.figure(figsize=(10,5))                                         # setting figure size with width = 10 and height = 5\n",
    "# seaborn distplot to examine distribution of the feature of healthy patient\n",
    "fig = sns.distplot(pdData[pdData['status'] == 0][feature], bins=30, kde=True, label='Healthy')\n",
    "# seaborn distplot to examine distribution of the feature of Parkinson's patient\n",
    "fig = sns.distplot(pdData[pdData['status'] == 1][feature], bins=30, kde=True, label='Parkinson\\'s')\n",
    "plt.legend()\n",
    "plt.title(\"Distribution of feature : \"+feature)                    # setting title of the figure\n",
    "plt.show()"
   ]
  },
  {
   "cell_type": "markdown",
   "metadata": {},
   "source": [
    "From the above we can observe that, patients with mdvp_jitter_abs (MDVP:Jitter(Abs)) values greater than 0.00002 are more likly to have Parkinson's disease.\n",
    "\n",
    "Lets bucket mdvp_jitter_abs (MDVP:Jitter(Abs)) and check w.r.t the different status i.e Healthy or Parkinson's:"
   ]
  },
  {
   "cell_type": "code",
   "execution_count": null,
   "metadata": {
    "execution": {
     "iopub.execute_input": "2021-12-10T16:21:48.580691Z",
     "iopub.status.busy": "2021-12-10T16:21:48.58014Z",
     "iopub.status.idle": "2021-12-10T16:21:48.886417Z",
     "shell.execute_reply": "2021-12-10T16:21:48.885485Z",
     "shell.execute_reply.started": "2021-12-10T16:21:48.580653Z"
    }
   },
   "outputs": [],
   "source": [
    "bins = [0.00004,0.00010,0.00015,0.00020,0.00026]                                         # defining mdvp_jitter_abs bins,\n",
    "# defining labels of mdvp_jitter_abs groups as per bins defined as above\n",
    "mdvp_jitter_abs_group = ['0.00004-0.00010', '0.00010-0.00015', '0.00015-0.00020', '0.00020-0.00026']\n",
    "pdData_mdvp_jitter_abs_bin = pd.cut(pdData[feature],bins,labels=mdvp_jitter_abs_group)  # segmenting data as per bins defined\n",
    "\n",
    "# putting into pandas crosstab and applying lambda function to take percentage and assigning to mdvp_jitter_abs_group_col variable\n",
    "mdvp_jitter_abs_group_col = pd.crosstab(pdData_mdvp_jitter_abs_bin,pdData.status).apply(lambda r: r/r.sum()*100, axis=1)\n",
    "print(mdvp_jitter_abs_group_col)                                                    # printing above crosstab\n",
    "\n",
    "# plotting a stacked bar chart to show PD status for different mdvp_fo_hz group\n",
    "mdvp_jitter_abs_group_col.div(mdvp_jitter_abs_group_col.sum(1).astype(float), axis=0).plot(kind='bar',stacked=True)\n",
    "plt.title(\"PD status with different mdvp_jitter_abs group\")                     # setting title of the figure"
   ]
  },
  {
   "cell_type": "markdown",
   "metadata": {},
   "source": [
    "We can find out the following from the above crosstab:\n",
    "All the patients under mdvp_jitter_abs (MDVP:Jitter(Abs)) groups ranging more than 0.0001 have Parkinson's disease.\n",
    "mdvp_jitter_abs (MDVP:Jitter(Abs)) group between 0.00004-0.00010 having Parkinson's patient with percentage of 96.552 .\n",
    "\n",
    "Let's check outliers for the attribute :"
   ]
  },
  {
   "cell_type": "code",
   "execution_count": null,
   "metadata": {
    "execution": {
     "iopub.execute_input": "2021-12-10T16:22:07.771573Z",
     "iopub.status.busy": "2021-12-10T16:22:07.770713Z",
     "iopub.status.idle": "2021-12-10T16:22:07.961392Z",
     "shell.execute_reply": "2021-12-10T16:22:07.960722Z",
     "shell.execute_reply.started": "2021-12-10T16:22:07.771525Z"
    }
   },
   "outputs": [],
   "source": [
    "ax = sns.boxplot(x=pdData[feature])        # seaborn boxplot to examine outliers of the feature"
   ]
  },
  {
   "cell_type": "markdown",
   "metadata": {},
   "source": [
    "In the 'mdvp_jitter_abs' attribute some outliers are present, let's check for the same :"
   ]
  },
  {
   "cell_type": "code",
   "execution_count": null,
   "metadata": {
    "execution": {
     "iopub.execute_input": "2021-12-10T16:22:33.193979Z",
     "iopub.status.busy": "2021-12-10T16:22:33.193422Z",
     "iopub.status.idle": "2021-12-10T16:22:33.210993Z",
     "shell.execute_reply": "2021-12-10T16:22:33.210153Z",
     "shell.execute_reply.started": "2021-12-10T16:22:33.193936Z"
    }
   },
   "outputs": [],
   "source": [
    "Q1 = pdData[feature].quantile(0.25)        # evaluating lower / first quartile\n",
    "Q3 = pdData[feature].quantile(0.75)        # evaluating upper / third quartile\n",
    "IQR = Q3 - Q1                              # evaluating Inter Quartile Range i.e IQR\n",
    "'''\n",
    "finding outliers which are mild outliers (Lower quartile - 1.5 times IQR) or\n",
    "extreme outliers (Upper quartile + 1.5 times IQR)\n",
    "'''\n",
    "outliers = pdData[((pdData[feature] < (Q1 - 1.5 * IQR)) |(pdData[feature] > (Q3 + 1.5 * IQR)))][feature]\n",
    "\n",
    "print(\"*\"*125)\n",
    "# printing mean, median and IQR for the feature\n",
    "print(\"\\033[1mFeature {0} : Mean = {1}, Median = {2} and Inter-Quartile-Range (IQR) = {3}\\033[0m\"\n",
    "      .format(feature,round(np.mean(pdData[feature]),6),round(np.median(pdData[feature]),6),round(IQR,6))\n",
    "     )\n",
    "print()\n",
    "print(\"*\"*125)\n",
    "# printing No of outliers, percentage of the data points are outliers and the values of the outliers\n",
    "print(\"There are \\033[1m{0} outliers\\033[0m ({1} % of the data points) in \\033[1m{2}\\033[0m feature and the values are \\033[1m{3}\\033[0m\"\n",
    ".format(outliers.shape[0],round(((outliers.shape[0]/pdData[feature].shape[0])*100),3),feature,outliers.tolist()))\n",
    "print(\"*\"*125)"
   ]
  },
  {
   "cell_type": "markdown",
   "metadata": {},
   "source": [
    "Now will check if any outliers present for different target attributes i.e 'status'"
   ]
  },
  {
   "cell_type": "code",
   "execution_count": null,
   "metadata": {
    "execution": {
     "iopub.execute_input": "2021-12-10T16:22:53.344684Z",
     "iopub.status.busy": "2021-12-10T16:22:53.344099Z",
     "iopub.status.idle": "2021-12-10T16:22:53.568882Z",
     "shell.execute_reply": "2021-12-10T16:22:53.567852Z",
     "shell.execute_reply.started": "2021-12-10T16:22:53.344613Z"
    }
   },
   "outputs": [],
   "source": [
    "sns.boxplot(x=pdData['status'],y=pdData[feature]) "
   ]
  },
  {
   "cell_type": "markdown",
   "metadata": {},
   "source": [
    "From above, it is observed that for 'mdvp_jitter_abs' attribute patients with Parkinson's disease have more outliers than Healthy patients."
   ]
  },
  {
   "cell_type": "markdown",
   "metadata": {},
   "source": [
    "F. 'mdvp_rap' attribute : (MDVP:RAP - One of the measure of variation in fundamental frequency )"
   ]
  },
  {
   "cell_type": "code",
   "execution_count": null,
   "metadata": {
    "execution": {
     "iopub.execute_input": "2021-12-10T16:23:22.727245Z",
     "iopub.status.busy": "2021-12-10T16:23:22.726937Z",
     "iopub.status.idle": "2021-12-10T16:23:23.012875Z",
     "shell.execute_reply": "2021-12-10T16:23:23.011972Z",
     "shell.execute_reply.started": "2021-12-10T16:23:22.727214Z"
    }
   },
   "outputs": [],
   "source": [
    "feature = 'mdvp_rap'\n",
    "meanData = 'Mean : ' + str(round(pdData[feature].mean(),6))        # variable to contain mean of the attribute\n",
    "skewData = 'Skewness : ' + str(round(pdData[feature].skew(),4))    # variable to contain skewness of the attribute\n",
    "plt.figure(figsize=(10,5))                                         # setting figure size with width = 10 and height = 5\n",
    "fig = sns.distplot(pdData[feature], bins=30, kde=True)             # seaborn distplot to examine distribution of the feature\n",
    "plt.title(\"Distribution of feature : \"+feature+\" having \"+meanData+\" and \"+skewData)   # setting title of the figure\n",
    "plt.show()"
   ]
  },
  {
   "cell_type": "markdown",
   "metadata": {},
   "source": [
    "From above we can understand the following about mdvp_rap (MDVP:RAP) attribute of the dataset:\n",
    "\n",
    "Mean value of the attribute is 0.0033 with skewness of 3.3607, which shows that the datapoints of the attribute is highly right / positive skewed.\n",
    "Maximum datapoints are ranging from 0.001 to 0.004."
   ]
  },
  {
   "cell_type": "code",
   "execution_count": null,
   "metadata": {
    "execution": {
     "iopub.execute_input": "2021-12-10T16:23:41.742103Z",
     "iopub.status.busy": "2021-12-10T16:23:41.741734Z",
     "iopub.status.idle": "2021-12-10T16:23:42.165246Z",
     "shell.execute_reply": "2021-12-10T16:23:42.164208Z",
     "shell.execute_reply.started": "2021-12-10T16:23:41.742065Z"
    }
   },
   "outputs": [],
   "source": [
    "plt.figure(figsize=(10,5))                                         # setting figure size with width = 10 and height = 5\n",
    "# seaborn distplot to examine distribution of the feature of healthy patient\n",
    "fig = sns.distplot(pdData[pdData['status'] == 0][feature], bins=30, kde=True, label='Healthy')\n",
    "# seaborn distplot to examine distribution of the feature of Parkinson's patient\n",
    "fig = sns.distplot(pdData[pdData['status'] == 1][feature], bins=30, kde=True, label='Parkinson\\'s')\n",
    "plt.legend()\n",
    "plt.title(\"Distribution of feature : \"+feature)                    # setting title of the figure\n",
    "plt.show()"
   ]
  },
  {
   "cell_type": "markdown",
   "metadata": {},
   "source": [
    "From the above we can observe that, patients with mdvp_rap (MDVP:RAP) values greater than 0.002 are more likly to have Parkinson's disease.\n",
    "\n",
    "Lets bucket mdvp_rap (MDVP:RAP) and check w.r.t the different status i.e Healthy or Parkinson's:"
   ]
  },
  {
   "cell_type": "code",
   "execution_count": null,
   "metadata": {
    "execution": {
     "iopub.execute_input": "2021-12-10T16:24:04.811095Z",
     "iopub.status.busy": "2021-12-10T16:24:04.810744Z",
     "iopub.status.idle": "2021-12-10T16:24:05.122104Z",
     "shell.execute_reply": "2021-12-10T16:24:05.121096Z",
     "shell.execute_reply.started": "2021-12-10T16:24:04.81106Z"
    }
   },
   "outputs": [],
   "source": [
    "bins = [0.000,0.005,0.010,0.015,0.020,0.025]                                         # defining mdvp_rap bins,\n",
    "# defining labels of mdvp_rap groups as per bins defined as above\n",
    "mdvp_rap_group = ['0.000-0.005', '0.005-.010', '0.010-0.015', '0.015-0.020', '0.020-0.025']\n",
    "pdData_mdvp_rap_bin = pd.cut(pdData[feature],bins,labels=mdvp_rap_group)  # segmenting data as per bins defined\n",
    "\n",
    "# putting into pandas crosstab and applying lambda function to take percentage and assigning to mdvp_rap_group_col variable\n",
    "mdvp_rap_group_col = pd.crosstab(pdData_mdvp_rap_bin,pdData.status).apply(lambda r: r/r.sum()*100, axis=1)\n",
    "print(mdvp_rap_group_col)                                                    # printing above crosstab\n",
    "\n",
    "# plotting a stacked bar chart to show PD status for different mdvp_fo_hz group\n",
    "mdvp_rap_group_col.div(mdvp_rap_group_col.sum(1).astype(float), axis=0).plot(kind='bar',stacked=True)\n",
    "plt.title(\"PD status with different mdvp_rap group\")                     # setting title of the figure"
   ]
  },
  {
   "cell_type": "markdown",
   "metadata": {},
   "source": [
    "We can find out the following from the above crosstab:\n",
    "All the patients under mdvp_rap (MDVP:RAP) groups ranging more than 0.01 have Parkinson's disease.\n",
    "mdvp_rap (MDVP:RAP) group between 0.005-0.010 having Parkinson's patient with percentage of 94.444 followed by mdvp_rap (MDVP:RAP) group between 0.000-0.005 having Parkinson's patient with percentage of 72.353 .\n",
    "\n",
    "Let's check outliers for the attribute :"
   ]
  },
  {
   "cell_type": "code",
   "execution_count": null,
   "metadata": {
    "execution": {
     "iopub.execute_input": "2021-12-10T16:24:23.501015Z",
     "iopub.status.busy": "2021-12-10T16:24:23.500667Z",
     "iopub.status.idle": "2021-12-10T16:24:23.673096Z",
     "shell.execute_reply": "2021-12-10T16:24:23.672146Z",
     "shell.execute_reply.started": "2021-12-10T16:24:23.500976Z"
    }
   },
   "outputs": [],
   "source": [
    "ax = sns.boxplot(x=pdData[feature])        # seaborn boxplot to examine outliers of the feature"
   ]
  },
  {
   "cell_type": "markdown",
   "metadata": {},
   "source": [
    "In the 'mdvp_rap' attribute some outliers are present, let's check for the same :"
   ]
  },
  {
   "cell_type": "code",
   "execution_count": null,
   "metadata": {
    "execution": {
     "iopub.execute_input": "2021-12-10T16:24:44.911523Z",
     "iopub.status.busy": "2021-12-10T16:24:44.910745Z",
     "iopub.status.idle": "2021-12-10T16:24:44.929892Z",
     "shell.execute_reply": "2021-12-10T16:24:44.928361Z",
     "shell.execute_reply.started": "2021-12-10T16:24:44.911482Z"
    }
   },
   "outputs": [],
   "source": [
    "Q1 = pdData[feature].quantile(0.25)        # evaluating lower / first quartile\n",
    "Q3 = pdData[feature].quantile(0.75)        # evaluating upper / third quartile\n",
    "IQR = Q3 - Q1                              # evaluating Inter Quartile Range i.e IQR\n",
    "'''\n",
    "finding outliers which are mild outliers (Lower quartile - 1.5 times IQR) or\n",
    "extreme outliers (Upper quartile + 1.5 times IQR)\n",
    "'''\n",
    "outliers = pdData[((pdData[feature] < (Q1 - 1.5 * IQR)) |(pdData[feature] > (Q3 + 1.5 * IQR)))][feature]\n",
    "\n",
    "print(\"*\"*125)\n",
    "# printing mean, median and IQR for the feature\n",
    "print(\"\\033[1mFeature {0} : Mean = {1}, Median = {2} and Inter-Quartile-Range (IQR) = {3}\\033[0m\"\n",
    "      .format(feature,round(np.mean(pdData[feature]),6),round(np.median(pdData[feature]),6),round(IQR,6))\n",
    "     )\n",
    "print()\n",
    "print(\"*\"*125)\n",
    "# printing No of outliers, percentage of the data points are outliers and the values of the outliers\n",
    "print(\"There are \\033[1m{0} outliers\\033[0m ({1} % of the data points) in \\033[1m{2}\\033[0m feature and the values are \\033[1m{3}\\033[0m\"\n",
    ".format(outliers.shape[0],round(((outliers.shape[0]/pdData[feature].shape[0])*100),3),feature,outliers.tolist()))\n",
    "print(\"*\"*125)"
   ]
  },
  {
   "cell_type": "markdown",
   "metadata": {},
   "source": [
    "Now will check if any outliers present for different target attributes i.e 'status'"
   ]
  },
  {
   "cell_type": "code",
   "execution_count": null,
   "metadata": {
    "execution": {
     "iopub.execute_input": "2021-12-10T16:25:04.579666Z",
     "iopub.status.busy": "2021-12-10T16:25:04.578763Z",
     "iopub.status.idle": "2021-12-10T16:25:04.783553Z",
     "shell.execute_reply": "2021-12-10T16:25:04.782877Z",
     "shell.execute_reply.started": "2021-12-10T16:25:04.57961Z"
    }
   },
   "outputs": [],
   "source": [
    "sns.boxplot(x=pdData['status'],y=pdData[feature]) "
   ]
  },
  {
   "cell_type": "markdown",
   "metadata": {},
   "source": [
    "From above, it is observed that for 'mdvp_rap' attribute patients with Parkinson's disease have more outliers than Healthy patients."
   ]
  },
  {
   "cell_type": "markdown",
   "metadata": {},
   "source": [
    "G. 'mdvp_ppq' attribute : (MDVP:PPQ - One of the measure of variation in fundamental frequency )"
   ]
  },
  {
   "cell_type": "code",
   "execution_count": null,
   "metadata": {
    "execution": {
     "iopub.execute_input": "2021-12-10T16:25:48.74505Z",
     "iopub.status.busy": "2021-12-10T16:25:48.74406Z",
     "iopub.status.idle": "2021-12-10T16:25:49.043574Z",
     "shell.execute_reply": "2021-12-10T16:25:49.042563Z",
     "shell.execute_reply.started": "2021-12-10T16:25:48.745004Z"
    }
   },
   "outputs": [],
   "source": [
    "feature = 'mdvp_ppq'\n",
    "meanData = 'Mean : ' + str(round(pdData[feature].mean(),6))        # variable to contain mean of the attribute\n",
    "skewData = 'Skewness : ' + str(round(pdData[feature].skew(),4))    # variable to contain skewness of the attribute\n",
    "plt.figure(figsize=(10,5))                                         # setting figure size with width = 10 and height = 5\n",
    "fig = sns.distplot(pdData[feature], bins=30, kde=True)             # seaborn distplot to examine distribution of the feature\n",
    "plt.title(\"Distribution of feature : \"+feature+\" having \"+meanData+\" and \"+skewData)   # setting title of the figure\n",
    "plt.show()"
   ]
  },
  {
   "cell_type": "markdown",
   "metadata": {},
   "source": [
    "From above we can understand the following about mdvp_ppq (MDVP:PPQ) attribute of the dataset:\n",
    "\n",
    "Mean value of the attribute is 0.0034 with skewness of 3.0739, which shows that the datapoints of the attribute is highly right / positive skewed.\n",
    "Maximum datapoints are ranging from 0.0010 to 0.0025."
   ]
  },
  {
   "cell_type": "code",
   "execution_count": null,
   "metadata": {
    "execution": {
     "iopub.execute_input": "2021-12-10T16:26:06.180505Z",
     "iopub.status.busy": "2021-12-10T16:26:06.17974Z",
     "iopub.status.idle": "2021-12-10T16:26:06.611849Z",
     "shell.execute_reply": "2021-12-10T16:26:06.610876Z",
     "shell.execute_reply.started": "2021-12-10T16:26:06.180459Z"
    }
   },
   "outputs": [],
   "source": [
    "plt.figure(figsize=(10,5))                                         # setting figure size with width = 10 and height = 5\n",
    "# seaborn distplot to examine distribution of the feature of healthy patient\n",
    "fig = sns.distplot(pdData[pdData['status'] == 0][feature], bins=30, kde=True, label='Healthy')\n",
    "# seaborn distplot to examine distribution of the feature of Parkinson's patient\n",
    "fig = sns.distplot(pdData[pdData['status'] == 1][feature], bins=30, kde=True, label='Parkinson\\'s')\n",
    "plt.legend()\n",
    "plt.title(\"Distribution of feature : \"+feature)                    # setting title of the figure\n",
    "plt.show()"
   ]
  },
  {
   "cell_type": "markdown",
   "metadata": {},
   "source": [
    "From the above we can observe that, patients with mdvp_ppq (MDVP:PPQ) values greater than 0.0025 are more likly to have Parkinson's disease.\n",
    "\n",
    "Lets bucket mdvp_ppq (MDVP:PPQ) and check w.r.t the different status i.e Healthy or Parkinson's:"
   ]
  },
  {
   "cell_type": "code",
   "execution_count": null,
   "metadata": {
    "execution": {
     "iopub.execute_input": "2021-12-10T16:26:27.295234Z",
     "iopub.status.busy": "2021-12-10T16:26:27.294909Z",
     "iopub.status.idle": "2021-12-10T16:26:27.592192Z",
     "shell.execute_reply": "2021-12-10T16:26:27.59117Z",
     "shell.execute_reply.started": "2021-12-10T16:26:27.295197Z"
    }
   },
   "outputs": [],
   "source": [
    "bins = [0.000,0.005,0.010,0.015,0.020]                                         # defining mdvp_ppq bins,\n",
    "# defining labels of mdvp_ppq groups as per bins defined as above\n",
    "mdvp_ppq_group = ['0.000-0.005', '0.005-.010', '0.010-0.015', '0.015-0.020']\n",
    "pdData_mdvp_ppq_bin = pd.cut(pdData[feature],bins,labels=mdvp_ppq_group)  # segmenting data as per bins defined\n",
    "\n",
    "# putting into pandas crosstab and applying lambda function to take percentage and assigning to mdvp_ppq_group_col variable\n",
    "mdvp_ppq_group_col = pd.crosstab(pdData_mdvp_ppq_bin,pdData.status).apply(lambda r: r/r.sum()*100, axis=1)\n",
    "print(mdvp_ppq_group_col)                                                    # printing above crosstab\n",
    "\n",
    "# plotting a stacked bar chart to show PD status for different mdvp_fo_hz group\n",
    "mdvp_ppq_group_col.div(mdvp_ppq_group_col.sum(1).astype(float), axis=0).plot(kind='bar',stacked=True)\n",
    "plt.title(\"PD status with different mdvp_ppq group\")                     # setting title of the figure"
   ]
  },
  {
   "cell_type": "markdown",
   "metadata": {},
   "source": [
    "We can find out the following from the above crosstab:\n",
    "All the patients under mdvp_ppq (MDVP:PPQ) groups ranging more than 0.01 have Parkinson's disease.\n",
    "mdvp_ppq (MDVP:PPQ) group between 0.005-0.010 having Parkinson's patient with percentage of 94.737 followed by mdvp_ppq (MDVP:PPQ) group between 0.000-0.005 having Parkinson's patient with percentage of 72.353, suprisingly which is exactly same for the same group of mdvp_rap (MDVP:RAP) attribute.\n",
    "\n",
    "Let's check outliers for the attribute :"
   ]
  },
  {
   "cell_type": "code",
   "execution_count": null,
   "metadata": {
    "execution": {
     "iopub.execute_input": "2021-12-10T16:26:48.201038Z",
     "iopub.status.busy": "2021-12-10T16:26:48.200272Z",
     "iopub.status.idle": "2021-12-10T16:26:48.404503Z",
     "shell.execute_reply": "2021-12-10T16:26:48.403411Z",
     "shell.execute_reply.started": "2021-12-10T16:26:48.200949Z"
    }
   },
   "outputs": [],
   "source": [
    "ax = sns.boxplot(x=pdData[feature])        # seaborn boxplot to examine outliers of the feature"
   ]
  },
  {
   "cell_type": "markdown",
   "metadata": {},
   "source": [
    "In the 'mdvp_ppq' attribute some outliers are present, let's check for the same :"
   ]
  },
  {
   "cell_type": "code",
   "execution_count": null,
   "metadata": {
    "execution": {
     "iopub.execute_input": "2021-12-10T16:27:08.638705Z",
     "iopub.status.busy": "2021-12-10T16:27:08.638369Z",
     "iopub.status.idle": "2021-12-10T16:27:08.656725Z",
     "shell.execute_reply": "2021-12-10T16:27:08.655761Z",
     "shell.execute_reply.started": "2021-12-10T16:27:08.638669Z"
    }
   },
   "outputs": [],
   "source": [
    "Q1 = pdData[feature].quantile(0.25)        # evaluating lower / first quartile\n",
    "Q3 = pdData[feature].quantile(0.75)        # evaluating upper / third quartile\n",
    "IQR = Q3 - Q1                              # evaluating Inter Quartile Range i.e IQR\n",
    "'''\n",
    "finding outliers which are mild outliers (Lower quartile - 1.5 times IQR) or\n",
    "extreme outliers (Upper quartile + 1.5 times IQR)\n",
    "'''\n",
    "outliers = pdData[((pdData[feature] < (Q1 - 1.5 * IQR)) |(pdData[feature] > (Q3 + 1.5 * IQR)))][feature]\n",
    "\n",
    "print(\"*\"*125)\n",
    "# printing mean, median and IQR for the feature\n",
    "print(\"\\033[1mFeature {0} : Mean = {1}, Median = {2} and Inter-Quartile-Range (IQR) = {3}\\033[0m\"\n",
    "      .format(feature,round(np.mean(pdData[feature]),6),round(np.median(pdData[feature]),6),round(IQR,6))\n",
    "     )\n",
    "print()\n",
    "print(\"*\"*125)\n",
    "# printing No of outliers, percentage of the data points are outliers and the values of the outliers\n",
    "print(\"There are \\033[1m{0} outliers\\033[0m ({1} % of the data points) in \\033[1m{2}\\033[0m feature and the values are \\033[1m{3}\\033[0m\"\n",
    ".format(outliers.shape[0],round(((outliers.shape[0]/pdData[feature].shape[0])*100),3),feature,outliers.tolist()))\n",
    "print(\"*\"*125)"
   ]
  },
  {
   "cell_type": "markdown",
   "metadata": {},
   "source": [
    "Now will check if any outliers present for different target attributes i.e 'status'"
   ]
  },
  {
   "cell_type": "code",
   "execution_count": null,
   "metadata": {
    "execution": {
     "iopub.execute_input": "2021-12-10T16:27:56.253939Z",
     "iopub.status.busy": "2021-12-10T16:27:56.253189Z",
     "iopub.status.idle": "2021-12-10T16:27:56.480273Z",
     "shell.execute_reply": "2021-12-10T16:27:56.479242Z",
     "shell.execute_reply.started": "2021-12-10T16:27:56.253897Z"
    }
   },
   "outputs": [],
   "source": [
    "sns.boxplot(x=pdData['status'],y=pdData[feature]) "
   ]
  },
  {
   "cell_type": "markdown",
   "metadata": {},
   "source": [
    "From above, it is observed that for 'mdvp_ppq' attribute patients with Parkinson's disease have more outliers than Healthy patients."
   ]
  },
  {
   "cell_type": "markdown",
   "metadata": {},
   "source": [
    "H. 'jitter_ddp' attribute : (Jitter:DDP - One of the measure of variation in fundamental frequency )"
   ]
  },
  {
   "cell_type": "code",
   "execution_count": null,
   "metadata": {
    "execution": {
     "iopub.execute_input": "2021-12-10T16:28:26.358757Z",
     "iopub.status.busy": "2021-12-10T16:28:26.358441Z",
     "iopub.status.idle": "2021-12-10T16:28:26.677394Z",
     "shell.execute_reply": "2021-12-10T16:28:26.676331Z",
     "shell.execute_reply.started": "2021-12-10T16:28:26.358725Z"
    }
   },
   "outputs": [],
   "source": [
    "feature = 'jitter_ddp'\n",
    "meanData = 'Mean : ' + str(round(pdData[feature].mean(),6))        # variable to contain mean of the attribute\n",
    "skewData = 'Skewness : ' + str(round(pdData[feature].skew(),4))    # variable to contain skewness of the attribute\n",
    "plt.figure(figsize=(10,5))                                         # setting figure size with width = 10 and height = 5\n",
    "fig = sns.distplot(pdData[feature], bins=30, kde=True)             # seaborn distplot to examine distribution of the feature\n",
    "plt.title(\"Distribution of feature : \"+feature+\" having \"+meanData+\" and \"+skewData)   # setting title of the figure\n",
    "plt.show()"
   ]
  },
  {
   "cell_type": "markdown",
   "metadata": {},
   "source": [
    "From above we can understand the following about jitter_ddp (Jitter:DDP) attribute of the dataset:\n",
    "\n",
    "Mean value of the attribute is 0.0099 with skewness of 3.3621, which shows that the datapoints of the attribute is highly right / positive skewed.\n",
    "Maximum datapoints are ranging from 0.002 to 0.012."
   ]
  },
  {
   "cell_type": "code",
   "execution_count": null,
   "metadata": {
    "execution": {
     "iopub.execute_input": "2021-12-10T16:28:48.264604Z",
     "iopub.status.busy": "2021-12-10T16:28:48.26428Z",
     "iopub.status.idle": "2021-12-10T16:28:48.92416Z",
     "shell.execute_reply": "2021-12-10T16:28:48.923201Z",
     "shell.execute_reply.started": "2021-12-10T16:28:48.264571Z"
    }
   },
   "outputs": [],
   "source": [
    "plt.figure(figsize=(10,5))                                         # setting figure size with width = 10 and height = 5\n",
    "# seaborn distplot to examine distribution of the feature of healthy patient\n",
    "fig = sns.distplot(pdData[pdData['status'] == 0][feature], bins=30, kde=True, label='Healthy')\n",
    "# seaborn distplot to examine distribution of the feature of Parkinson's patient\n",
    "fig = sns.distplot(pdData[pdData['status'] == 1][feature], bins=30, kde=True, label='Parkinson\\'s')\n",
    "plt.legend()\n",
    "plt.title(\"Distribution of feature : \"+feature)                    # setting title of the figure\n",
    "plt.show()"
   ]
  },
  {
   "cell_type": "markdown",
   "metadata": {},
   "source": [
    "From the above we can observe that, patients with jitter_ddp (Jitter:DDP) values greater than 0.008 are more likly to have Parkinson's disease.\n",
    "\n",
    "Lets bucket jitter_ddp (Jitter:DDP) and check w.r.t the different status i.e Healthy or Parkinson's:"
   ]
  },
  {
   "cell_type": "code",
   "execution_count": null,
   "metadata": {
    "execution": {
     "iopub.execute_input": "2021-12-10T16:29:09.850299Z",
     "iopub.status.busy": "2021-12-10T16:29:09.849333Z",
     "iopub.status.idle": "2021-12-10T16:29:10.139991Z",
     "shell.execute_reply": "2021-12-10T16:29:10.139004Z",
     "shell.execute_reply.started": "2021-12-10T16:29:09.850228Z"
    }
   },
   "outputs": [],
   "source": [
    "bins = [0.00,0.02,0.04,0.06,0.80]                                         # defining jitter_ddp bins,\n",
    "# defining labels of jitter_ddp groups as per bins defined as above\n",
    "jitter_ddp_group = ['0.00-0.02', '0.02-0.04', '0.04-0.06', '0.06-0.08']\n",
    "pdData_jitter_ddp_bin = pd.cut(pdData[feature],bins,labels=jitter_ddp_group)  # segmenting data as per bins defined\n",
    "\n",
    "# putting into pandas crosstab and applying lambda function to take percentage and assigning to jitter_ddp_group_col variable\n",
    "jitter_ddp_group_col = pd.crosstab(pdData_jitter_ddp_bin,pdData.status).apply(lambda r: r/r.sum()*100, axis=1)\n",
    "print(jitter_ddp_group_col)                                                    # printing above crosstab\n",
    "\n",
    "# plotting a stacked bar chart to show PD status for different mdvp_fo_hz group\n",
    "jitter_ddp_group_col.div(jitter_ddp_group_col.sum(1).astype(float), axis=0).plot(kind='bar',stacked=True)\n",
    "plt.title(\"PD status with different jitter_ddp group\")                     # setting title of the figure"
   ]
  },
  {
   "cell_type": "markdown",
   "metadata": {},
   "source": [
    "We can find out the following from the above crosstab:\n",
    "All the patients under jitter_ddp (Jitter:DDP) groups ranging more than 0.02 have Parkinson's disease.\n",
    "jitter_ddp (Jitter:DDP) group between 0.00-0.02 having Parkinson's patient with percentage of 73.480 .\n",
    "\n",
    "Let's check outliers for the attribute :"
   ]
  },
  {
   "cell_type": "code",
   "execution_count": null,
   "metadata": {
    "execution": {
     "iopub.execute_input": "2021-12-10T16:29:30.522352Z",
     "iopub.status.busy": "2021-12-10T16:29:30.522038Z",
     "iopub.status.idle": "2021-12-10T16:29:30.713484Z",
     "shell.execute_reply": "2021-12-10T16:29:30.712428Z",
     "shell.execute_reply.started": "2021-12-10T16:29:30.522321Z"
    }
   },
   "outputs": [],
   "source": [
    "ax = sns.boxplot(x=pdData[feature])        # seaborn boxplot to examine outliers of the feature"
   ]
  },
  {
   "cell_type": "markdown",
   "metadata": {},
   "source": [
    "In the 'jitter_ddp' attribute some outliers are present, let's check for the same :"
   ]
  },
  {
   "cell_type": "code",
   "execution_count": null,
   "metadata": {
    "execution": {
     "iopub.execute_input": "2021-12-10T16:29:54.557291Z",
     "iopub.status.busy": "2021-12-10T16:29:54.55696Z",
     "iopub.status.idle": "2021-12-10T16:29:54.576287Z",
     "shell.execute_reply": "2021-12-10T16:29:54.574944Z",
     "shell.execute_reply.started": "2021-12-10T16:29:54.557259Z"
    }
   },
   "outputs": [],
   "source": [
    "Q1 = pdData[feature].quantile(0.25)        # evaluating lower / first quartile\n",
    "Q3 = pdData[feature].quantile(0.75)        # evaluating upper / third quartile\n",
    "IQR = Q3 - Q1                              # evaluating Inter Quartile Range i.e IQR\n",
    "'''\n",
    "finding outliers which are mild outliers (Lower quartile - 1.5 times IQR) or\n",
    "extreme outliers (Upper quartile + 1.5 times IQR)\n",
    "'''\n",
    "outliers = pdData[((pdData[feature] < (Q1 - 1.5 * IQR)) |(pdData[feature] > (Q3 + 1.5 * IQR)))][feature]\n",
    "\n",
    "print(\"*\"*125)\n",
    "# printing mean, median and IQR for the feature\n",
    "print(\"\\033[1mFeature {0} : Mean = {1}, Median = {2} and Inter-Quartile-Range (IQR) = {3}\\033[0m\"\n",
    "      .format(feature,round(np.mean(pdData[feature]),6),round(np.median(pdData[feature]),6),round(IQR,6))\n",
    "     )\n",
    "print()\n",
    "print(\"*\"*125)\n",
    "# printing No of outliers, percentage of the data points are outliers and the values of the outliers\n",
    "print(\"There are \\033[1m{0} outliers\\033[0m ({1} % of the data points) in \\033[1m{2}\\033[0m feature and the values are \\033[1m{3}\\033[0m\"\n",
    ".format(outliers.shape[0],round(((outliers.shape[0]/pdData[feature].shape[0])*100),3),feature,outliers.tolist()))\n",
    "print(\"*\"*125)"
   ]
  },
  {
   "cell_type": "markdown",
   "metadata": {},
   "source": [
    "*Now will check if any outliers present for different target attributes i.e 'status'*"
   ]
  },
  {
   "cell_type": "code",
   "execution_count": null,
   "metadata": {
    "execution": {
     "iopub.execute_input": "2021-12-10T16:30:16.870822Z",
     "iopub.status.busy": "2021-12-10T16:30:16.869899Z",
     "iopub.status.idle": "2021-12-10T16:30:17.085929Z",
     "shell.execute_reply": "2021-12-10T16:30:17.084895Z",
     "shell.execute_reply.started": "2021-12-10T16:30:16.870769Z"
    }
   },
   "outputs": [],
   "source": [
    "sns.boxplot(x=pdData['status'],y=pdData[feature]) "
   ]
  },
  {
   "cell_type": "markdown",
   "metadata": {},
   "source": [
    "From above, it is observed that for 'jitter_ddp' attribute patients with Parkinson's disease have more outliers than Healthy patients."
   ]
  },
  {
   "cell_type": "markdown",
   "metadata": {},
   "source": [
    "I. 'mdvp_shimmer' attribute : (MDVP:Shimmer - One of the measure of variation in amplitude )"
   ]
  },
  {
   "cell_type": "code",
   "execution_count": null,
   "metadata": {
    "execution": {
     "iopub.execute_input": "2021-12-10T16:30:49.463636Z",
     "iopub.status.busy": "2021-12-10T16:30:49.462956Z",
     "iopub.status.idle": "2021-12-10T16:30:49.757953Z",
     "shell.execute_reply": "2021-12-10T16:30:49.75689Z",
     "shell.execute_reply.started": "2021-12-10T16:30:49.463586Z"
    }
   },
   "outputs": [],
   "source": [
    "feature = 'mdvp_shimmer'\n",
    "meanData = 'Mean : ' + str(round(pdData[feature].mean(),6))        # variable to contain mean of the attribute\n",
    "skewData = 'Skewness : ' + str(round(pdData[feature].skew(),4))    # variable to contain skewness of the attribute\n",
    "plt.figure(figsize=(10,5))                                         # setting figure size with width = 10 and height = 5\n",
    "fig = sns.distplot(pdData[feature], bins=30, kde=True)             # seaborn distplot to examine distribution of the feature\n",
    "plt.title(\"Distribution of feature : \"+feature+\" having \"+meanData+\" and \"+skewData)   # setting title of the figure\n",
    "plt.show()"
   ]
  },
  {
   "cell_type": "markdown",
   "metadata": {},
   "source": [
    "From above we can understand the following about mdvp_shimmer (MDVP:Shimmer) attribute of the dataset:\n",
    "\n",
    "Mean value of the attribute is 0.0297 with skewness of 1.6665, which shows that the datapoints of the attribute is highly right / positive skewed.\n",
    "Maximum datapoints are ranging from 0.009 to 0.02."
   ]
  },
  {
   "cell_type": "code",
   "execution_count": null,
   "metadata": {
    "execution": {
     "iopub.execute_input": "2021-12-10T16:31:12.27893Z",
     "iopub.status.busy": "2021-12-10T16:31:12.277835Z",
     "iopub.status.idle": "2021-12-10T16:31:12.707511Z",
     "shell.execute_reply": "2021-12-10T16:31:12.70507Z",
     "shell.execute_reply.started": "2021-12-10T16:31:12.278884Z"
    }
   },
   "outputs": [],
   "source": [
    "plt.figure(figsize=(10,5))                                         # setting figure size with width = 10 and height = 5\n",
    "# seaborn distplot to examine distribution of the feature of healthy patient\n",
    "fig = sns.distplot(pdData[pdData['status'] == 0][feature], bins=30, kde=True, label='Healthy')\n",
    "# seaborn distplot to examine distribution of the feature of Parkinson's patient\n",
    "fig = sns.distplot(pdData[pdData['status'] == 1][feature], bins=30, kde=True, label='Parkinson\\'s')\n",
    "plt.legend()\n",
    "plt.title(\"Distribution of feature : \"+feature)                    # setting title of the figure\n",
    "plt.show()"
   ]
  },
  {
   "cell_type": "markdown",
   "metadata": {},
   "source": [
    "From the above we can observe that, patients with mdvp_shimmer (MDVP:Shimmer) values greater than 0.025 are more likly to have Parkinson's disease.\n",
    "\n",
    "Lets bucket mdvp_shimmer (MDVP:Shimmer) and check w.r.t the different status i.e Healthy or Parkinson's:"
   ]
  },
  {
   "cell_type": "code",
   "execution_count": null,
   "metadata": {
    "execution": {
     "iopub.execute_input": "2021-12-10T16:31:36.272339Z",
     "iopub.status.busy": "2021-12-10T16:31:36.271125Z",
     "iopub.status.idle": "2021-12-10T16:31:36.592871Z",
     "shell.execute_reply": "2021-12-10T16:31:36.591584Z",
     "shell.execute_reply.started": "2021-12-10T16:31:36.272253Z"
    }
   },
   "outputs": [],
   "source": [
    "bins = [0.00,0.02,0.04,0.06,0.08,0.10,0.12]                                         # defining mdvp_shimmer bins,\n",
    "# defining labels of mdvp_shimmer groups as per bins defined as above\n",
    "mdvp_shimmer_group = ['0.00-0.02', '0.02-0.04', '0.04-0.06', '0.06-0.08', '0.08-0.10', '0.10-0.12']\n",
    "pdData_mdvp_shimmer_bin = pd.cut(pdData[feature],bins,labels=mdvp_shimmer_group)  # segmenting data as per bins defined\n",
    "\n",
    "# putting into pandas crosstab and applying lambda function to take percentage and assigning to mdvp_shimmer_group_col variable\n",
    "mdvp_shimmer_group_col = pd.crosstab(pdData_mdvp_shimmer_bin,pdData.status).apply(lambda r: r/r.sum()*100, axis=1)\n",
    "print(mdvp_shimmer_group_col)                                                    # printing above crosstab\n",
    "\n",
    "# plotting a stacked bar chart to show PD status for different mdvp_fo_hz group\n",
    "mdvp_shimmer_group_col.div(mdvp_shimmer_group_col.sum(1).astype(float), axis=0).plot(kind='bar',stacked=True)\n",
    "plt.title(\"PD status with different mdvp_shimmer group\")                     # setting title of the figure"
   ]
  },
  {
   "cell_type": "markdown",
   "metadata": {},
   "source": [
    "We can find out the following from the above crosstab:\n",
    "All the patients under mdvp_shimmer (MDVP:Shimmer) groups ranging more than 0.06 have Parkinson's disease.\n",
    "mdvp_shimmer (MDVP:Shimmer) group between 0.04-0.06 having Parkinson's patient with percentage of 96.296 followed by mdvp_shimmer (MDVP:Shimmer) group between 0.02-0.04 having Parkinson's patient with percentage of 83.562.\n",
    "mdvp_shimmer (MDVP:Shimmer) group between 0.00-0.02 having Parkinson's patient with percentage of 55.128 .\n",
    "\n",
    "Let's check outliers for the attribute :"
   ]
  },
  {
   "cell_type": "code",
   "execution_count": null,
   "metadata": {
    "execution": {
     "iopub.execute_input": "2021-12-10T16:31:57.00467Z",
     "iopub.status.busy": "2021-12-10T16:31:57.00379Z",
     "iopub.status.idle": "2021-12-10T16:31:57.18598Z",
     "shell.execute_reply": "2021-12-10T16:31:57.18487Z",
     "shell.execute_reply.started": "2021-12-10T16:31:57.004612Z"
    }
   },
   "outputs": [],
   "source": [
    "ax = sns.boxplot(x=pdData[feature])        # seaborn boxplot to examine outliers of the feature"
   ]
  },
  {
   "cell_type": "markdown",
   "metadata": {},
   "source": [
    "In the 'mdvp_shimmer' attribute some outliers are present, let's check for the same :"
   ]
  },
  {
   "cell_type": "code",
   "execution_count": null,
   "metadata": {
    "execution": {
     "iopub.execute_input": "2021-12-10T16:32:16.543113Z",
     "iopub.status.busy": "2021-12-10T16:32:16.542771Z",
     "iopub.status.idle": "2021-12-10T16:32:16.561981Z",
     "shell.execute_reply": "2021-12-10T16:32:16.560854Z",
     "shell.execute_reply.started": "2021-12-10T16:32:16.543082Z"
    }
   },
   "outputs": [],
   "source": [
    "Q1 = pdData[feature].quantile(0.25)        # evaluating lower / first quartile\n",
    "Q3 = pdData[feature].quantile(0.75)        # evaluating upper / third quartile\n",
    "IQR = Q3 - Q1                              # evaluating Inter Quartile Range i.e IQR\n",
    "'''\n",
    "finding outliers which are mild outliers (Lower quartile - 1.5 times IQR) or\n",
    "extreme outliers (Upper quartile + 1.5 times IQR)\n",
    "'''\n",
    "outliers = pdData[((pdData[feature] < (Q1 - 1.5 * IQR)) |(pdData[feature] > (Q3 + 1.5 * IQR)))][feature]\n",
    "\n",
    "print(\"*\"*125)\n",
    "# printing mean, median and IQR for the feature\n",
    "print(\"\\033[1mFeature {0} : Mean = {1}, Median = {2} and Inter-Quartile-Range (IQR) = {3}\\033[0m\"\n",
    "      .format(feature,round(np.mean(pdData[feature]),6),round(np.median(pdData[feature]),6),round(IQR,6))\n",
    "     )\n",
    "print()\n",
    "print(\"*\"*125)\n",
    "# printing No of outliers, percentage of the data points are outliers and the values of the outliers\n",
    "print(\"There are \\033[1m{0} outliers\\033[0m ({1} % of the data points) in \\033[1m{2}\\033[0m feature and the values are \\033[1m{3}\\033[0m\"\n",
    ".format(outliers.shape[0],round(((outliers.shape[0]/pdData[feature].shape[0])*100),3),feature,outliers.tolist()))\n",
    "print(\"*\"*125)"
   ]
  },
  {
   "cell_type": "markdown",
   "metadata": {},
   "source": [
    "Now will check if any outliers present for different target attributes i.e 'status'"
   ]
  },
  {
   "cell_type": "code",
   "execution_count": null,
   "metadata": {
    "execution": {
     "iopub.execute_input": "2021-12-10T16:32:35.060289Z",
     "iopub.status.busy": "2021-12-10T16:32:35.059605Z",
     "iopub.status.idle": "2021-12-10T16:32:35.249416Z",
     "shell.execute_reply": "2021-12-10T16:32:35.248292Z",
     "shell.execute_reply.started": "2021-12-10T16:32:35.060241Z"
    }
   },
   "outputs": [],
   "source": [
    "sns.boxplot(x=pdData['status'],y=pdData[feature]) "
   ]
  },
  {
   "cell_type": "markdown",
   "metadata": {},
   "source": [
    "From above, it is observed that for 'mdvp_shimmer' attribute patients with Parkinson's disease have more outliers than Healthy patients."
   ]
  },
  {
   "cell_type": "markdown",
   "metadata": {},
   "source": [
    "J. 'mdvp_shimmer_db' attribute : (MDVP:Shimmer(dB) - One of the measure of variation in amplitude )"
   ]
  },
  {
   "cell_type": "code",
   "execution_count": null,
   "metadata": {
    "execution": {
     "iopub.execute_input": "2021-12-10T16:33:09.679039Z",
     "iopub.status.busy": "2021-12-10T16:33:09.67866Z",
     "iopub.status.idle": "2021-12-10T16:33:09.983479Z",
     "shell.execute_reply": "2021-12-10T16:33:09.982545Z",
     "shell.execute_reply.started": "2021-12-10T16:33:09.678967Z"
    }
   },
   "outputs": [],
   "source": [
    "feature = 'mdvp_shimmer_db'\n",
    "meanData = 'Mean : ' + str(round(pdData[feature].mean(),6))        # variable to contain mean of the attribute\n",
    "skewData = 'Skewness : ' + str(round(pdData[feature].skew(),4))    # variable to contain skewness of the attribute\n",
    "plt.figure(figsize=(10,5))                                         # setting figure size with width = 10 and height = 5\n",
    "fig = sns.distplot(pdData[feature], bins=30, kde=True)             # seaborn distplot to examine distribution of the feature\n",
    "plt.title(\"Distribution of feature : \"+feature+\" having \"+meanData+\" and \"+skewData)   # setting title of the figure\n",
    "plt.show()"
   ]
  },
  {
   "cell_type": "markdown",
   "metadata": {},
   "source": [
    "From above we can understand the following about mdvp_shimmer_db (MDVP:Shimmer(dB)) attribute of the dataset:\n",
    "\n",
    "Mean value of the attribute is 0.2823 with skewness of 1.9994, which shows that the datapoints of the attribute is highly right / positive skewed.\n",
    "Maximum datapoints are ranging from 0.008 to 0.35 ."
   ]
  },
  {
   "cell_type": "code",
   "execution_count": null,
   "metadata": {
    "execution": {
     "iopub.execute_input": "2021-12-10T16:33:33.336702Z",
     "iopub.status.busy": "2021-12-10T16:33:33.336323Z",
     "iopub.status.idle": "2021-12-10T16:33:33.76889Z",
     "shell.execute_reply": "2021-12-10T16:33:33.767875Z",
     "shell.execute_reply.started": "2021-12-10T16:33:33.336668Z"
    }
   },
   "outputs": [],
   "source": [
    "plt.figure(figsize=(10,5))                                         # setting figure size with width = 10 and height = 5\n",
    "# seaborn distplot to examine distribution of the feature of healthy patient\n",
    "fig = sns.distplot(pdData[pdData['status'] == 0][feature], bins=30, kde=True, label='Healthy')\n",
    "# seaborn distplot to examine distribution of the feature of Parkinson's patient\n",
    "fig = sns.distplot(pdData[pdData['status'] == 1][feature], bins=30, kde=True, label='Parkinson\\'s')\n",
    "plt.legend()\n",
    "plt.title(\"Distribution of feature : \"+feature)                    # setting title of the figure\n",
    "plt.show()"
   ]
  },
  {
   "cell_type": "markdown",
   "metadata": {},
   "source": [
    "From the above we can observe that, patients with mdvp_shimmer_db (MDVP:Shimmer(dB)) values greater than 0.25 are more likly to have Parkinson's disease.\n",
    "\n",
    "Lets bucket mdvp_shimmer_db (MDVP:Shimmer(dB)) and check w.r.t the different status i.e Healthy or Parkinson's:"
   ]
  },
  {
   "cell_type": "code",
   "execution_count": null,
   "metadata": {
    "execution": {
     "iopub.execute_input": "2021-12-10T16:33:52.610114Z",
     "iopub.status.busy": "2021-12-10T16:33:52.609821Z",
     "iopub.status.idle": "2021-12-10T16:33:52.938988Z",
     "shell.execute_reply": "2021-12-10T16:33:52.93809Z",
     "shell.execute_reply.started": "2021-12-10T16:33:52.610085Z"
    }
   },
   "outputs": [],
   "source": [
    "bins = [0.00, 0.25, 0.50, 0.75, 1.00, 1.25, 1.50]                                         # defining mdvp_shimmer_db bins,\n",
    "# defining labels of mdvp_shimmer_db groups as per bins defined as above\n",
    "mdvp_shimmer_db_group = ['0.00-0.25', '0.25-0.50', '0.50-0.75', '0.75-1.00', '1.00-1.25', '1.25-1.50']\n",
    "pdData_mdvp_shimmer_db_bin = pd.cut(pdData[feature],bins,labels=mdvp_shimmer_db_group)  # segmenting data as per bins defined\n",
    "\n",
    "# putting into pandas crosstab and applying lambda function to take percentage and assigning to mdvp_shimmer_db_group_col variable\n",
    "mdvp_shimmer_db_group_col = pd.crosstab(pdData_mdvp_shimmer_db_bin,pdData.status).apply(lambda r: r/r.sum()*100, axis=1)\n",
    "print(mdvp_shimmer_db_group_col)                                                    # printing above crosstab\n",
    "\n",
    "# plotting a stacked bar chart to show PD status for different mdvp_fo_hz group\n",
    "mdvp_shimmer_db_group_col.div(mdvp_shimmer_db_group_col.sum(1).astype(float), axis=0).plot(kind='bar',stacked=True)\n",
    "plt.title(\"PD status with different mdvp_shimmer_db group\")                     # setting title of the figure"
   ]
  },
  {
   "cell_type": "markdown",
   "metadata": {},
   "source": [
    "We can find out the following from the above crosstab:\n",
    "All the patients under mdvp_shimmer_db (MDVP:Shimmer(dB)) groups ranging more than 0.50 have Parkinson's disease.\n",
    "mdvp_shimmer_db (MDVP:Shimmer(dB)) group between 0.25-0.50 having Parkinson's patient with percentage of 93.220 followed by mdvp_shimmer_db (MDVP:Shimmer(dB)) group between 0.00-0.25 having Parkinson's patient with percentage of 61.404 .\n",
    "\n",
    "Let's check outliers for the attribute :"
   ]
  },
  {
   "cell_type": "code",
   "execution_count": null,
   "metadata": {
    "execution": {
     "iopub.execute_input": "2021-12-10T16:34:11.427161Z",
     "iopub.status.busy": "2021-12-10T16:34:11.426146Z",
     "iopub.status.idle": "2021-12-10T16:34:11.608751Z",
     "shell.execute_reply": "2021-12-10T16:34:11.607862Z",
     "shell.execute_reply.started": "2021-12-10T16:34:11.427101Z"
    }
   },
   "outputs": [],
   "source": [
    "ax = sns.boxplot(x=pdData[feature])        # seaborn boxplot to examine outliers of the feature"
   ]
  },
  {
   "cell_type": "markdown",
   "metadata": {},
   "source": [
    "In the 'mdvp_shimmer_db' attribute some outliers are present, let's check for the same :"
   ]
  },
  {
   "cell_type": "code",
   "execution_count": null,
   "metadata": {
    "execution": {
     "iopub.execute_input": "2021-12-10T16:34:38.345697Z",
     "iopub.status.busy": "2021-12-10T16:34:38.345355Z",
     "iopub.status.idle": "2021-12-10T16:34:38.366044Z",
     "shell.execute_reply": "2021-12-10T16:34:38.36487Z",
     "shell.execute_reply.started": "2021-12-10T16:34:38.345652Z"
    }
   },
   "outputs": [],
   "source": [
    "Q1 = pdData[feature].quantile(0.25)        # evaluating lower / first quartile\n",
    "Q3 = pdData[feature].quantile(0.75)        # evaluating upper / third quartile\n",
    "IQR = Q3 - Q1                              # evaluating Inter Quartile Range i.e IQR\n",
    "'''\n",
    "finding outliers which are mild outliers (Lower quartile - 1.5 times IQR) or\n",
    "extreme outliers (Upper quartile + 1.5 times IQR)\n",
    "'''\n",
    "outliers = pdData[((pdData[feature] < (Q1 - 1.5 * IQR)) |(pdData[feature] > (Q3 + 1.5 * IQR)))][feature]\n",
    "\n",
    "print(\"*\"*125)\n",
    "# printing mean, median and IQR for the feature\n",
    "print(\"\\033[1mFeature {0} : Mean = {1}, Median = {2} and Inter-Quartile-Range (IQR) = {3}\\033[0m\"\n",
    "      .format(feature,round(np.mean(pdData[feature]),6),round(np.median(pdData[feature]),6),round(IQR,6))\n",
    "     )\n",
    "print()\n",
    "print(\"*\"*125)\n",
    "# printing No of outliers, percentage of the data points are outliers and the values of the outliers\n",
    "print(\"There are \\033[1m{0} outliers\\033[0m ({1} % of the data points) in \\033[1m{2}\\033[0m feature and the values are \\033[1m{3}\\033[0m\"\n",
    ".format(outliers.shape[0],round(((outliers.shape[0]/pdData[feature].shape[0])*100),3),feature,outliers.tolist()))\n",
    "print(\"*\"*125)"
   ]
  },
  {
   "cell_type": "markdown",
   "metadata": {},
   "source": [
    "Now will check if any outliers present for different target attributes i.e 'status'"
   ]
  },
  {
   "cell_type": "code",
   "execution_count": null,
   "metadata": {
    "execution": {
     "iopub.execute_input": "2021-12-10T16:35:03.90329Z",
     "iopub.status.busy": "2021-12-10T16:35:03.902841Z",
     "iopub.status.idle": "2021-12-10T16:35:04.124407Z",
     "shell.execute_reply": "2021-12-10T16:35:04.1226Z",
     "shell.execute_reply.started": "2021-12-10T16:35:03.903247Z"
    }
   },
   "outputs": [],
   "source": [
    "sns.boxplot(x=pdData['status'],y=pdData[feature]) "
   ]
  },
  {
   "cell_type": "markdown",
   "metadata": {},
   "source": [
    "From above, it is observed that for 'mdvp_shimmer_db' attribute patients with Parkinson's disease have more outliers than Healthy patients."
   ]
  },
  {
   "cell_type": "markdown",
   "metadata": {},
   "source": [
    "K. 'shimmer_apq3' attribute : (Shimmer:APQ3) - One of the measure of variation in amplitude )"
   ]
  },
  {
   "cell_type": "code",
   "execution_count": null,
   "metadata": {
    "execution": {
     "iopub.execute_input": "2021-12-10T16:35:36.648902Z",
     "iopub.status.busy": "2021-12-10T16:35:36.648512Z",
     "iopub.status.idle": "2021-12-10T16:35:36.999043Z",
     "shell.execute_reply": "2021-12-10T16:35:36.997584Z",
     "shell.execute_reply.started": "2021-12-10T16:35:36.648854Z"
    }
   },
   "outputs": [],
   "source": [
    "feature = 'shimmer_apq3'\n",
    "meanData = 'Mean : ' + str(round(pdData[feature].mean(),6))        # variable to contain mean of the attribute\n",
    "skewData = 'Skewness : ' + str(round(pdData[feature].skew(),4))    # variable to contain skewness of the attribute\n",
    "plt.figure(figsize=(10,5))                                         # setting figure size with width = 10 and height = 5\n",
    "fig = sns.distplot(pdData[feature], bins=30, kde=True)             # seaborn distplot to examine distribution of the feature\n",
    "plt.title(\"Distribution of feature : \"+feature+\" having \"+meanData+\" and \"+skewData)   # setting title of the figure\n",
    "plt.show()"
   ]
  },
  {
   "cell_type": "markdown",
   "metadata": {},
   "source": [
    "From above we can understand the following about shimmer_apq3 (Shimmer:APQ3) attribute of the dataset:\n",
    "\n",
    "Mean value of the attribute is 0.0157 with skewness of 1.5806, which shows that the datapoints of the attribute is highly right / positive skewed.\n",
    "Maximum datapoints are ranging from 0.004 to 0.0175 ."
   ]
  },
  {
   "cell_type": "code",
   "execution_count": null,
   "metadata": {
    "execution": {
     "iopub.execute_input": "2021-12-10T16:36:08.891762Z",
     "iopub.status.busy": "2021-12-10T16:36:08.891411Z",
     "iopub.status.idle": "2021-12-10T16:36:09.32957Z",
     "shell.execute_reply": "2021-12-10T16:36:09.328531Z",
     "shell.execute_reply.started": "2021-12-10T16:36:08.89173Z"
    }
   },
   "outputs": [],
   "source": [
    "plt.figure(figsize=(10,5))                                         # setting figure size with width = 10 and height = 5\n",
    "# seaborn distplot to examine distribution of the feature of healthy patient\n",
    "fig = sns.distplot(pdData[pdData['status'] == 0][feature], bins=30, kde=True, label='Healthy')\n",
    "# seaborn distplot to examine distribution of the feature of Parkinson's patient\n",
    "fig = sns.distplot(pdData[pdData['status'] == 1][feature], bins=30, kde=True, label='Parkinson\\'s')\n",
    "plt.legend()\n",
    "plt.title(\"Distribution of feature : \"+feature)                    # setting title of the figure\n",
    "plt.show()"
   ]
  },
  {
   "cell_type": "markdown",
   "metadata": {},
   "source": [
    "From the above we can observe that, patients with shimmer_apq3 (Shimmer:APQ3) values greater than 0.015 are more likly to have Parkinson's disease.\n",
    "\n",
    "Lets bucket shimmer_apq3 (Shimmer:APQ3) and check w.r.t the different status i.e Healthy or Parkinson's:"
   ]
  },
  {
   "cell_type": "code",
   "execution_count": null,
   "metadata": {
    "execution": {
     "iopub.execute_input": "2021-12-10T16:36:29.833398Z",
     "iopub.status.busy": "2021-12-10T16:36:29.833103Z",
     "iopub.status.idle": "2021-12-10T16:36:30.110657Z",
     "shell.execute_reply": "2021-12-10T16:36:30.109602Z",
     "shell.execute_reply.started": "2021-12-10T16:36:29.833368Z"
    }
   },
   "outputs": [],
   "source": [
    "bins = [0.00, 0.01, 0.02, 0.03, 0.04, 0.05, 0.06]                                         # defining shimmer_apq3 bins,\n",
    "# defining labels of shimmer_apq3 groups as per bins defined as above\n",
    "shimmer_apq3_group = ['0.00-0.01', '0.01-0.02', '0.02-0.03', '0.03-0.04', '0.04-0.05', '0.05-0.06']\n",
    "pdData_shimmer_apq3_bin = pd.cut(pdData[feature],bins,labels=shimmer_apq3_group)  # segmenting data as per bins defined\n",
    "\n",
    "# putting into pandas crosstab and applying lambda function to take percentage and assigning to shimmer_apq3_group_col variable\n",
    "shimmer_apq3_group_col = pd.crosstab(pdData_shimmer_apq3_bin,pdData.status).apply(lambda r: r/r.sum()*100, axis=1)\n",
    "print(shimmer_apq3_group_col)                                                    # printing above crosstab\n",
    "\n",
    "# plotting a stacked bar chart to show PD status for different mdvp_fo_hz group\n",
    "shimmer_apq3_group_col.div(shimmer_apq3_group_col.sum(1).astype(float), axis=0).plot(kind='bar',stacked=True)\n",
    "plt.title(\"PD status with different shimmer_apq3 group\")                     # setting title of the figure"
   ]
  },
  {
   "cell_type": "markdown",
   "metadata": {},
   "source": [
    "We can find out the following from the above crosstab:\n",
    "All the patients under shimmer_apq3 (Shimmer:APQ3) groups ranging more than 0.03 have Parkinson's disease.\n",
    "shimmer_apq3 (Shimmer:APQ3) group between 0.02-0.03 having Parkinson's patient with percentage of 96.667 followed by shimmer_apq3 (Shimmer:APQ3) group between 0.01-0.02 having Parkinson's patient with percentage of 76.389 .\n",
    "shimmer_apq3 (Shimmer:APQ3) group between 0.00-0.01 having Parkinson's patient with percentage of 58.904 .\n",
    "\n",
    "Let's check outliers for the attribute :"
   ]
  },
  {
   "cell_type": "code",
   "execution_count": null,
   "metadata": {
    "execution": {
     "iopub.execute_input": "2021-12-10T16:36:48.786404Z",
     "iopub.status.busy": "2021-12-10T16:36:48.785676Z",
     "iopub.status.idle": "2021-12-10T16:36:48.917244Z",
     "shell.execute_reply": "2021-12-10T16:36:48.916194Z",
     "shell.execute_reply.started": "2021-12-10T16:36:48.786348Z"
    }
   },
   "outputs": [],
   "source": [
    "ax = sns.boxplot(x=pdData[feature])        # seaborn boxplot to examine outliers of the feature"
   ]
  },
  {
   "cell_type": "markdown",
   "metadata": {},
   "source": [
    "In the 'shimmer_apq3' attribute some outliers are present, let's check for the same :"
   ]
  },
  {
   "cell_type": "code",
   "execution_count": null,
   "metadata": {
    "execution": {
     "iopub.execute_input": "2021-12-10T16:37:10.914495Z",
     "iopub.status.busy": "2021-12-10T16:37:10.913765Z",
     "iopub.status.idle": "2021-12-10T16:37:10.932265Z",
     "shell.execute_reply": "2021-12-10T16:37:10.931163Z",
     "shell.execute_reply.started": "2021-12-10T16:37:10.914442Z"
    }
   },
   "outputs": [],
   "source": [
    "Q1 = pdData[feature].quantile(0.25)        # evaluating lower / first quartile\n",
    "Q3 = pdData[feature].quantile(0.75)        # evaluating upper / third quartile\n",
    "IQR = Q3 - Q1                              # evaluating Inter Quartile Range i.e IQR\n",
    "'''\n",
    "finding outliers which are mild outliers (Lower quartile - 1.5 times IQR) or\n",
    "extreme outliers (Upper quartile + 1.5 times IQR)\n",
    "'''\n",
    "outliers = pdData[((pdData[feature] < (Q1 - 1.5 * IQR)) |(pdData[feature] > (Q3 + 1.5 * IQR)))][feature]\n",
    "\n",
    "print(\"*\"*125)\n",
    "# printing mean, median and IQR for the feature\n",
    "print(\"\\033[1mFeature {0} : Mean = {1}, Median = {2} and Inter-Quartile-Range (IQR) = {3}\\033[0m\"\n",
    "      .format(feature,round(np.mean(pdData[feature]),6),round(np.median(pdData[feature]),6),round(IQR,6))\n",
    "     )\n",
    "print()\n",
    "print(\"*\"*125)\n",
    "# printing No of outliers, percentage of the data points are outliers and the values of the outliers\n",
    "print(\"There are \\033[1m{0} outliers\\033[0m ({1} % of the data points) in \\033[1m{2}\\033[0m feature and the values are \\033[1m{3}\\033[0m\"\n",
    ".format(outliers.shape[0],round(((outliers.shape[0]/pdData[feature].shape[0])*100),3),feature,outliers.tolist()))\n",
    "print(\"*\"*125)"
   ]
  },
  {
   "cell_type": "markdown",
   "metadata": {},
   "source": [
    "Now will check if any outliers present for different target attributes i.e 'status'"
   ]
  },
  {
   "cell_type": "code",
   "execution_count": null,
   "metadata": {
    "execution": {
     "iopub.execute_input": "2021-12-10T16:37:34.328909Z",
     "iopub.status.busy": "2021-12-10T16:37:34.327998Z",
     "iopub.status.idle": "2021-12-10T16:37:34.539826Z",
     "shell.execute_reply": "2021-12-10T16:37:34.538874Z",
     "shell.execute_reply.started": "2021-12-10T16:37:34.328865Z"
    }
   },
   "outputs": [],
   "source": [
    "sns.boxplot(x=pdData['status'],y=pdData[feature]) "
   ]
  },
  {
   "cell_type": "markdown",
   "metadata": {},
   "source": [
    "From above, it is observed that for 'shimmer_apq3' attribute patients with Parkinson's disease have more outliers than Healthy patients."
   ]
  },
  {
   "cell_type": "markdown",
   "metadata": {},
   "source": [
    "L. 'shimmer_apq5' attribute : (Shimmer:APQ5) - One of the measure of variation in amplitude )"
   ]
  },
  {
   "cell_type": "code",
   "execution_count": null,
   "metadata": {
    "execution": {
     "iopub.execute_input": "2021-12-10T16:38:03.787556Z",
     "iopub.status.busy": "2021-12-10T16:38:03.787225Z",
     "iopub.status.idle": "2021-12-10T16:38:04.081166Z",
     "shell.execute_reply": "2021-12-10T16:38:04.080497Z",
     "shell.execute_reply.started": "2021-12-10T16:38:03.787518Z"
    }
   },
   "outputs": [],
   "source": [
    "feature = 'shimmer_apq5'\n",
    "meanData = 'Mean : ' + str(round(pdData[feature].mean(),6))        # variable to contain mean of the attribute\n",
    "skewData = 'Skewness : ' + str(round(pdData[feature].skew(),4))    # variable to contain skewness of the attribute\n",
    "plt.figure(figsize=(10,5))                                         # setting figure size with width = 10 and height = 5\n",
    "fig = sns.distplot(pdData[feature], bins=30, kde=True)             # seaborn distplot to examine distribution of the feature\n",
    "plt.title(\"Distribution of feature : \"+feature+\" having \"+meanData+\" and \"+skewData)   # setting title of the figure\n",
    "plt.show()"
   ]
  },
  {
   "cell_type": "markdown",
   "metadata": {},
   "source": [
    "From above we can understand the following about shimmer_apq5 (Shimmer:APQ5) attribute of the dataset:\n",
    "\n",
    "Mean value of the attribute is 0.0179 with skewness of 1.7987, which shows that the datapoints of the attribute is highly right / positive skewed.\n",
    "Maximum datapoints are ranging from 0.004 to 0.02 ."
   ]
  },
  {
   "cell_type": "code",
   "execution_count": null,
   "metadata": {
    "execution": {
     "iopub.execute_input": "2021-12-10T16:38:23.31002Z",
     "iopub.status.busy": "2021-12-10T16:38:23.309459Z",
     "iopub.status.idle": "2021-12-10T16:38:24.053758Z",
     "shell.execute_reply": "2021-12-10T16:38:24.052863Z",
     "shell.execute_reply.started": "2021-12-10T16:38:23.309966Z"
    }
   },
   "outputs": [],
   "source": [
    "plt.figure(figsize=(10,5))                                         # setting figure size with width = 10 and height = 5\n",
    "# seaborn distplot to examine distribution of the feature of healthy patient\n",
    "fig = sns.distplot(pdData[pdData['status'] == 0][feature], bins=30, kde=True, label='Healthy')\n",
    "# seaborn distplot to examine distribution of the feature of Parkinson's patient\n",
    "fig = sns.distplot(pdData[pdData['status'] == 1][feature], bins=30, kde=True, label='Parkinson\\'s')\n",
    "plt.legend()\n",
    "plt.title(\"Distribution of feature : \"+feature)                    # setting title of the figure\n",
    "plt.show()"
   ]
  },
  {
   "cell_type": "markdown",
   "metadata": {},
   "source": [
    "From the above we can observe that, patients with shimmer_apq5 (Shimmer:APQ5) values greater than 0.015 are more likly to have Parkinson's disease.\n",
    "\n",
    "Lets bucket shimmer_apq5 (Shimmer:APQ5) and check w.r.t the different status i.e Healthy or Parkinson's:"
   ]
  },
  {
   "cell_type": "code",
   "execution_count": null,
   "metadata": {
    "execution": {
     "iopub.execute_input": "2021-12-10T16:56:46.396224Z",
     "iopub.status.busy": "2021-12-10T16:56:46.395608Z",
     "iopub.status.idle": "2021-12-10T16:56:46.725853Z",
     "shell.execute_reply": "2021-12-10T16:56:46.724901Z",
     "shell.execute_reply.started": "2021-12-10T16:56:46.396178Z"
    }
   },
   "outputs": [],
   "source": [
    "bins = [0.00, 0.01, 0.02, 0.03, 0.04, 0.05, 0.06, 0.08]                                         # defining shimmer_apq5 bins,\n",
    "# defining labels of shimmer_apq5 groups as per bins defined as above\n",
    "shimmer_apq5_group = ['0.00-0.01', '0.01-0.02', '0.02-0.03', '0.03-0.04', '0.04-0.05', '0.05-0.06', '0.06-0.08']\n",
    "pdData_shimmer_apq5_bin = pd.cut(pdData[feature],bins,labels=shimmer_apq5_group)  # segmenting data as per bins defined\n",
    "\n",
    "# putting into pandas crosstab and applying lambda function to take percentage and assigning to shimmer_apq5_group_col variable\n",
    "shimmer_apq5_group_col = pd.crosstab(pdData_shimmer_apq5_bin,pdData.status).apply(lambda r: r/r.sum()*100, axis=1)\n",
    "print(shimmer_apq5_group_col)                                                    # printing above crosstab\n",
    "\n",
    "# plotting a stacked bar chart to show PD status for different mdvp_fo_hz group\n",
    "shimmer_apq5_group_col.div(shimmer_apq5_group_col.sum(1).astype(float), axis=0).plot(kind='bar',stacked=True)\n",
    "plt.title(\"PD status with different shimmer_apq5 group\")                     # setting title of the figure"
   ]
  },
  {
   "cell_type": "markdown",
   "metadata": {},
   "source": [
    "We can find out the following from the above crosstab:\n",
    "All the patients under shimmer_apq5 (Shimmer:APQ5) groups ranging more than 0.03 have Parkinson's disease.\n",
    "shimmer_apq5 (Shimmer:APQ5) group between 0.02-0.03 having Parkinson's patient with percentage of 96.154 followed by shimmer_apq3 (Shimmer:APQ3) group between 0.01-0.02 having Parkinson's patient with percentage of 72.093 .\n",
    "shimmer_apq5 (Shimmer:APQ5) group between 0.00-0.01 having Parkinson's patient with percentage of 58.182 .\n",
    "\n",
    "Let's check outliers for the attribute :"
   ]
  },
  {
   "cell_type": "code",
   "execution_count": null,
   "metadata": {
    "execution": {
     "iopub.execute_input": "2021-12-10T16:57:47.794397Z",
     "iopub.status.busy": "2021-12-10T16:57:47.794051Z",
     "iopub.status.idle": "2021-12-10T16:57:47.99153Z",
     "shell.execute_reply": "2021-12-10T16:57:47.990566Z",
     "shell.execute_reply.started": "2021-12-10T16:57:47.794356Z"
    }
   },
   "outputs": [],
   "source": [
    "ax = sns.boxplot(x=pdData[feature])        # seaborn boxplot to examine outliers of the feature"
   ]
  },
  {
   "cell_type": "markdown",
   "metadata": {},
   "source": [
    "In the 'shimmer_apq5' attribute some outliers are present, let's check for the same :"
   ]
  },
  {
   "cell_type": "code",
   "execution_count": null,
   "metadata": {
    "execution": {
     "iopub.execute_input": "2021-12-10T16:58:08.488396Z",
     "iopub.status.busy": "2021-12-10T16:58:08.488083Z",
     "iopub.status.idle": "2021-12-10T16:58:08.508146Z",
     "shell.execute_reply": "2021-12-10T16:58:08.506912Z",
     "shell.execute_reply.started": "2021-12-10T16:58:08.48836Z"
    }
   },
   "outputs": [],
   "source": [
    "Q1 = pdData[feature].quantile(0.25)        # evaluating lower / first quartile\n",
    "Q3 = pdData[feature].quantile(0.75)        # evaluating upper / third quartile\n",
    "IQR = Q3 - Q1                              # evaluating Inter Quartile Range i.e IQR\n",
    "'''\n",
    "finding outliers which are mild outliers (Lower quartile - 1.5 times IQR) or\n",
    "extreme outliers (Upper quartile + 1.5 times IQR)\n",
    "'''\n",
    "outliers = pdData[((pdData[feature] < (Q1 - 1.5 * IQR)) |(pdData[feature] > (Q3 + 1.5 * IQR)))][feature]\n",
    "\n",
    "print(\"*\"*125)\n",
    "# printing mean, median and IQR for the feature\n",
    "print(\"\\033[1mFeature {0} : Mean = {1}, Median = {2} and Inter-Quartile-Range (IQR) = {3}\\033[0m\"\n",
    "      .format(feature,round(np.mean(pdData[feature]),6),round(np.median(pdData[feature]),6),round(IQR,6))\n",
    "     )\n",
    "print()\n",
    "print(\"*\"*125)\n",
    "# printing No of outliers, percentage of the data points are outliers and the values of the outliers\n",
    "print(\"There are \\033[1m{0} outliers\\033[0m ({1} % of the data points) in \\033[1m{2}\\033[0m feature and the values are \\033[1m{3}\\033[0m\"\n",
    ".format(outliers.shape[0],round(((outliers.shape[0]/pdData[feature].shape[0])*100),3),feature,outliers.tolist()))\n",
    "print(\"*\"*125)"
   ]
  },
  {
   "cell_type": "markdown",
   "metadata": {},
   "source": [
    "Now will check if any outliers present for different target attributes i.e 'status'\n"
   ]
  },
  {
   "cell_type": "code",
   "execution_count": null,
   "metadata": {
    "execution": {
     "iopub.execute_input": "2021-12-10T17:05:46.600861Z",
     "iopub.status.busy": "2021-12-10T17:05:46.600504Z",
     "iopub.status.idle": "2021-12-10T17:05:46.837196Z",
     "shell.execute_reply": "2021-12-10T17:05:46.836197Z",
     "shell.execute_reply.started": "2021-12-10T17:05:46.600823Z"
    }
   },
   "outputs": [],
   "source": [
    "sns.boxplot(x=pdData['status'],y=pdData[feature]) "
   ]
  },
  {
   "cell_type": "markdown",
   "metadata": {},
   "source": [
    "From above, it is observed that for 'shimmer_apq5' attribute patients with Parkinson's disease have more outliers than Healthy patients."
   ]
  },
  {
   "cell_type": "markdown",
   "metadata": {},
   "source": [
    "M. 'mdvp_apq' attribute : (MDVP:APQ) - One of the measure of variation in amplitude )"
   ]
  },
  {
   "cell_type": "code",
   "execution_count": null,
   "metadata": {
    "execution": {
     "iopub.execute_input": "2021-12-10T17:11:58.554625Z",
     "iopub.status.busy": "2021-12-10T17:11:58.554299Z",
     "iopub.status.idle": "2021-12-10T17:11:58.848392Z",
     "shell.execute_reply": "2021-12-10T17:11:58.84725Z",
     "shell.execute_reply.started": "2021-12-10T17:11:58.55459Z"
    }
   },
   "outputs": [],
   "source": [
    "feature = 'mdvp_apq'\n",
    "meanData = 'Mean : ' + str(round(pdData[feature].mean(),6))        # variable to contain mean of the attribute\n",
    "skewData = 'Skewness : ' + str(round(pdData[feature].skew(),4))    # variable to contain skewness of the attribute\n",
    "plt.figure(figsize=(10,5))                                         # setting figure size with width = 10 and height = 5\n",
    "fig = sns.distplot(pdData[feature], bins=30, kde=True)             # seaborn distplot to examine distribution of the feature\n",
    "plt.title(\"Distribution of feature : \"+feature+\" having \"+meanData+\" and \"+skewData)   # setting title of the figure\n",
    "plt.show()"
   ]
  },
  {
   "cell_type": "markdown",
   "metadata": {},
   "source": [
    "From above we can understand the following about mdvp_apq (MDVP:APQ) attribute of the dataset:\n",
    "\n",
    "Mean value of the attribute is 0.0241 with skewness of 2.618, which shows that the datapoints of the attribute is highly right / positive skewed.\n",
    "Maximum datapoints are ranging from 0.007 to 0.03 .\n"
   ]
  },
  {
   "cell_type": "code",
   "execution_count": null,
   "metadata": {
    "execution": {
     "iopub.execute_input": "2021-12-10T17:13:59.85934Z",
     "iopub.status.busy": "2021-12-10T17:13:59.858975Z",
     "iopub.status.idle": "2021-12-10T17:14:00.280675Z",
     "shell.execute_reply": "2021-12-10T17:14:00.279564Z",
     "shell.execute_reply.started": "2021-12-10T17:13:59.859303Z"
    }
   },
   "outputs": [],
   "source": [
    "plt.figure(figsize=(10,5))                                         # setting figure size with width = 10 and height = 5\n",
    "# seaborn distplot to examine distribution of the feature of healthy patient\n",
    "fig = sns.distplot(pdData[pdData['status'] == 0][feature], bins=30, kde=True, label='Healthy')\n",
    "# seaborn distplot to examine distribution of the feature of Parkinson's patient\n",
    "fig = sns.distplot(pdData[pdData['status'] == 1][feature], bins=30, kde=True, label='Parkinson\\'s')\n",
    "plt.legend()\n",
    "plt.title(\"Distribution of feature : \"+feature)                    # setting title of the figure\n",
    "plt.show()"
   ]
  },
  {
   "cell_type": "markdown",
   "metadata": {},
   "source": [
    "From the above we can observe that, patients with mdvp_apq (MDVP:APQ) values greater than 0.02 are more likly to have Parkinson's disease.\n",
    "\n",
    "Lets bucket mdvp_apq (MDVP:APQ) and check w.r.t the different status i.e Healthy or Parkinson's:"
   ]
  },
  {
   "cell_type": "code",
   "execution_count": null,
   "metadata": {
    "execution": {
     "iopub.execute_input": "2021-12-10T17:14:26.57361Z",
     "iopub.status.busy": "2021-12-10T17:14:26.572601Z",
     "iopub.status.idle": "2021-12-10T17:14:26.88947Z",
     "shell.execute_reply": "2021-12-10T17:14:26.888549Z",
     "shell.execute_reply.started": "2021-12-10T17:14:26.573558Z"
    }
   },
   "outputs": [],
   "source": [
    "bins = [0.00, 0.02, 0.04, 0.06, 0.08, 0.10, 0.14]                                         # defining mdvp_apq bins,\n",
    "# defining labels of mdvp_apq groups as per bins defined as above\n",
    "mdvp_apq_group = ['0.00-0.02', '0.02-0.04', '0.04-0.06', '0.06-0.08', '0.08-0.10', '0.10-0.14']\n",
    "pdData_mdvp_apq_bin = pd.cut(pdData[feature],bins,labels=mdvp_apq_group)  # segmenting data as per bins defined\n",
    "\n",
    "# putting into pandas crosstab and applying lambda function to take percentage and assigning to mdvp_apq_group_col variable\n",
    "mdvp_apq_group_col = pd.crosstab(pdData_mdvp_apq_bin,pdData.status).apply(lambda r: r/r.sum()*100, axis=1)\n",
    "print(mdvp_apq_group_col)                                                    # printing above crosstab\n",
    "\n",
    "# plotting a stacked bar chart to show PD status for different mdvp_fo_hz group\n",
    "mdvp_apq_group_col.div(mdvp_apq_group_col.sum(1).astype(float), axis=0).plot(kind='bar',stacked=True)\n",
    "plt.title(\"PD status with different mdvp_apq group\")                     # setting title of the figure"
   ]
  },
  {
   "cell_type": "markdown",
   "metadata": {},
   "source": [
    "We can find out the following from the above crosstab:\n",
    "All the patients under mdvp_apq (MDVP:APQ) groups ranging more than 0.04 have Parkinson's disease.\n",
    "mdvp_apq (MDVP:APQ) group between 0.02-0.04 having Parkinson's patient with percentage of 98.246 followed by mdvp_apq (MDVP:APQ) group between 0.00-0.02 having Parkinson's patient with percentage of 57.273 .\n",
    "\n",
    "Let's check outliers for the attribute :"
   ]
  },
  {
   "cell_type": "code",
   "execution_count": null,
   "metadata": {
    "execution": {
     "iopub.execute_input": "2021-12-10T17:23:21.783639Z",
     "iopub.status.busy": "2021-12-10T17:23:21.783291Z",
     "iopub.status.idle": "2021-12-10T17:23:21.968064Z",
     "shell.execute_reply": "2021-12-10T17:23:21.967162Z",
     "shell.execute_reply.started": "2021-12-10T17:23:21.783599Z"
    }
   },
   "outputs": [],
   "source": [
    "ax = sns.boxplot(x=pdData[feature])        # seaborn boxplot to examine outliers of the feature"
   ]
  },
  {
   "cell_type": "markdown",
   "metadata": {},
   "source": [
    "In the 'mdvp_apq' attribute some outliers are present, let's check for the same :"
   ]
  },
  {
   "cell_type": "code",
   "execution_count": null,
   "metadata": {
    "execution": {
     "iopub.execute_input": "2021-12-10T17:23:46.893737Z",
     "iopub.status.busy": "2021-12-10T17:23:46.893083Z",
     "iopub.status.idle": "2021-12-10T17:23:46.909867Z",
     "shell.execute_reply": "2021-12-10T17:23:46.908889Z",
     "shell.execute_reply.started": "2021-12-10T17:23:46.893692Z"
    }
   },
   "outputs": [],
   "source": [
    "Q1 = pdData[feature].quantile(0.25)        # evaluating lower / first quartile\n",
    "Q3 = pdData[feature].quantile(0.75)        # evaluating upper / third quartile\n",
    "IQR = Q3 - Q1                              # evaluating Inter Quartile Range i.e IQR\n",
    "'''\n",
    "finding outliers which are mild outliers (Lower quartile - 1.5 times IQR) or\n",
    "extreme outliers (Upper quartile + 1.5 times IQR)\n",
    "'''\n",
    "outliers = pdData[((pdData[feature] < (Q1 - 1.5 * IQR)) |(pdData[feature] > (Q3 + 1.5 * IQR)))][feature]\n",
    "\n",
    "print(\"*\"*125)\n",
    "# printing mean, median and IQR for the feature\n",
    "print(\"\\033[1mFeature {0} : Mean = {1}, Median = {2} and Inter-Quartile-Range (IQR) = {3}\\033[0m\"\n",
    "      .format(feature,round(np.mean(pdData[feature]),6),round(np.median(pdData[feature]),6),round(IQR,6))\n",
    "     )\n",
    "print()\n",
    "print(\"*\"*125)\n",
    "# printing No of outliers, percentage of the data points are outliers and the values of the outliers\n",
    "print(\"There are \\033[1m{0} outliers\\033[0m ({1} % of the data points) in \\033[1m{2}\\033[0m feature and the values are \\033[1m{3}\\033[0m\"\n",
    ".format(outliers.shape[0],round(((outliers.shape[0]/pdData[feature].shape[0])*100),3),feature,outliers.tolist()))\n",
    "print(\"*\"*125)"
   ]
  },
  {
   "cell_type": "markdown",
   "metadata": {},
   "source": [
    "Now will check if any outliers present for different target attributes i.e 'status"
   ]
  },
  {
   "cell_type": "code",
   "execution_count": null,
   "metadata": {
    "execution": {
     "iopub.execute_input": "2021-12-10T17:24:06.981473Z",
     "iopub.status.busy": "2021-12-10T17:24:06.981135Z",
     "iopub.status.idle": "2021-12-10T17:24:07.195223Z",
     "shell.execute_reply": "2021-12-10T17:24:07.194314Z",
     "shell.execute_reply.started": "2021-12-10T17:24:06.981435Z"
    }
   },
   "outputs": [],
   "source": [
    "sns.boxplot(x=pdData['status'],y=pdData[feature]) "
   ]
  },
  {
   "cell_type": "markdown",
   "metadata": {},
   "source": [
    "From above, it is observed that for 'mdvp_apq' attribute patients with Parkinson's disease have more outliers than Healthy patients."
   ]
  },
  {
   "cell_type": "markdown",
   "metadata": {},
   "source": [
    "N. 'shimmer_dda' attribute : (Shimmer:DDA) - One of the measure of variation in amplitude )"
   ]
  },
  {
   "cell_type": "code",
   "execution_count": null,
   "metadata": {
    "execution": {
     "iopub.execute_input": "2021-12-10T17:24:35.256022Z",
     "iopub.status.busy": "2021-12-10T17:24:35.255689Z",
     "iopub.status.idle": "2021-12-10T17:24:35.544044Z",
     "shell.execute_reply": "2021-12-10T17:24:35.54303Z",
     "shell.execute_reply.started": "2021-12-10T17:24:35.255988Z"
    }
   },
   "outputs": [],
   "source": [
    "feature = 'shimmer_dda'\n",
    "meanData = 'Mean : ' + str(round(pdData[feature].mean(),6))        # variable to contain mean of the attribute\n",
    "skewData = 'Skewness : ' + str(round(pdData[feature].skew(),4))    # variable to contain skewness of the attribute\n",
    "plt.figure(figsize=(10,5))                                         # setting figure size with width = 10 and height = 5\n",
    "fig = sns.distplot(pdData[feature], bins=30, kde=True)             # seaborn distplot to examine distribution of the feature\n",
    "plt.title(\"Distribution of feature : \"+feature+\" having \"+meanData+\" and \"+skewData)   # setting title of the figure\n",
    "plt.show()"
   ]
  },
  {
   "cell_type": "markdown",
   "metadata": {},
   "source": [
    "From above we can understand the following about shimmer_dda (Shimmer:DDA) attribute of the dataset:\n",
    "\n",
    "Mean value of the attribute is 0.0470 with skewness of 1.5806, which shows that the datapoints of the attribute is highly right / positive skewed.\n",
    "Maximum datapoints are ranging from 0.013 to 0.06 ."
   ]
  },
  {
   "cell_type": "code",
   "execution_count": null,
   "metadata": {
    "execution": {
     "iopub.execute_input": "2021-12-10T17:24:57.063272Z",
     "iopub.status.busy": "2021-12-10T17:24:57.062951Z",
     "iopub.status.idle": "2021-12-10T17:24:57.508702Z",
     "shell.execute_reply": "2021-12-10T17:24:57.507565Z",
     "shell.execute_reply.started": "2021-12-10T17:24:57.063239Z"
    }
   },
   "outputs": [],
   "source": [
    "plt.figure(figsize=(10,5))                                         # setting figure size with width = 10 and height = 5\n",
    "# seaborn distplot to examine distribution of the feature of healthy patient\n",
    "fig = sns.distplot(pdData[pdData['status'] == 0][feature], bins=30, kde=True, label='Healthy')\n",
    "# seaborn distplot to examine distribution of the feature of Parkinson's patient\n",
    "fig = sns.distplot(pdData[pdData['status'] == 1][feature], bins=30, kde=True, label='Parkinson\\'s')\n",
    "plt.legend()\n",
    "plt.title(\"Distribution of feature : \"+feature)                    # setting title of the figure\n",
    "plt.show()"
   ]
  },
  {
   "cell_type": "markdown",
   "metadata": {},
   "source": [
    "From the above we can observe that, patients with shimmer_dda (Shimmer:DDA) values greater than 0.04 are more likly to have Parkinson's disease.\n",
    "\n",
    "Lets bucket shimmer_dda (Shimmer:DDA) and check w.r.t the different status i.e Healthy or Parkinson's:"
   ]
  },
  {
   "cell_type": "code",
   "execution_count": null,
   "metadata": {
    "execution": {
     "iopub.execute_input": "2021-12-10T17:25:17.587283Z",
     "iopub.status.busy": "2021-12-10T17:25:17.586954Z",
     "iopub.status.idle": "2021-12-10T17:25:17.901538Z",
     "shell.execute_reply": "2021-12-10T17:25:17.900596Z",
     "shell.execute_reply.started": "2021-12-10T17:25:17.587249Z"
    }
   },
   "outputs": [],
   "source": [
    "bins = [0.010, 0.025, 0.050, 0.075, 0.100, 0.125, 0.150]                                         # defining shimmer_dda bins,\n",
    "# defining labels of shimmer_dda groups as per bins defined as above\n",
    "shimmer_dda_group = ['0.010-0.025', '0.025-0.050', '0.050-0.075', '0.075-0.100', '0.100-0.125', '0.125-0.150']\n",
    "pdData_shimmer_dda_bin = pd.cut(pdData[feature],bins,labels=shimmer_dda_group)  # segmenting data as per bins defined\n",
    "\n",
    "# putting into pandas crosstab and applying lambda function to take percentage and assigning to shimmer_dda_group_col variable\n",
    "shimmer_dda_group_col = pd.crosstab(pdData_shimmer_dda_bin,pdData.status).apply(lambda r: r/r.sum()*100, axis=1)\n",
    "print(shimmer_dda_group_col)                                                    # printing above crosstab\n",
    "\n",
    "# plotting a stacked bar chart to show PD status for different mdvp_fo_hz group\n",
    "shimmer_dda_group_col.div(shimmer_dda_group_col.sum(1).astype(float), axis=0).plot(kind='bar',stacked=True)\n",
    "plt.title(\"PD status with different shimmer_dda group\")                     # setting title of the figure"
   ]
  },
  {
   "cell_type": "markdown",
   "metadata": {},
   "source": [
    "We can find out the following from the above crosstab:\n",
    "All the patients under shimmer_dda (Shimmer:DDA) groups ranging more than 0.075 have Parkinson's disease.\n",
    "shimmer_dda (Shimmer:DDA) group between 0.050-0.075 having Parkinson's patient with percentage of 96.970 followed by shimmer_dda (Shimmer:DDA) group between 0.025-0.050 having Parkinson's patient with percentage of 65.000 .\n",
    "*shimmer_dda (Shimmer:DDA) group between 0.010-0.025 having Parkinson's patient with percentage of 62.745 *\n",
    "\n",
    "Let's check outliers for the attribute :"
   ]
  },
  {
   "cell_type": "code",
   "execution_count": null,
   "metadata": {
    "execution": {
     "iopub.execute_input": "2021-12-10T17:25:39.986504Z",
     "iopub.status.busy": "2021-12-10T17:25:39.985619Z",
     "iopub.status.idle": "2021-12-10T17:25:40.17789Z",
     "shell.execute_reply": "2021-12-10T17:25:40.176931Z",
     "shell.execute_reply.started": "2021-12-10T17:25:39.986445Z"
    }
   },
   "outputs": [],
   "source": [
    "ax = sns.boxplot(x=pdData[feature])        # seaborn boxplot to examine outliers of the feature"
   ]
  },
  {
   "cell_type": "markdown",
   "metadata": {},
   "source": [
    "In the 'shimmer_dda' attribute some outliers are present, let's check for the same :"
   ]
  },
  {
   "cell_type": "code",
   "execution_count": null,
   "metadata": {
    "execution": {
     "iopub.execute_input": "2021-12-10T17:26:04.921709Z",
     "iopub.status.busy": "2021-12-10T17:26:04.921384Z",
     "iopub.status.idle": "2021-12-10T17:26:04.941284Z",
     "shell.execute_reply": "2021-12-10T17:26:04.940039Z",
     "shell.execute_reply.started": "2021-12-10T17:26:04.921671Z"
    }
   },
   "outputs": [],
   "source": [
    "Q1 = pdData[feature].quantile(0.25)        # evaluating lower / first quartile\n",
    "Q3 = pdData[feature].quantile(0.75)        # evaluating upper / third quartile\n",
    "IQR = Q3 - Q1                              # evaluating Inter Quartile Range i.e IQR\n",
    "'''\n",
    "finding outliers which are mild outliers (Lower quartile - 1.5 times IQR) or\n",
    "extreme outliers (Upper quartile + 1.5 times IQR)\n",
    "'''\n",
    "outliers = pdData[((pdData[feature] < (Q1 - 1.5 * IQR)) |(pdData[feature] > (Q3 + 1.5 * IQR)))][feature]\n",
    "\n",
    "print(\"*\"*125)\n",
    "# printing mean, median and IQR for the feature\n",
    "print(\"\\033[1mFeature {0} : Mean = {1}, Median = {2} and Inter-Quartile-Range (IQR) = {3}\\033[0m\"\n",
    "      .format(feature,round(np.mean(pdData[feature]),6),round(np.median(pdData[feature]),6),round(IQR,6))\n",
    "     )\n",
    "print()\n",
    "print(\"*\"*125)\n",
    "# printing No of outliers, percentage of the data points are outliers and the values of the outliers\n",
    "print(\"There are \\033[1m{0} outliers\\033[0m ({1} % of the data points) in \\033[1m{2}\\033[0m feature and the values are \\033[1m{3}\\033[0m\"\n",
    ".format(outliers.shape[0],round(((outliers.shape[0]/pdData[feature].shape[0])*100),3),feature,outliers.tolist()))\n",
    "print(\"*\"*125)"
   ]
  },
  {
   "cell_type": "markdown",
   "metadata": {},
   "source": [
    "Now will check if any outliers present for different target attributes i.e 'status'"
   ]
  },
  {
   "cell_type": "code",
   "execution_count": null,
   "metadata": {
    "execution": {
     "iopub.execute_input": "2021-12-10T17:26:50.236163Z",
     "iopub.status.busy": "2021-12-10T17:26:50.23585Z",
     "iopub.status.idle": "2021-12-10T17:26:50.45637Z",
     "shell.execute_reply": "2021-12-10T17:26:50.455428Z",
     "shell.execute_reply.started": "2021-12-10T17:26:50.236131Z"
    }
   },
   "outputs": [],
   "source": [
    "sns.boxplot(x=pdData['status'],y=pdData[feature]) "
   ]
  },
  {
   "cell_type": "markdown",
   "metadata": {},
   "source": [
    "From above, it is observed that for 'shimmer_dda' attribute patients with Parkinson's disease have more outliers than Healthy patients."
   ]
  },
  {
   "cell_type": "markdown",
   "metadata": {},
   "source": [
    "O. 'nhr' attribute : (NHR) - Measures of ratio of noise to tonal components in the voice )"
   ]
  },
  {
   "cell_type": "code",
   "execution_count": null,
   "metadata": {
    "execution": {
     "iopub.execute_input": "2021-12-10T17:27:24.116445Z",
     "iopub.status.busy": "2021-12-10T17:27:24.116149Z",
     "iopub.status.idle": "2021-12-10T17:27:24.443664Z",
     "shell.execute_reply": "2021-12-10T17:27:24.442713Z",
     "shell.execute_reply.started": "2021-12-10T17:27:24.116413Z"
    }
   },
   "outputs": [],
   "source": [
    "feature = 'nhr'\n",
    "meanData = 'Mean : ' + str(round(pdData[feature].mean(),6))        # variable to contain mean of the attribute\n",
    "skewData = 'Skewness : ' + str(round(pdData[feature].skew(),4))    # variable to contain skewness of the attribute\n",
    "plt.figure(figsize=(10,5))                                         # setting figure size with width = 10 and height = 5\n",
    "fig = sns.distplot(pdData[feature], bins=30, kde=True)             # seaborn distplot to examine distribution of the feature\n",
    "plt.title(\"Distribution of feature : \"+feature+\" having \"+meanData+\" and \"+skewData)   # setting title of the figure\n",
    "plt.show()"
   ]
  },
  {
   "cell_type": "markdown",
   "metadata": {},
   "source": [
    "From above we can understand the following about nhr (NHR) attribute of the dataset:\n",
    "\n",
    "Mean value of the attribute is 0.0248 with skewness of 4.2207, which shows that the datapoints of the attribute is highly right / positive skewed.\n",
    "Maximum datapoints are ranging from 0.00 to 0.030 ."
   ]
  },
  {
   "cell_type": "code",
   "execution_count": null,
   "metadata": {
    "execution": {
     "iopub.execute_input": "2021-12-10T17:27:59.324397Z",
     "iopub.status.busy": "2021-12-10T17:27:59.324055Z",
     "iopub.status.idle": "2021-12-10T17:27:59.738443Z",
     "shell.execute_reply": "2021-12-10T17:27:59.737593Z",
     "shell.execute_reply.started": "2021-12-10T17:27:59.324359Z"
    }
   },
   "outputs": [],
   "source": [
    "plt.figure(figsize=(10,5))                                         # setting figure size with width = 10 and height = 5\n",
    "# seaborn distplot to examine distribution of the feature of healthy patient\n",
    "fig = sns.distplot(pdData[pdData['status'] == 0][feature], bins=30, kde=True, label='Healthy')\n",
    "# seaborn distplot to examine distribution of the feature of Parkinson's patient\n",
    "fig = sns.distplot(pdData[pdData['status'] == 1][feature], bins=30, kde=True, label='Parkinson\\'s')\n",
    "plt.legend()\n",
    "plt.title(\"Distribution of feature : \"+feature)                    # setting title of the figure\n",
    "plt.show()"
   ]
  },
  {
   "cell_type": "markdown",
   "metadata": {},
   "source": [
    "From the above we can observe that, patients with nhr (NHR) values greater than 0.02 are more likly to have Parkinson's disease.\n",
    "\n",
    "Lets bucket nhr (NHR) and check w.r.t the different status i.e Healthy or Parkinson's:"
   ]
  },
  {
   "cell_type": "code",
   "execution_count": null,
   "metadata": {
    "execution": {
     "iopub.execute_input": "2021-12-10T17:28:22.018356Z",
     "iopub.status.busy": "2021-12-10T17:28:22.018064Z",
     "iopub.status.idle": "2021-12-10T17:28:22.320577Z",
     "shell.execute_reply": "2021-12-10T17:28:22.31971Z",
     "shell.execute_reply.started": "2021-12-10T17:28:22.018325Z"
    }
   },
   "outputs": [],
   "source": [
    "bins = [0.00, 0.05, 0.10, 0.15, 0.20, 0.25, 0.32]                                         # defining nhr bins,\n",
    "# defining labels of nhr groups as per bins defined as above\n",
    "nhr_group = ['0.00-0.05', '0.05-0.10', '0.10-0.15', '0.15-0.20', '0.20-0.25', '0.25-0.32']\n",
    "pdData_nhr_bin = pd.cut(pdData[feature],bins,labels=nhr_group)  # segmenting data as per bins defined\n",
    "\n",
    "# putting into pandas crosstab and applying lambda function to take percentage and assigning to nhr_group_col variable\n",
    "nhr_group_col = pd.crosstab(pdData_nhr_bin,pdData.status).apply(lambda r: r/r.sum()*100, axis=1)\n",
    "print(nhr_group_col)                                                    # printing above crosstab\n",
    "\n",
    "# plotting a stacked bar chart to show PD status for different mdvp_fo_hz group\n",
    "nhr_group_col.div(nhr_group_col.sum(1).astype(float), axis=0).plot(kind='bar',stacked=True)\n",
    "plt.title(\"PD status with different nhr group\")                     # setting title of the figure"
   ]
  },
  {
   "cell_type": "markdown",
   "metadata": {},
   "source": [
    "We can find out the following from the above crosstab:\n",
    "All the patients under nhr (NHR) groups ranging more than 0.15 have Parkinson's disease.\n",
    "nhr (NHR) group between 0.05-0.10 having Parkinson's patient with percentage of 90.000 followed by nhr (NHR) group between 0.010-0.15 having Parkinson's patient with percentage of 80.000 .\n",
    "*nhr (NHR) group between 0.00-0.05 having Parkinson's patient with percentage of 73.714 *"
   ]
  },
  {
   "cell_type": "markdown",
   "metadata": {},
   "source": [
    "Let's check outliers for the attribute :"
   ]
  },
  {
   "cell_type": "code",
   "execution_count": null,
   "metadata": {
    "execution": {
     "iopub.execute_input": "2021-12-10T17:29:42.430101Z",
     "iopub.status.busy": "2021-12-10T17:29:42.429125Z",
     "iopub.status.idle": "2021-12-10T17:29:42.6176Z",
     "shell.execute_reply": "2021-12-10T17:29:42.616585Z",
     "shell.execute_reply.started": "2021-12-10T17:29:42.430041Z"
    }
   },
   "outputs": [],
   "source": [
    "ax = sns.boxplot(x=pdData[feature])        # seaborn boxplot to examine outliers of the feature"
   ]
  },
  {
   "cell_type": "markdown",
   "metadata": {},
   "source": [
    "In the 'nhr' attribute some outliers are present, let's check for the same :"
   ]
  },
  {
   "cell_type": "code",
   "execution_count": null,
   "metadata": {
    "execution": {
     "iopub.execute_input": "2021-12-10T17:30:32.065443Z",
     "iopub.status.busy": "2021-12-10T17:30:32.064638Z",
     "iopub.status.idle": "2021-12-10T17:30:32.083581Z",
     "shell.execute_reply": "2021-12-10T17:30:32.082616Z",
     "shell.execute_reply.started": "2021-12-10T17:30:32.065391Z"
    }
   },
   "outputs": [],
   "source": [
    "Q1 = pdData[feature].quantile(0.25)        # evaluating lower / first quartile\n",
    "Q3 = pdData[feature].quantile(0.75)        # evaluating upper / third quartile\n",
    "IQR = Q3 - Q1                              # evaluating Inter Quartile Range i.e IQR\n",
    "'''\n",
    "finding outliers which are mild outliers (Lower quartile - 1.5 times IQR) or\n",
    "extreme outliers (Upper quartile + 1.5 times IQR)\n",
    "'''\n",
    "outliers = pdData[((pdData[feature] < (Q1 - 1.5 * IQR)) |(pdData[feature] > (Q3 + 1.5 * IQR)))][feature]\n",
    "\n",
    "print(\"*\"*125)\n",
    "# printing mean, median and IQR for the feature\n",
    "print(\"\\033[1mFeature {0} : Mean = {1}, Median = {2} and Inter-Quartile-Range (IQR) = {3}\\033[0m\"\n",
    "      .format(feature,round(np.mean(pdData[feature]),6),round(np.median(pdData[feature]),6),round(IQR,6))\n",
    "     )\n",
    "print()\n",
    "print(\"*\"*125)\n",
    "# printing No of outliers, percentage of the data points are outliers and the values of the outliers\n",
    "print(\"There are \\033[1m{0} outliers\\033[0m ({1} % of the data points) in \\033[1m{2}\\033[0m feature and the values are \\033[1m{3}\\033[0m\"\n",
    ".format(outliers.shape[0],round(((outliers.shape[0]/pdData[feature].shape[0])*100),3),feature,outliers.tolist()))\n",
    "print(\"*\"*125)"
   ]
  },
  {
   "cell_type": "markdown",
   "metadata": {},
   "source": [
    "\n",
    "Now will check if any outliers present for different target attributes i.e 'status'"
   ]
  },
  {
   "cell_type": "code",
   "execution_count": null,
   "metadata": {
    "execution": {
     "iopub.execute_input": "2021-12-10T17:31:41.006554Z",
     "iopub.status.busy": "2021-12-10T17:31:41.006211Z",
     "iopub.status.idle": "2021-12-10T17:31:41.229528Z",
     "shell.execute_reply": "2021-12-10T17:31:41.22855Z",
     "shell.execute_reply.started": "2021-12-10T17:31:41.006516Z"
    }
   },
   "outputs": [],
   "source": [
    "sns.boxplot(x=pdData['status'],y=pdData[feature]) "
   ]
  },
  {
   "cell_type": "markdown",
   "metadata": {},
   "source": [
    "From above, it is observed that for 'nhr' attribute patients with Parkinson's disease have more outliers than Healthy patients."
   ]
  },
  {
   "cell_type": "markdown",
   "metadata": {},
   "source": [
    "P. 'hnr' attribute : (HNR) - Measures of ratio of noise to tonal components in the voice )"
   ]
  },
  {
   "cell_type": "code",
   "execution_count": null,
   "metadata": {
    "execution": {
     "iopub.execute_input": "2021-12-10T17:38:39.219421Z",
     "iopub.status.busy": "2021-12-10T17:38:39.21906Z",
     "iopub.status.idle": "2021-12-10T17:38:39.519851Z",
     "shell.execute_reply": "2021-12-10T17:38:39.518909Z",
     "shell.execute_reply.started": "2021-12-10T17:38:39.21938Z"
    }
   },
   "outputs": [],
   "source": [
    "feature = 'hnr'\n",
    "meanData = 'Mean : ' + str(round(pdData[feature].mean(),6))        # variable to contain mean of the attribute\n",
    "skewData = 'Skewness : ' + str(round(pdData[feature].skew(),4))    # variable to contain skewness of the attribute\n",
    "plt.figure(figsize=(10,5))                                         # setting figure size with width = 10 and height = 5\n",
    "fig = sns.distplot(pdData[feature], bins=30, kde=True)             # seaborn distplot to examine distribution of the feature\n",
    "plt.title(\"Distribution of feature : \"+feature+\" having \"+meanData+\" and \"+skewData)   # setting title of the figure\n",
    "plt.show()"
   ]
  },
  {
   "cell_type": "markdown",
   "metadata": {},
   "source": [
    "From above we can understand the following about hnr (HNR) attribute of the dataset:\n",
    "\n",
    "Mean value of the attribute is 21.8860 with skewness of -0.5143, which shows that the datapoints of the attribute is slightly left / negative skewed.\n",
    "Maximum datapoints are ranging from 18 to 27 ."
   ]
  },
  {
   "cell_type": "code",
   "execution_count": null,
   "metadata": {
    "execution": {
     "iopub.execute_input": "2021-12-10T17:39:03.729244Z",
     "iopub.status.busy": "2021-12-10T17:39:03.728307Z",
     "iopub.status.idle": "2021-12-10T17:39:04.153095Z",
     "shell.execute_reply": "2021-12-10T17:39:04.152383Z",
     "shell.execute_reply.started": "2021-12-10T17:39:03.729195Z"
    }
   },
   "outputs": [],
   "source": [
    "plt.figure(figsize=(10,5))                                         # setting figure size with width = 10 and height = 5\n",
    "# seaborn distplot to examine distribution of the feature of healthy patient\n",
    "fig = sns.distplot(pdData[pdData['status'] == 0][feature], bins=30, kde=True, label='Healthy')\n",
    "# seaborn distplot to examine distribution of the feature of Parkinson's patient\n",
    "fig = sns.distplot(pdData[pdData['status'] == 1][feature], bins=30, kde=True, label='Parkinson\\'s')\n",
    "plt.legend()\n",
    "plt.title(\"Distribution of feature : \"+feature)                    # setting title of the figure\n",
    "plt.show()"
   ]
  },
  {
   "cell_type": "markdown",
   "metadata": {},
   "source": [
    "From the above we can observe that, patients with hnr (HNR) values less than 22.5 are more likly to have Parkinson's disease.\n",
    "\n",
    "Lets bucket hnr (HNR) and check w.r.t the different status i.e Healthy or Parkinson's:"
   ]
  },
  {
   "cell_type": "code",
   "execution_count": null,
   "metadata": {
    "execution": {
     "iopub.execute_input": "2021-12-10T17:39:26.799787Z",
     "iopub.status.busy": "2021-12-10T17:39:26.798947Z",
     "iopub.status.idle": "2021-12-10T17:39:27.425285Z",
     "shell.execute_reply": "2021-12-10T17:39:27.424285Z",
     "shell.execute_reply.started": "2021-12-10T17:39:26.799743Z"
    }
   },
   "outputs": [],
   "source": [
    "bins = [8, 10, 15, 20, 25 , 30, 34]                                         # defining hnr bins,\n",
    "# defining labels of hnr groups as per bins defined as above\n",
    "hnr_group = ['8-10', '10-15', '15-20', '20-25', '25-30', '30-34']\n",
    "pdData_hnr_bin = pd.cut(pdData[feature],bins,labels=hnr_group)  # segmenting data as per bins defined\n",
    "\n",
    "# putting into pandas crosstab and applying lambda function to take percentage and assigning to hnr_group_col variable\n",
    "hnr_group_col = pd.crosstab(pdData_hnr_bin,pdData.status).apply(lambda r: r/r.sum()*100, axis=1)\n",
    "print(hnr_group_col)                                                    # printing above crosstab\n",
    "\n",
    "# plotting a stacked bar chart to show PD status for different mdvp_fo_hz group\n",
    "hnr_group_col.div(hnr_group_col.sum(1).astype(float), axis=0).plot(kind='bar',stacked=True)\n",
    "plt.title(\"PD status with different hnr group\")                     # setting title of the figure"
   ]
  },
  {
   "cell_type": "markdown",
   "metadata": {},
   "source": [
    "We can find out the following from the above crosstab:\n",
    "All the patients under hnr (HNR) groups ranging less than 15 have Parkinson's disease.\n",
    "hnr (HNR) group between 15-20 having Parkinson's patient with percentage of 86.957 followed by hnr (HNR) group between 20-25 having Parkinson's patient with percentage of 77.778 .\n",
    "hnr (HNR) group between 25-30 having Parkinson's patient with percentage of 60.417 .\n",
    "All patient having hnr (HNR) more than 30 are healthy.\n",
    "\n",
    "Let's check outliers for the attribute :"
   ]
  },
  {
   "cell_type": "code",
   "execution_count": null,
   "metadata": {
    "execution": {
     "iopub.execute_input": "2021-12-10T17:41:36.671341Z",
     "iopub.status.busy": "2021-12-10T17:41:36.670579Z",
     "iopub.status.idle": "2021-12-10T17:41:36.846888Z",
     "shell.execute_reply": "2021-12-10T17:41:36.845895Z",
     "shell.execute_reply.started": "2021-12-10T17:41:36.671294Z"
    }
   },
   "outputs": [],
   "source": [
    "ax = sns.boxplot(x=pdData[feature])        # seaborn boxplot to examine outliers of the feature"
   ]
  },
  {
   "cell_type": "markdown",
   "metadata": {},
   "source": [
    "In the 'hnr' attribute some outliers are present, let's check for the same :"
   ]
  },
  {
   "cell_type": "code",
   "execution_count": null,
   "metadata": {
    "execution": {
     "iopub.execute_input": "2021-12-10T17:45:09.016955Z",
     "iopub.status.busy": "2021-12-10T17:45:09.016623Z",
     "iopub.status.idle": "2021-12-10T17:45:09.035839Z",
     "shell.execute_reply": "2021-12-10T17:45:09.034919Z",
     "shell.execute_reply.started": "2021-12-10T17:45:09.016921Z"
    }
   },
   "outputs": [],
   "source": [
    "Q1 = pdData[feature].quantile(0.25)        # evaluating lower / first quartile\n",
    "Q3 = pdData[feature].quantile(0.75)        # evaluating upper / third quartile\n",
    "IQR = Q3 - Q1                              # evaluating Inter Quartile Range i.e IQR\n",
    "'''\n",
    "finding outliers which are mild outliers (Lower quartile - 1.5 times IQR) or\n",
    "extreme outliers (Upper quartile + 1.5 times IQR)\n",
    "'''\n",
    "outliers = pdData[((pdData[feature] < (Q1 - 1.5 * IQR)) |(pdData[feature] > (Q3 + 1.5 * IQR)))][feature]\n",
    "\n",
    "print(\"*\"*125)\n",
    "# printing mean, median and IQR for the feature\n",
    "print(\"\\033[1mFeature {0} : Mean = {1}, Median = {2} and Inter-Quartile-Range (IQR) = {3}\\033[0m\"\n",
    "      .format(feature,round(np.mean(pdData[feature]),6),round(np.median(pdData[feature]),6),round(IQR,6))\n",
    "     )\n",
    "print()\n",
    "print(\"*\"*125)\n",
    "# printing No of outliers, percentage of the data points are outliers and the values of the outliers\n",
    "print(\"There are \\033[1m{0} outliers\\033[0m ({1} % of the data points) in \\033[1m{2}\\033[0m feature and the values are \\033[1m{3}\\033[0m\"\n",
    ".format(outliers.shape[0],round(((outliers.shape[0]/pdData[feature].shape[0])*100),3),feature,outliers.tolist()))\n",
    "print(\"*\"*125)"
   ]
  },
  {
   "cell_type": "markdown",
   "metadata": {},
   "source": [
    "Now will check if any outliers present for different target attributes i.e 'status'"
   ]
  },
  {
   "cell_type": "code",
   "execution_count": null,
   "metadata": {
    "execution": {
     "iopub.execute_input": "2021-12-10T17:45:37.231394Z",
     "iopub.status.busy": "2021-12-10T17:45:37.230657Z",
     "iopub.status.idle": "2021-12-10T17:45:37.444767Z",
     "shell.execute_reply": "2021-12-10T17:45:37.443889Z",
     "shell.execute_reply.started": "2021-12-10T17:45:37.231345Z"
    }
   },
   "outputs": [],
   "source": [
    "sns.boxplot(x=pdData['status'],y=pdData[feature]) "
   ]
  },
  {
   "cell_type": "markdown",
   "metadata": {},
   "source": [
    "From above, it is observed that for 'hnr' attribute with Parkinson's disease have outliers present below lower quartile range whereas for healthy patients outliers present both lower and upper quartile range.."
   ]
  },
  {
   "cell_type": "markdown",
   "metadata": {},
   "source": [
    "Q. 'rpde' attribute : (RPDE - Nonlinear dynamical complexity measure)"
   ]
  },
  {
   "cell_type": "code",
   "execution_count": null,
   "metadata": {
    "execution": {
     "iopub.execute_input": "2021-12-10T17:51:04.891776Z",
     "iopub.status.busy": "2021-12-10T17:51:04.891421Z",
     "iopub.status.idle": "2021-12-10T17:51:05.194332Z",
     "shell.execute_reply": "2021-12-10T17:51:05.193663Z",
     "shell.execute_reply.started": "2021-12-10T17:51:04.891737Z"
    }
   },
   "outputs": [],
   "source": [
    "feature = 'rpde'\n",
    "meanData = 'Mean : ' + str(round(pdData[feature].mean(),6))        # variable to contain mean of the attribute\n",
    "skewData = 'Skewness : ' + str(round(pdData[feature].skew(),4))    # variable to contain skewness of the attribute\n",
    "plt.figure(figsize=(10,5))                                         # setting figure size with width = 10 and height = 5\n",
    "fig = sns.distplot(pdData[feature], bins=30, kde=True)             # seaborn distplot to examine distribution of the feature\n",
    "plt.title(\"Distribution of feature : \"+feature+\" having \"+meanData+\" and \"+skewData)   # setting title of the figure\n",
    "plt.show()"
   ]
  },
  {
   "cell_type": "markdown",
   "metadata": {},
   "source": [
    "From above we can understand the following about rpde (RPDE) attribute of the dataset:\n",
    "\n",
    "Mean value of the attribute is 0.4985 with skewness of -0.1434, which shows that the skewness of the attribute is negligible.\n",
    "Maximum datapoints are ranging from 0.4 to 0.68 "
   ]
  },
  {
   "cell_type": "code",
   "execution_count": null,
   "metadata": {
    "execution": {
     "iopub.execute_input": "2021-12-10T17:51:25.353039Z",
     "iopub.status.busy": "2021-12-10T17:51:25.352598Z",
     "iopub.status.idle": "2021-12-10T17:51:25.794935Z",
     "shell.execute_reply": "2021-12-10T17:51:25.793891Z",
     "shell.execute_reply.started": "2021-12-10T17:51:25.352986Z"
    }
   },
   "outputs": [],
   "source": [
    "plt.figure(figsize=(10,5))                                         # setting figure size with width = 10 and height = 5\n",
    "# seaborn distplot to examine distribution of the feature of healthy patient\n",
    "fig = sns.distplot(pdData[pdData['status'] == 0][feature], bins=30, kde=True, label='Healthy')\n",
    "# seaborn distplot to examine distribution of the feature of Parkinson's patient\n",
    "fig = sns.distplot(pdData[pdData['status'] == 1][feature], bins=30, kde=True, label='Parkinson\\'s')\n",
    "plt.legend()\n",
    "plt.title(\"Distribution of feature : \"+feature)                    # setting title of the figure\n",
    "plt.show()"
   ]
  },
  {
   "cell_type": "markdown",
   "metadata": {},
   "source": [
    "From the above we can observe that, patients with rpde (RPDE) values less than 0.49 are more likly to have Parkinson's disease.\n",
    "\n",
    "Lets bucket rpde (RPDE) and check w.r.t the different status i.e Healthy or Parkinson's:"
   ]
  },
  {
   "cell_type": "code",
   "execution_count": null,
   "metadata": {
    "execution": {
     "iopub.execute_input": "2021-12-10T17:56:48.979674Z",
     "iopub.status.busy": "2021-12-10T17:56:48.979304Z",
     "iopub.status.idle": "2021-12-10T17:56:49.302286Z",
     "shell.execute_reply": "2021-12-10T17:56:49.301231Z",
     "shell.execute_reply.started": "2021-12-10T17:56:48.979634Z"
    }
   },
   "outputs": [],
   "source": [
    "bins = [0.25, 0.35, 0.45, 0.55, 0.65, 0.75]                                         # defining rpde bins,\n",
    "# defining labels of rpde groups as per bins defined as above\n",
    "rpde_group = ['0.25-0.35', '0.35-0.45', '0.45-0.55', '0.55-0.65', '0.65-0.75']\n",
    "pdData_rpde_bin = pd.cut(pdData[feature],bins,labels=rpde_group)  # segmenting data as per bins defined\n",
    "\n",
    "# putting into pandas crosstab and applying lambda function to take percentage and assigning to rpde_group_col variable\n",
    "rpde_group_col = pd.crosstab(pdData_rpde_bin,pdData.status).apply(lambda r: r/r.sum()*100, axis=1)\n",
    "print(rpde_group_col)                                                    # printing above crosstab\n",
    "\n",
    "# plotting a stacked bar chart to show PD status for different mdvp_fo_hz group\n",
    "rpde_group_col.div(rpde_group_col.sum(1).astype(float), axis=0).plot(kind='bar',stacked=True)\n",
    "plt.title(\"PD status with different rpde group\")                     # setting title of the figure"
   ]
  },
  {
   "cell_type": "markdown",
   "metadata": {},
   "source": [
    "We can find out the following from the above crosstab:\n",
    "rpde (RPDE) group between 0.65-0.75 having Parkinson's patient with highest percentage of 91.667 .\n",
    "rpde (RPDE) group between 0.55-0.65 having Parkinson's patient with percentage of 88.135 followed by rpde (RPDE) group between 0.45-0.55 having Parkinson's patient with percentage of 78.571 .\n",
    "Both rpde (RPDE) group between 0.25-0.35 and 0.35-0.45 having Parkinson's patient with percentage of 58.824 .\n",
    "\n",
    "Let's check outliers for the attribute :"
   ]
  },
  {
   "cell_type": "code",
   "execution_count": null,
   "metadata": {
    "execution": {
     "iopub.execute_input": "2021-12-10T18:01:17.362367Z",
     "iopub.status.busy": "2021-12-10T18:01:17.362037Z",
     "iopub.status.idle": "2021-12-10T18:01:17.537695Z",
     "shell.execute_reply": "2021-12-10T18:01:17.536834Z",
     "shell.execute_reply.started": "2021-12-10T18:01:17.362335Z"
    }
   },
   "outputs": [],
   "source": [
    "ax = sns.boxplot(x=pdData[feature])        # seaborn boxplot to examine outliers of the feature"
   ]
  },
  {
   "cell_type": "markdown",
   "metadata": {},
   "source": [
    "there are no outliers presnt in the 'rpde' feature / attribute as we can see from above boxplot.\n",
    "\n",
    "Now will check if any outliers present for different target attributes i.e 'status'"
   ]
  },
  {
   "cell_type": "code",
   "execution_count": null,
   "metadata": {
    "execution": {
     "iopub.execute_input": "2021-12-10T18:01:40.667416Z",
     "iopub.status.busy": "2021-12-10T18:01:40.66708Z",
     "iopub.status.idle": "2021-12-10T18:01:40.881721Z",
     "shell.execute_reply": "2021-12-10T18:01:40.880545Z",
     "shell.execute_reply.started": "2021-12-10T18:01:40.667382Z"
    }
   },
   "outputs": [],
   "source": [
    "sns.boxplot(x=pdData['status'],y=pdData[feature]) "
   ]
  },
  {
   "cell_type": "markdown",
   "metadata": {},
   "source": [
    "From above, it is observed there are no outliers present in mdvp_fo_hz attribute for different 'status' attributes."
   ]
  },
  {
   "cell_type": "markdown",
   "metadata": {},
   "source": [
    "R. 'd2' attribute : (D2 - Nonlinear dynamical complexity measure)"
   ]
  },
  {
   "cell_type": "code",
   "execution_count": null,
   "metadata": {
    "execution": {
     "iopub.execute_input": "2021-12-10T18:02:24.231772Z",
     "iopub.status.busy": "2021-12-10T18:02:24.231435Z",
     "iopub.status.idle": "2021-12-10T18:02:24.524107Z",
     "shell.execute_reply": "2021-12-10T18:02:24.523074Z",
     "shell.execute_reply.started": "2021-12-10T18:02:24.231733Z"
    }
   },
   "outputs": [],
   "source": [
    "feature = 'd2'\n",
    "meanData = 'Mean : ' + str(round(pdData[feature].mean(),6))        # variable to contain mean of the attribute\n",
    "skewData = 'Skewness : ' + str(round(pdData[feature].skew(),4))    # variable to contain skewness of the attribute\n",
    "plt.figure(figsize=(10,5))                                         # setting figure size with width = 10 and height = 5\n",
    "fig = sns.distplot(pdData[feature], bins=30, kde=True)             # seaborn distplot to examine distribution of the feature\n",
    "plt.title(\"Distribution of feature : \"+feature+\" having \"+meanData+\" and \"+skewData)   # setting title of the figure\n",
    "plt.show()"
   ]
  },
  {
   "cell_type": "markdown",
   "metadata": {},
   "source": [
    "From above we can understand the following about d2 (D2) attribute of the dataset:\n",
    "\n",
    "Mean value of the attribute is 2.382 with skewness of 0.4304, which shows that the skewness of the attribute is negligible.\n",
    "Maximum datapoints are ranging from 2.0 to 2.75 ."
   ]
  },
  {
   "cell_type": "code",
   "execution_count": null,
   "metadata": {
    "execution": {
     "iopub.execute_input": "2021-12-10T18:07:22.364181Z",
     "iopub.status.busy": "2021-12-10T18:07:22.363166Z",
     "iopub.status.idle": "2021-12-10T18:07:22.812957Z",
     "shell.execute_reply": "2021-12-10T18:07:22.811896Z",
     "shell.execute_reply.started": "2021-12-10T18:07:22.364133Z"
    }
   },
   "outputs": [],
   "source": [
    "plt.figure(figsize=(10,5))                                         # setting figure size with width = 10 and height = 5\n",
    "# seaborn distplot to examine distribution of the feature of healthy patient\n",
    "fig = sns.distplot(pdData[pdData['status'] == 0][feature], bins=30, kde=True, label='Healthy')\n",
    "# seaborn distplot to examine distribution of the feature of Parkinson's patient\n",
    "fig = sns.distplot(pdData[pdData['status'] == 1][feature], bins=30, kde=True, label='Parkinson\\'s')\n",
    "plt.legend()\n",
    "plt.title(\"Distribution of feature : \"+feature)                    # setting title of the figure\n",
    "plt.show()"
   ]
  },
  {
   "cell_type": "markdown",
   "metadata": {},
   "source": [
    "From the above we can observe that, patients with d2 (D2) values greater than 2.4 are more likly to have Parkinson's disease.\n",
    "\n",
    "Lets bucket d2 (D2) and check w.r.t the different status i.e Healthy or Parkinson's:"
   ]
  },
  {
   "cell_type": "code",
   "execution_count": null,
   "metadata": {
    "execution": {
     "iopub.execute_input": "2021-12-10T18:17:14.798601Z",
     "iopub.status.busy": "2021-12-10T18:17:14.79826Z",
     "iopub.status.idle": "2021-12-10T18:17:15.094148Z",
     "shell.execute_reply": "2021-12-10T18:17:15.093377Z",
     "shell.execute_reply.started": "2021-12-10T18:17:14.798562Z"
    }
   },
   "outputs": [],
   "source": [
    "bins = [1.0, 1.5, 2.0, 2.5, 3.0, 3.7]                                         # defining d2 bins,\n",
    "# defining labels of d2 groups as per bins defined as above\n",
    "d2_group = ['1.0-1.5', '1.5-2.0', '2.0-2.5', '2.5-3.0', '3.0-3.7']\n",
    "pdData_d2_bin = pd.cut(pdData[feature],bins,labels=d2_group)  # segmenting data as per bins defined\n",
    "\n",
    "# putting into pandas crosstab and applying lambda function to take percentage and assigning to d2_group_col variable\n",
    "d2_group_col = pd.crosstab(pdData_d2_bin,pdData.status).apply(lambda r: r/r.sum()*100, axis=1)\n",
    "print(d2_group_col)                                                    # printing above crosstab\n",
    "\n",
    "# plotting a stacked bar chart to show PD status for different mdvp_fo_hz group\n",
    "d2_group_col.div(d2_group_col.sum(1).astype(float), axis=0).plot(kind='bar',stacked=True)\n",
    "plt.title(\"PD status with different d2 group\")                     # setting title of the figure"
   ]
  },
  {
   "cell_type": "markdown",
   "metadata": {},
   "source": [
    "We can find out the following from the above crosstab:\n",
    "All patient with d2 (D2) group with value more than 3.0 are having Parkinson's disease.\n",
    "d2 (D2) group between 2.5-3.0 having Parkinson's patient with percentage of 90.385 followed by d2 (D2) group between 2.0-2.5 having Parkinson's patient with percentage of 70.588 .\n",
    "All patient with d2 (D2) group with value less than 1.5 are healthy patients.\n",
    "\n",
    "Let's check outliers for the attribute :"
   ]
  },
  {
   "cell_type": "code",
   "execution_count": null,
   "metadata": {
    "execution": {
     "iopub.execute_input": "2021-12-10T18:18:45.514777Z",
     "iopub.status.busy": "2021-12-10T18:18:45.514154Z",
     "iopub.status.idle": "2021-12-10T18:18:45.694948Z",
     "shell.execute_reply": "2021-12-10T18:18:45.693884Z",
     "shell.execute_reply.started": "2021-12-10T18:18:45.514716Z"
    }
   },
   "outputs": [],
   "source": [
    "ax = sns.boxplot(x=pdData[feature])        # seaborn boxplot to examine outliers of the feature"
   ]
  },
  {
   "cell_type": "markdown",
   "metadata": {},
   "source": [
    "\n",
    "In the 'd2' attribute some outliers are present, let's check for the same :"
   ]
  },
  {
   "cell_type": "code",
   "execution_count": null,
   "metadata": {
    "execution": {
     "iopub.execute_input": "2021-12-10T18:19:42.285559Z",
     "iopub.status.busy": "2021-12-10T18:19:42.285245Z",
     "iopub.status.idle": "2021-12-10T18:19:42.302299Z",
     "shell.execute_reply": "2021-12-10T18:19:42.301667Z",
     "shell.execute_reply.started": "2021-12-10T18:19:42.285527Z"
    }
   },
   "outputs": [],
   "source": [
    "Q1 = pdData[feature].quantile(0.25)        # evaluating lower / first quartile\n",
    "Q3 = pdData[feature].quantile(0.75)        # evaluating upper / third quartile\n",
    "IQR = Q3 - Q1                              # evaluating Inter Quartile Range i.e IQR\n",
    "'''\n",
    "finding outliers which are mild outliers (Lower quartile - 1.5 times IQR) or\n",
    "extreme outliers (Upper quartile + 1.5 times IQR)\n",
    "'''\n",
    "outliers = pdData[((pdData[feature] < (Q1 - 1.5 * IQR)) |(pdData[feature] > (Q3 + 1.5 * IQR)))][feature]\n",
    "\n",
    "print(\"*\"*125)\n",
    "# printing mean, median and IQR for the feature\n",
    "print(\"\\033[1mFeature {0} : Mean = {1}, Median = {2} and Inter-Quartile-Range (IQR) = {3}\\033[0m\"\n",
    "      .format(feature,round(np.mean(pdData[feature]),6),round(np.median(pdData[feature]),6),round(IQR,6))\n",
    "     )\n",
    "print()\n",
    "print(\"*\"*125)\n",
    "# printing No of outliers, percentage of the data points are outliers and the values of the outliers\n",
    "print(\"There are \\033[1m{0} outliers\\033[0m ({1} % of the data points) in \\033[1m{2}\\033[0m feature and the values are \\033[1m{3}\\033[0m\"\n",
    ".format(outliers.shape[0],round(((outliers.shape[0]/pdData[feature].shape[0])*100),3),feature,outliers.tolist()))\n",
    "print(\"*\"*125)"
   ]
  },
  {
   "cell_type": "markdown",
   "metadata": {},
   "source": [
    "Now will check if any outliers present for different target attributes i.e 'status'"
   ]
  },
  {
   "cell_type": "code",
   "execution_count": null,
   "metadata": {
    "execution": {
     "iopub.execute_input": "2021-12-10T18:25:28.004921Z",
     "iopub.status.busy": "2021-12-10T18:25:28.004517Z",
     "iopub.status.idle": "2021-12-10T18:25:28.220265Z",
     "shell.execute_reply": "2021-12-10T18:25:28.21919Z",
     "shell.execute_reply.started": "2021-12-10T18:25:28.004881Z"
    }
   },
   "outputs": [],
   "source": [
    "sns.boxplot(x=pdData['status'],y=pdData[feature]) "
   ]
  },
  {
   "cell_type": "markdown",
   "metadata": {},
   "source": [
    "From above, it is observed that for 'd2' attribute with Parkinson's disease have outliers present above upper quartile range whereas for healthy patients outliers present below lower quartile range."
   ]
  },
  {
   "cell_type": "markdown",
   "metadata": {},
   "source": [
    "S. 'dfa' attribute : (DFA - Signal fractal scaling exponent)"
   ]
  },
  {
   "cell_type": "code",
   "execution_count": null,
   "metadata": {
    "execution": {
     "iopub.execute_input": "2021-12-10T18:26:44.677301Z",
     "iopub.status.busy": "2021-12-10T18:26:44.676931Z",
     "iopub.status.idle": "2021-12-10T18:26:44.971316Z",
     "shell.execute_reply": "2021-12-10T18:26:44.970333Z",
     "shell.execute_reply.started": "2021-12-10T18:26:44.677261Z"
    }
   },
   "outputs": [],
   "source": [
    "feature = 'dfa'\n",
    "meanData = 'Mean : ' + str(round(pdData[feature].mean(),6))        # variable to contain mean of the attribute\n",
    "skewData = 'Skewness : ' + str(round(pdData[feature].skew(),4))    # variable to contain skewness of the attribute\n",
    "plt.figure(figsize=(10,5))                                         # setting figure size with width = 10 and height = 5\n",
    "fig = sns.distplot(pdData[feature], bins=30, kde=True)             # seaborn distplot to examine distribution of the feature\n",
    "plt.title(\"Distribution of feature : \"+feature+\" having \"+meanData+\" and \"+skewData)   # setting title of the figure\n",
    "plt.show()"
   ]
  },
  {
   "cell_type": "markdown",
   "metadata": {},
   "source": [
    "From above we can understand the following about dfa (DFA) attribute of the dataset:\n",
    "\n",
    "Mean value of the attribute is 0.7180 with skewness of -0.0332, which shows that the skewness of the attribute is negligible."
   ]
  },
  {
   "cell_type": "code",
   "execution_count": null,
   "metadata": {
    "execution": {
     "iopub.execute_input": "2021-12-10T18:27:13.202364Z",
     "iopub.status.busy": "2021-12-10T18:27:13.202031Z",
     "iopub.status.idle": "2021-12-10T18:27:13.626554Z",
     "shell.execute_reply": "2021-12-10T18:27:13.624426Z",
     "shell.execute_reply.started": "2021-12-10T18:27:13.202326Z"
    }
   },
   "outputs": [],
   "source": [
    "plt.figure(figsize=(10,5))                                         # setting figure size with width = 10 and height = 5\n",
    "# seaborn distplot to examine distribution of the feature of healthy patient\n",
    "fig = sns.distplot(pdData[pdData['status'] == 0][feature], bins=30, kde=True, label='Healthy')\n",
    "# seaborn distplot to examine distribution of the feature of Parkinson's patient\n",
    "fig = sns.distplot(pdData[pdData['status'] == 1][feature], bins=30, kde=True, label='Parkinson\\'s')\n",
    "plt.legend()\n",
    "plt.title(\"Distribution of feature : \"+feature)                    # setting title of the figure\n",
    "plt.show()"
   ]
  },
  {
   "cell_type": "markdown",
   "metadata": {},
   "source": [
    "From the above we can observe that, patients with dfa (DFA) values greater than 0.68 are more likly to have Parkinson's disease.\n",
    "\n",
    "Lets bucket dfa (DFA) and check w.r.t the different status i.e Healthy or Parkinson's:"
   ]
  },
  {
   "cell_type": "code",
   "execution_count": null,
   "metadata": {
    "execution": {
     "iopub.execute_input": "2021-12-10T18:28:26.870363Z",
     "iopub.status.busy": "2021-12-10T18:28:26.869987Z",
     "iopub.status.idle": "2021-12-10T18:28:27.130264Z",
     "shell.execute_reply": "2021-12-10T18:28:27.129515Z",
     "shell.execute_reply.started": "2021-12-10T18:28:26.870328Z"
    }
   },
   "outputs": [],
   "source": [
    "bins = [0.5, 0.6, 0.7, 0.8, 0.9]                                         # defining dfa bins,\n",
    "# defining labels of dfa groups as per bins defined as above\n",
    "dfa_group = ['0.5-0.6', '0.6-0.7', '0.7-0.8', '0.8-0.9']\n",
    "pdData_dfa_bin = pd.cut(pdData[feature],bins,labels=dfa_group)  # segmenting data as per bins defined\n",
    "\n",
    "# putting into pandas crosstab and applying lambda function to take percentage and assigning to dfa_group_col variable\n",
    "dfa_group_col = pd.crosstab(pdData_dfa_bin,pdData.status).apply(lambda r: r/r.sum()*100, axis=1)\n",
    "print(dfa_group_col)                                                    # printing above crosstab\n",
    "\n",
    "# plotting a stacked bar chart to show PD status for different mdvp_fo_hz group\n",
    "dfa_group_col.div(dfa_group_col.sum(1).astype(float), axis=0).plot(kind='bar',stacked=True)\n",
    "plt.title(\"PD status with different dfa group\")                     # setting title of the figure"
   ]
  },
  {
   "cell_type": "markdown",
   "metadata": {},
   "source": [
    "We can find out the following from the above crosstab:\n",
    "All patient with dfa (DFA) group with value more than 0.8 and value less than 0.6 are having Parkinson's disease.\n",
    "dfa (DFA) group between 0.7-0.8 having Parkinson's patient with percentage of 81.731 followed by dfa (DFA) group between 0.6-0.7 having Parkinson's patient with percentage of 60.811 .\n",
    "\n",
    "Let's check outliers for the attribute "
   ]
  },
  {
   "cell_type": "code",
   "execution_count": null,
   "metadata": {
    "execution": {
     "iopub.execute_input": "2021-12-10T18:28:56.267442Z",
     "iopub.status.busy": "2021-12-10T18:28:56.267121Z",
     "iopub.status.idle": "2021-12-10T18:28:56.391463Z",
     "shell.execute_reply": "2021-12-10T18:28:56.390418Z",
     "shell.execute_reply.started": "2021-12-10T18:28:56.267409Z"
    }
   },
   "outputs": [],
   "source": [
    "ax = sns.boxplot(x=pdData[feature])        # seaborn boxplot to examine outliers of the feature"
   ]
  },
  {
   "cell_type": "markdown",
   "metadata": {},
   "source": [
    "there are no outliers presnt in the 'dfa' feature / attribute as we can see from above boxplot.\n",
    "\n",
    "Now will check if any outliers present for different target attributes i.e 'status'"
   ]
  },
  {
   "cell_type": "code",
   "execution_count": null,
   "metadata": {
    "execution": {
     "iopub.execute_input": "2021-12-10T18:29:21.546959Z",
     "iopub.status.busy": "2021-12-10T18:29:21.546615Z",
     "iopub.status.idle": "2021-12-10T18:29:21.77374Z",
     "shell.execute_reply": "2021-12-10T18:29:21.772968Z",
     "shell.execute_reply.started": "2021-12-10T18:29:21.546922Z"
    }
   },
   "outputs": [],
   "source": [
    "sns.boxplot(x=pdData['status'],y=pdData[feature]) "
   ]
  },
  {
   "cell_type": "markdown",
   "metadata": {},
   "source": [
    "From above, it is observed there are no outliers present in dfa attribute for different 'status' attributes"
   ]
  },
  {
   "cell_type": "markdown",
   "metadata": {},
   "source": [
    "T. 'spread1' attribute : (Nonlinear measures of fundamental frequency variation )"
   ]
  },
  {
   "cell_type": "code",
   "execution_count": null,
   "metadata": {
    "execution": {
     "iopub.execute_input": "2021-12-10T18:30:07.611561Z",
     "iopub.status.busy": "2021-12-10T18:30:07.610401Z",
     "iopub.status.idle": "2021-12-10T18:30:07.879857Z",
     "shell.execute_reply": "2021-12-10T18:30:07.878883Z",
     "shell.execute_reply.started": "2021-12-10T18:30:07.611459Z"
    }
   },
   "outputs": [],
   "source": [
    "feature = 'spread1'\n",
    "meanData = 'Mean : ' + str(round(pdData[feature].mean(),6))        # variable to contain mean of the attribute\n",
    "skewData = 'Skewness : ' + str(round(pdData[feature].skew(),4))    # variable to contain skewness of the attribute\n",
    "plt.figure(figsize=(10,5))                                         # setting figure size with width = 10 and height = 5\n",
    "fig = sns.distplot(pdData[feature], bins=30, kde=True)             # seaborn distplot to examine distribution of the feature\n",
    "plt.title(\"Distribution of feature : \"+feature+\" having \"+meanData+\" and \"+skewData)   # setting title of the figure\n",
    "plt.show()"
   ]
  },
  {
   "cell_type": "markdown",
   "metadata": {},
   "source": [
    "From above we can understand the following about spread1 attribute of the dataset:\n",
    "\n",
    "Mean value of the attribute is -5.6843 with skewness of 0.4321, which shows that the skewness of the attribute is negligible."
   ]
  },
  {
   "cell_type": "code",
   "execution_count": null,
   "metadata": {
    "execution": {
     "iopub.execute_input": "2021-12-10T18:36:08.968709Z",
     "iopub.status.busy": "2021-12-10T18:36:08.968378Z",
     "iopub.status.idle": "2021-12-10T18:36:09.387359Z",
     "shell.execute_reply": "2021-12-10T18:36:09.385871Z",
     "shell.execute_reply.started": "2021-12-10T18:36:08.968674Z"
    }
   },
   "outputs": [],
   "source": [
    "plt.figure(figsize=(10,5))                                         # setting figure size with width = 10 and height = 5\n",
    "# seaborn distplot to examine distribution of the feature of healthy patient\n",
    "fig = sns.distplot(pdData[pdData['status'] == 0][feature], bins=30, kde=True, label='Healthy')\n",
    "# seaborn distplot to examine distribution of the feature of Parkinson's patient\n",
    "fig = sns.distplot(pdData[pdData['status'] == 1][feature], bins=30, kde=True, label='Parkinson\\'s')\n",
    "plt.legend()\n",
    "plt.title(\"Distribution of feature : \"+feature)                    # setting title of the figure\n",
    "plt.show()"
   ]
  },
  {
   "cell_type": "markdown",
   "metadata": {},
   "source": [
    "From the above we can observe that, patients with spread1 values greater than -6.2 are more likly to have Parkinson's disease.\n",
    "\n",
    "Lets bucket spread1 and check w.r.t the different status i.e Healthy or Parkinson's:"
   ]
  },
  {
   "cell_type": "code",
   "execution_count": null,
   "metadata": {
    "execution": {
     "iopub.execute_input": "2021-12-10T18:36:46.355301Z",
     "iopub.status.busy": "2021-12-10T18:36:46.354966Z",
     "iopub.status.idle": "2021-12-10T18:36:46.596474Z",
     "shell.execute_reply": "2021-12-10T18:36:46.595466Z",
     "shell.execute_reply.started": "2021-12-10T18:36:46.355267Z"
    }
   },
   "outputs": [],
   "source": [
    "bins = [-8,-6,-4,-2]                                         # defining spread1 bins,\n",
    "# defining labels of spread1 groups as per bins defined as above\n",
    "spread1_group = ['-8 : -6', '-6 : -4', '-4 : -2']\n",
    "pdData_spread1_bin = pd.cut(pdData[feature],bins,labels=spread1_group)  # segmenting data as per bins defined\n",
    "\n",
    "# putting into pandas crosstab and applying lambda function to take percentage and assigning to spread1_group_col variable\n",
    "spread1_group_col = pd.crosstab(pdData_spread1_bin,pdData.status).apply(lambda r: r/r.sum()*100, axis=1)\n",
    "print(spread1_group_col)                                                    # printing above crosstab\n",
    "\n",
    "# plotting a stacked bar chart to show PD status for different mdvp_fo_hz group\n",
    "spread1_group_col.div(spread1_group_col.sum(1).astype(float), axis=0).plot(kind='bar',stacked=True)\n",
    "plt.title(\"PD status with different spread1 group\")                     # setting title of the figure"
   ]
  },
  {
   "cell_type": "markdown",
   "metadata": {},
   "source": [
    "We can find out the following from the above crosstab:\n",
    "All patient with spread1 group with value more than -4.0 are having Parkinson's disease.\n",
    "spread1 group between -6.0 to -4.0 having Parkinson's patient with percentage of 93.070 followed by spread1 group between -8.0 to -6.0 having Parkinson's patient with percentage of 49.383 .\n",
    "\n",
    "Let's check outliers for the attribute :"
   ]
  },
  {
   "cell_type": "code",
   "execution_count": null,
   "metadata": {
    "execution": {
     "iopub.execute_input": "2021-12-10T18:42:26.648392Z",
     "iopub.status.busy": "2021-12-10T18:42:26.647259Z",
     "iopub.status.idle": "2021-12-10T18:42:26.780198Z",
     "shell.execute_reply": "2021-12-10T18:42:26.779173Z",
     "shell.execute_reply.started": "2021-12-10T18:42:26.648339Z"
    }
   },
   "outputs": [],
   "source": [
    "ax = sns.boxplot(x=pdData[feature])        # seaborn boxplot to examine outliers of the feature"
   ]
  },
  {
   "cell_type": "markdown",
   "metadata": {},
   "source": [
    "In the 'spread1' attribute some outliers are present, let's check for the same :"
   ]
  },
  {
   "cell_type": "code",
   "execution_count": null,
   "metadata": {
    "execution": {
     "iopub.execute_input": "2021-12-10T18:46:00.382942Z",
     "iopub.status.busy": "2021-12-10T18:46:00.382581Z",
     "iopub.status.idle": "2021-12-10T18:46:00.401765Z",
     "shell.execute_reply": "2021-12-10T18:46:00.400744Z",
     "shell.execute_reply.started": "2021-12-10T18:46:00.382901Z"
    }
   },
   "outputs": [],
   "source": [
    "Q1 = pdData[feature].quantile(0.25)        # evaluating lower / first quartile\n",
    "Q3 = pdData[feature].quantile(0.75)        # evaluating upper / third quartile\n",
    "IQR = Q3 - Q1                              # evaluating Inter Quartile Range i.e IQR\n",
    "'''\n",
    "finding outliers which are mild outliers (Lower quartile - 1.5 times IQR) or\n",
    "extreme outliers (Upper quartile + 1.5 times IQR)\n",
    "'''\n",
    "outliers = pdData[((pdData[feature] < (Q1 - 1.5 * IQR)) |(pdData[feature] > (Q3 + 1.5 * IQR)))][feature]\n",
    "\n",
    "print(\"*\"*125)\n",
    "# printing mean, median and IQR for the feature\n",
    "print(\"\\033[1mFeature {0} : Mean = {1}, Median = {2} and Inter-Quartile-Range (IQR) = {3}\\033[0m\"\n",
    "      .format(feature,round(np.mean(pdData[feature]),6),round(np.median(pdData[feature]),6),round(IQR,6))\n",
    "     )\n",
    "print()\n",
    "print(\"*\"*125)\n",
    "# printing No of outliers, percentage of the data points are outliers and the values of the outliers\n",
    "print(\"There are \\033[1m{0} outliers\\033[0m ({1} % of the data points) in \\033[1m{2}\\033[0m feature and the values are \\033[1m{3}\\033[0m\"\n",
    ".format(outliers.shape[0],round(((outliers.shape[0]/pdData[feature].shape[0])*100),3),feature,outliers.tolist()))\n",
    "print(\"*\"*125)"
   ]
  },
  {
   "cell_type": "markdown",
   "metadata": {},
   "source": [
    "Now will check if any outliers present for different target attributes i.e 'status'"
   ]
  },
  {
   "cell_type": "code",
   "execution_count": null,
   "metadata": {
    "execution": {
     "iopub.execute_input": "2021-12-10T18:46:22.780049Z",
     "iopub.status.busy": "2021-12-10T18:46:22.7792Z",
     "iopub.status.idle": "2021-12-10T18:46:22.99374Z",
     "shell.execute_reply": "2021-12-10T18:46:22.992897Z",
     "shell.execute_reply.started": "2021-12-10T18:46:22.78Z"
    }
   },
   "outputs": [],
   "source": [
    "sns.boxplot(x=pdData['status'],y=pdData[feature]) "
   ]
  },
  {
   "cell_type": "markdown",
   "metadata": {},
   "source": [
    "From above, it is observed that for 'spread1' attribute with Parkinson's disease have outliers present on above upper quartile range whereas for healthy patients have no outliers.\n",
    "\n",
    "\n",
    "U. 'spread2' attribute : (Nonlinear measures of fundamental frequency variation"
   ]
  },
  {
   "cell_type": "code",
   "execution_count": null,
   "metadata": {
    "execution": {
     "iopub.execute_input": "2021-12-10T18:46:48.444429Z",
     "iopub.status.busy": "2021-12-10T18:46:48.444033Z",
     "iopub.status.idle": "2021-12-10T18:46:49.100901Z",
     "shell.execute_reply": "2021-12-10T18:46:49.099678Z",
     "shell.execute_reply.started": "2021-12-10T18:46:48.444382Z"
    }
   },
   "outputs": [],
   "source": [
    "feature = 'spread2'\n",
    "meanData = 'Mean : ' + str(round(pdData[feature].mean(),6))        # variable to contain mean of the attribute\n",
    "skewData = 'Skewness : ' + str(round(pdData[feature].skew(),4))    # variable to contain skewness of the attribute\n",
    "plt.figure(figsize=(10,5))                                         # setting figure size with width = 10 and height = 5\n",
    "fig = sns.distplot(pdData[feature], bins=30, kde=True)             # seaborn distplot to examine distribution of the feature\n",
    "plt.title(\"Distribution of feature : \"+feature+\" having \"+meanData+\" and \"+skewData)   # setting title of the figure\n",
    "plt.show()"
   ]
  },
  {
   "cell_type": "markdown",
   "metadata": {},
   "source": [
    "From above we can understand the following about spread2 attribute of the dataset:\n",
    "\n",
    "Mean value of the attribute is 0.2265 with skewness of 0.1444, which shows that the skewness of the attribute is negligible.\n"
   ]
  },
  {
   "cell_type": "code",
   "execution_count": null,
   "metadata": {
    "execution": {
     "iopub.execute_input": "2021-12-10T18:48:21.709451Z",
     "iopub.status.busy": "2021-12-10T18:48:21.709087Z",
     "iopub.status.idle": "2021-12-10T18:48:22.149812Z",
     "shell.execute_reply": "2021-12-10T18:48:22.14885Z",
     "shell.execute_reply.started": "2021-12-10T18:48:21.709413Z"
    }
   },
   "outputs": [],
   "source": [
    "plt.figure(figsize=(10,5))                                         # setting figure size with width = 10 and height = 5\n",
    "# seaborn distplot to examine distribution of the feature of healthy patient\n",
    "fig = sns.distplot(pdData[pdData['status'] == 0][feature], bins=30, kde=True, label='Healthy')\n",
    "# seaborn distplot to examine distribution of the feature of Parkinson's patient\n",
    "fig = sns.distplot(pdData[pdData['status'] == 1][feature], bins=30, kde=True, label='Parkinson\\'s')\n",
    "plt.legend()\n",
    "plt.title(\"Distribution of feature : \"+feature)                    # setting title of the figure\n",
    "plt.show()"
   ]
  },
  {
   "cell_type": "markdown",
   "metadata": {},
   "source": [
    "From the above we can observe that, patients with spread2 values greater than 0.21 are more likly to have Parkinson's disease.\n",
    "\n",
    "Lets bucket spread2 and check w.r.t the different status i.e Healthy or Parkinson's:"
   ]
  },
  {
   "cell_type": "code",
   "execution_count": null,
   "metadata": {
    "execution": {
     "iopub.execute_input": "2021-12-10T18:48:46.310123Z",
     "iopub.status.busy": "2021-12-10T18:48:46.309779Z",
     "iopub.status.idle": "2021-12-10T18:48:46.628324Z",
     "shell.execute_reply": "2021-12-10T18:48:46.627343Z",
     "shell.execute_reply.started": "2021-12-10T18:48:46.31009Z"
    }
   },
   "outputs": [],
   "source": [
    "bins = [0.0, 0.1, 0.2, 0.3, 0.4,0.5]                                         # defining spread2 bins,\n",
    "# defining labels of spread2 groups as per bins defined as above\n",
    "spread2_group = ['0.0-0.1', '0.1-0.2', '0.2-0.3', '0.3-0.4', '0.4-0.5']\n",
    "pdData_spread2_bin = pd.cut(pdData[feature],bins,labels=spread2_group)  # segmenting data as per bins defined\n",
    "\n",
    "# putting into pandas crosstab and applying lambda function to take percentage and assigning to spread2_group_col variable\n",
    "spread2_group_col = pd.crosstab(pdData_spread2_bin,pdData.status).apply(lambda r: r/r.sum()*100, axis=1)\n",
    "print(spread2_group_col)                                                    # printing above crosstab\n",
    "\n",
    "# plotting a stacked bar chart to show PD status for different mdvp_fo_hz group\n",
    "spread2_group_col.div(spread2_group_col.sum(1).astype(float), axis=0).plot(kind='bar',stacked=True)\n",
    "plt.title(\"PD status with different spread2 group\")                     # setting title of the figure"
   ]
  },
  {
   "cell_type": "markdown",
   "metadata": {},
   "source": [
    "We can find out the following from the above crosstab:\n",
    "All patient with spread2 group with value more than 0.3 are having Parkinson's disease.\n",
    "spread2 group between 0.2-0.3 having Parkinson's patient with percentage of 86.585 followed by spread2 group between 0.1-0.2 having Parkinson's patient with percentage of 53.333 .\n",
    "spread2 group between 0.0-0.1 having Parkinson's patient with percentage of 35.714 .\n",
    "\n",
    "Let's check outliers for the attribute :"
   ]
  },
  {
   "cell_type": "code",
   "execution_count": null,
   "metadata": {
    "execution": {
     "iopub.execute_input": "2021-12-10T18:49:10.34795Z",
     "iopub.status.busy": "2021-12-10T18:49:10.347268Z",
     "iopub.status.idle": "2021-12-10T18:49:10.543478Z",
     "shell.execute_reply": "2021-12-10T18:49:10.542549Z",
     "shell.execute_reply.started": "2021-12-10T18:49:10.347896Z"
    }
   },
   "outputs": [],
   "source": [
    "ax = sns.boxplot(x=pdData[feature])        # seaborn boxplot to examine outliers of the feature"
   ]
  },
  {
   "cell_type": "markdown",
   "metadata": {},
   "source": [
    "In the 'spread2' attribute some outliers are present, let's check for the same :"
   ]
  },
  {
   "cell_type": "code",
   "execution_count": null,
   "metadata": {
    "execution": {
     "iopub.execute_input": "2021-12-10T18:49:32.603272Z",
     "iopub.status.busy": "2021-12-10T18:49:32.602916Z",
     "iopub.status.idle": "2021-12-10T18:49:32.621254Z",
     "shell.execute_reply": "2021-12-10T18:49:32.619988Z",
     "shell.execute_reply.started": "2021-12-10T18:49:32.603231Z"
    }
   },
   "outputs": [],
   "source": [
    "Q1 = pdData[feature].quantile(0.25)        # evaluating lower / first quartile\n",
    "Q3 = pdData[feature].quantile(0.75)        # evaluating upper / third quartile\n",
    "IQR = Q3 - Q1                              # evaluating Inter Quartile Range i.e IQR\n",
    "'''\n",
    "finding outliers which are mild outliers (Lower quartile - 1.5 times IQR) or\n",
    "extreme outliers (Upper quartile + 1.5 times IQR)\n",
    "'''\n",
    "outliers = pdData[((pdData[feature] < (Q1 - 1.5 * IQR)) |(pdData[feature] > (Q3 + 1.5 * IQR)))][feature]\n",
    "\n",
    "print(\"*\"*125)\n",
    "# printing mean, median and IQR for the feature\n",
    "print(\"\\033[1mFeature {0} : Mean = {1}, Median = {2} and Inter-Quartile-Range (IQR) = {3}\\033[0m\"\n",
    "      .format(feature,round(np.mean(pdData[feature]),6),round(np.median(pdData[feature]),6),round(IQR,6))\n",
    "     )\n",
    "print()\n",
    "print(\"*\"*125)\n",
    "# printing No of outliers, percentage of the data points are outliers and the values of the outliers\n",
    "print(\"There are \\033[1m{0} outliers\\033[0m ({1} % of the data points) in \\033[1m{2}\\033[0m feature and the values are \\033[1m{3}\\033[0m\"\n",
    ".format(outliers.shape[0],round(((outliers.shape[0]/pdData[feature].shape[0])*100),3),feature,outliers.tolist()))\n",
    "print(\"*\"*125)"
   ]
  },
  {
   "cell_type": "markdown",
   "metadata": {},
   "source": [
    "Now will check if any outliers present for different target attributes i.e 'status'"
   ]
  },
  {
   "cell_type": "code",
   "execution_count": null,
   "metadata": {
    "execution": {
     "iopub.execute_input": "2021-12-10T18:50:01.04067Z",
     "iopub.status.busy": "2021-12-10T18:50:01.040051Z",
     "iopub.status.idle": "2021-12-10T18:50:01.255876Z",
     "shell.execute_reply": "2021-12-10T18:50:01.25489Z",
     "shell.execute_reply.started": "2021-12-10T18:50:01.040628Z"
    }
   },
   "outputs": [],
   "source": [
    "sns.boxplot(x=pdData['status'],y=pdData[feature]) "
   ]
  },
  {
   "cell_type": "markdown",
   "metadata": {},
   "source": [
    "From above, it is observed that for 'spread2' attribute for healthy patients have outliers."
   ]
  },
  {
   "cell_type": "markdown",
   "metadata": {},
   "source": [
    "V. 'ppe' attribute : (PPE - Nonlinear measures of fundamental frequency variation )"
   ]
  },
  {
   "cell_type": "code",
   "execution_count": null,
   "metadata": {
    "execution": {
     "iopub.execute_input": "2021-12-10T18:50:36.530917Z",
     "iopub.status.busy": "2021-12-10T18:50:36.530568Z",
     "iopub.status.idle": "2021-12-10T18:50:36.83194Z",
     "shell.execute_reply": "2021-12-10T18:50:36.83083Z",
     "shell.execute_reply.started": "2021-12-10T18:50:36.530878Z"
    }
   },
   "outputs": [],
   "source": [
    "feature = 'ppe'\n",
    "meanData = 'Mean : ' + str(round(pdData[feature].mean(),6))        # variable to contain mean of the attribute\n",
    "skewData = 'Skewness : ' + str(round(pdData[feature].skew(),4))    # variable to contain skewness of the attribute\n",
    "plt.figure(figsize=(10,5))                                         # setting figure size with width = 10 and height = 5\n",
    "fig = sns.distplot(pdData[feature], bins=30, kde=True)             # seaborn distplot to examine distribution of the feature\n",
    "plt.title(\"Distribution of feature : \"+feature+\" having \"+meanData+\" and \"+skewData)   # setting title of the figure\n",
    "plt.show()"
   ]
  },
  {
   "cell_type": "markdown",
   "metadata": {},
   "source": [
    "From above we can understand the following about ppe (PPE) attribute of the dataset:\n",
    "\n",
    "Mean value of the attribute is 0.2066 with skewness of 0.7975, which shows that the datapoints of the attribute is slightly right / positive skewed.\n",
    "Maximum datapoints are ranging from 0.1 to 0.27 ."
   ]
  },
  {
   "cell_type": "code",
   "execution_count": null,
   "metadata": {
    "execution": {
     "iopub.execute_input": "2021-12-10T18:51:01.044157Z",
     "iopub.status.busy": "2021-12-10T18:51:01.043756Z",
     "iopub.status.idle": "2021-12-10T18:51:01.504306Z",
     "shell.execute_reply": "2021-12-10T18:51:01.503284Z",
     "shell.execute_reply.started": "2021-12-10T18:51:01.04412Z"
    }
   },
   "outputs": [],
   "source": [
    "plt.figure(figsize=(10,5))                                         # setting figure size with width = 10 and height = 5\n",
    "# seaborn distplot to examine distribution of the feature of healthy patient\n",
    "fig = sns.distplot(pdData[pdData['status'] == 0][feature], bins=30, kde=True, label='Healthy')\n",
    "# seaborn distplot to examine distribution of the feature of Parkinson's patient\n",
    "fig = sns.distplot(pdData[pdData['status'] == 1][feature], bins=30, kde=True, label='Parkinson\\'s')\n",
    "plt.legend()\n",
    "plt.title(\"Distribution of feature : \"+feature)                    # setting title of the figure\n",
    "plt.show()"
   ]
  },
  {
   "cell_type": "markdown",
   "metadata": {},
   "source": [
    "From the above we can observe that, patients with ppe (PPE) values greater than 0.16 are more likly to have Parkinson's disease.\n",
    "\n",
    "Lets bucket ppe (PPE) and check w.r.t the different status i.e Healthy or Parkinson's:"
   ]
  },
  {
   "cell_type": "code",
   "execution_count": null,
   "metadata": {
    "execution": {
     "iopub.execute_input": "2021-12-10T18:51:45.101202Z",
     "iopub.status.busy": "2021-12-10T18:51:45.100862Z",
     "iopub.status.idle": "2021-12-10T18:51:45.407926Z",
     "shell.execute_reply": "2021-12-10T18:51:45.406872Z",
     "shell.execute_reply.started": "2021-12-10T18:51:45.101168Z"
    }
   },
   "outputs": [],
   "source": [
    "bins = [0.0, 0.1, 0.2, 0.3, 0.4, 0.5]                                         # defining ppe bins,\n",
    "# defining labels of ppe groups as per bins defined as above\n",
    "ppe_group = ['0.0-0.1', '0.1-0.2', '0.2-0.3', '0.3-0.4', '0.4-0.5']\n",
    "pdData_ppe_bin = pd.cut(pdData[feature],bins,labels=ppe_group)  # segmenting data as per bins defined\n",
    "\n",
    "# putting into pandas crosstab and applying lambda function to take percentage and assigning to ppe_group_col variable\n",
    "ppe_group_col = pd.crosstab(pdData_ppe_bin,pdData.status).apply(lambda r: r/r.sum()*100, axis=1)\n",
    "print(ppe_group_col)                                                    # printing above crosstab\n",
    "\n",
    "# plotting a stacked bar chart to show PD status for different mdvp_fo_hz group\n",
    "ppe_group_col.div(ppe_group_col.sum(1).astype(float), axis=0).plot(kind='bar',stacked=True)\n",
    "plt.title(\"PD status with different ppe group\")                     # setting title of the figure"
   ]
  },
  {
   "cell_type": "markdown",
   "metadata": {},
   "source": [
    "We can find out the following from the above crosstab:\n",
    "All patient with ppe (PPE) (DFA) group with value more than 0.3 are having Parkinson's disease.\n",
    "ppe (PPE) group between 0.2-0.3 having Parkinson's patient with percentage of 93.750 followed by ppe (PPE) group between 0.1-0.2 having Parkinson's patient with percentage of 67.470 .\n",
    "ppe (PPE) group between 0.0-0.1 having very less Parkinson's patient with percentage of 5.556 .\n",
    "\n",
    "Let's check outliers for the attribute :"
   ]
  },
  {
   "cell_type": "code",
   "execution_count": null,
   "metadata": {
    "execution": {
     "iopub.execute_input": "2021-12-10T18:52:13.621344Z",
     "iopub.status.busy": "2021-12-10T18:52:13.621015Z",
     "iopub.status.idle": "2021-12-10T18:52:13.796836Z",
     "shell.execute_reply": "2021-12-10T18:52:13.795843Z",
     "shell.execute_reply.started": "2021-12-10T18:52:13.621308Z"
    }
   },
   "outputs": [],
   "source": [
    "ax = sns.boxplot(x=pdData[feature])        # seaborn boxplot to examine outliers of the feature"
   ]
  },
  {
   "cell_type": "markdown",
   "metadata": {},
   "source": [
    "In the 'ppe' attribute some outliers are present, let's check for the same :"
   ]
  },
  {
   "cell_type": "code",
   "execution_count": null,
   "metadata": {
    "execution": {
     "iopub.execute_input": "2021-12-10T18:52:40.887709Z",
     "iopub.status.busy": "2021-12-10T18:52:40.887364Z",
     "iopub.status.idle": "2021-12-10T18:52:40.907693Z",
     "shell.execute_reply": "2021-12-10T18:52:40.906959Z",
     "shell.execute_reply.started": "2021-12-10T18:52:40.88767Z"
    }
   },
   "outputs": [],
   "source": [
    "Q1 = pdData[feature].quantile(0.25)        # evaluating lower / first quartile\n",
    "Q3 = pdData[feature].quantile(0.75)        # evaluating upper / third quartile\n",
    "IQR = Q3 - Q1                              # evaluating Inter Quartile Range i.e IQR\n",
    "'''\n",
    "finding outliers which are mild outliers (Lower quartile - 1.5 times IQR) or\n",
    "extreme outliers (Upper quartile + 1.5 times IQR)\n",
    "'''\n",
    "outliers = pdData[((pdData[feature] < (Q1 - 1.5 * IQR)) |(pdData[feature] > (Q3 + 1.5 * IQR)))][feature]\n",
    "\n",
    "print(\"*\"*125)\n",
    "# printing mean, median and IQR for the feature\n",
    "print(\"\\033[1mFeature {0} : Mean = {1}, Median = {2} and Inter-Quartile-Range (IQR) = {3}\\033[0m\"\n",
    "      .format(feature,round(np.mean(pdData[feature]),6),round(np.median(pdData[feature]),6),round(IQR,6))\n",
    "     )\n",
    "print()\n",
    "print(\"*\"*125)\n",
    "# printing No of outliers, percentage of the data points are outliers and the values of the outliers\n",
    "print(\"There are \\033[1m{0} outliers\\033[0m ({1} % of the data points) in \\033[1m{2}\\033[0m feature and the values are \\033[1m{3}\\033[0m\"\n",
    ".format(outliers.shape[0],round(((outliers.shape[0]/pdData[feature].shape[0])*100),3),feature,outliers.tolist()))\n",
    "print(\"*\"*125)"
   ]
  },
  {
   "cell_type": "markdown",
   "metadata": {},
   "source": [
    "Now will check if any outliers present for different target attributes i.e 'status'"
   ]
  },
  {
   "cell_type": "code",
   "execution_count": null,
   "metadata": {
    "execution": {
     "iopub.execute_input": "2021-12-10T18:53:08.980406Z",
     "iopub.status.busy": "2021-12-10T18:53:08.980097Z",
     "iopub.status.idle": "2021-12-10T18:53:09.191332Z",
     "shell.execute_reply": "2021-12-10T18:53:09.190372Z",
     "shell.execute_reply.started": "2021-12-10T18:53:08.980373Z"
    }
   },
   "outputs": [],
   "source": [
    "sns.boxplot(x=pdData['status'],y=pdData[feature])"
   ]
  },
  {
   "cell_type": "markdown",
   "metadata": {},
   "source": [
    "From above, it is observed that for 'ppe' attribute patients with Parkinson's disease have more outliers than Healthy patients."
   ]
  },
  {
   "cell_type": "markdown",
   "metadata": {},
   "source": [
    "W. 'status' attribute : (Health status of the subject (one) - Parkinson's, (zero) - healthy)"
   ]
  },
  {
   "cell_type": "code",
   "execution_count": null,
   "metadata": {
    "execution": {
     "iopub.execute_input": "2021-12-10T18:53:51.906597Z",
     "iopub.status.busy": "2021-12-10T18:53:51.906263Z",
     "iopub.status.idle": "2021-12-10T18:53:52.224209Z",
     "shell.execute_reply": "2021-12-10T18:53:52.223265Z",
     "shell.execute_reply.started": "2021-12-10T18:53:51.906562Z"
    }
   },
   "outputs": [],
   "source": [
    "plt.figure(figsize=(10,5))                                 # setting figure size with width = 10 and height = 5\n",
    "# seaborn count catplot to examine distribution of the status\n",
    "ax = sns.catplot(x='status', kind=\"count\", data=pdData)\n",
    "plt.title(\"Distribution of column : 'Status'\")      # setting title of the figure\n",
    "y = []                                                     # creating a null or empty array\n",
    "for val in range(pdData.status.nunique()):        # looping for number of unique values in the status\n",
    "    # appending count of each unique values from status to array y\n",
    "    y.append(pdData.groupby(pdData.status,sort=False)['status'].count()[val])\n",
    "for i, v in enumerate(y):                                  # looping count of each unique value in the status\n",
    "    # including count of each unique values in the plot \n",
    "    plt.annotate(str(v), xy=(i,float(v)), xytext=(i-0.1, v+3), color='black', fontweight='bold')"
   ]
  },
  {
   "cell_type": "markdown",
   "metadata": {},
   "source": [
    "Lets check the percentage and plot a pie chart to show :"
   ]
  },
  {
   "cell_type": "code",
   "execution_count": null,
   "metadata": {
    "execution": {
     "iopub.execute_input": "2021-12-10T18:54:14.031883Z",
     "iopub.status.busy": "2021-12-10T18:54:14.031525Z",
     "iopub.status.idle": "2021-12-10T18:54:14.160942Z",
     "shell.execute_reply": "2021-12-10T18:54:14.159889Z",
     "shell.execute_reply.started": "2021-12-10T18:54:14.031844Z"
    }
   },
   "outputs": [],
   "source": [
    "plt.figure(figsize=(5,5))                               # setting figure size with width = 10 and height = 5\n",
    "# seaborn pie chart to examine distribution of the status\n",
    "pdData.groupby(['status']).status.count().plot(kind='pie',labels=['Healthy : 0','Parkinson\\'s : 1'],\n",
    "                                                               startangle=90, autopct='%1.1f%%')\n",
    "plt.title(\"Distribution of column : 'status'\")   # setting title of the figure"
   ]
  },
  {
   "cell_type": "markdown",
   "metadata": {},
   "source": [
    "From above we can see out of 195 patients, 48 patients (24.6 %) are healthy and 147 patients (75.4%) patients are having Parkinson's disease."
   ]
  },
  {
   "cell_type": "code",
   "execution_count": null,
   "metadata": {
    "execution": {
     "iopub.execute_input": "2021-12-10T18:54:35.704836Z",
     "iopub.status.busy": "2021-12-10T18:54:35.703932Z",
     "iopub.status.idle": "2021-12-10T18:58:09.506015Z",
     "shell.execute_reply": "2021-12-10T18:58:09.505143Z",
     "shell.execute_reply.started": "2021-12-10T18:54:35.704778Z"
    }
   },
   "outputs": [],
   "source": [
    "sns.pairplot(pdData,hue='status',diag_kind='hist')"
   ]
  },
  {
   "cell_type": "code",
   "execution_count": null,
   "metadata": {
    "execution": {
     "iopub.execute_input": "2021-12-10T18:58:09.507966Z",
     "iopub.status.busy": "2021-12-10T18:58:09.507558Z",
     "iopub.status.idle": "2021-12-10T18:58:11.5616Z",
     "shell.execute_reply": "2021-12-10T18:58:11.560575Z",
     "shell.execute_reply.started": "2021-12-10T18:58:09.507931Z"
    }
   },
   "outputs": [],
   "source": [
    "plt.figure(figsize=(20,7))\n",
    "# create a mask so we only see the correlation values once\n",
    "mask = np.zeros_like(pdData.corr())\n",
    "mask[np.triu_indices_from(mask, 1)] = True\n",
    "a = sns.heatmap(pdData.corr(),mask=mask, annot=True, fmt='.2f')\n",
    "rotx = a.set_xticklabels(a.get_xticklabels(), rotation=90)"
   ]
  },
  {
   "cell_type": "markdown",
   "metadata": {},
   "source": [
    "We can observe from the above pairplot and heatmap of correlation of different attributes:\n",
    "\n",
    "mdvp_jitter_in_percent (MDVP:Jitter(%)) have high correlation with mdvp_jitter_abs (MDVP:Jitter(Abs) ), mdvp_rap (MDVP:RAP), mdvp_ppq (MDVP:PPQ), jitter_ddp (Jitter:DDP) and nhr (NHR).\n",
    "mdvp_jitter_abs (MDVP:Jitter(Abs) have high correlation with mdvp_rap (MDVP:RAP), mdvp_ppq (MDVP:PPQ), jitter_ddp (Jitter:DDP).\n",
    "mdvp_rap (MDVP:RAP) have high correlation with mdvp_ppq (MDVP:PPQ), jitter_ddp (Jitter:DDP), nhr (NHR).\n",
    "mdvp_ppq (MDVP:PPQ) have high correlation with jitter_ddp (Jitter:DDP).\n",
    "jitter_ddp (Jitter:DDP) have high correlation with nhr (NHR).\n",
    "mdvp_shimmer (MDVP:Shimmer) have high correlation with mdvp_shimmer_db (MDVP:Shimmer(dB)), shimmer_apq3 (Shimmer:APQ3), shimmer_apq5 (Shimmer:APQ5), mdvp_apq (MDVP:APQ), shimmer_dda (Shimmer:DDA).\n",
    "mdvp_shimmer_db (MDVP:Shimmer(dB)) have high correlation with shimmer_apq3 (Shimmer:APQ3), shimmer_apq5 (Shimmer:APQ5), mdvp_apq (MDVP:APQ), shimmer_dda (Shimmer:DDA).\n",
    "shimmer_apq3 (Shimmer:APQ3) have high correlation with shimmer_apq5 (Shimmer:APQ5), mdvp_apq (MDVP:APQ), shimmer_dda (Shimmer:DDA).\n",
    "shimmer_apq5 (Shimmer:APQ5) have high correlation with mdvp_apq (MDVP:APQ), shimmer_dda (Shimmer:DDA).\n",
    "mdvp_apq (MDVP:APQ) have high correlation with shimmer_dda (Shimmer:DDA).\n",
    "spread1 have high correlation with ppe (PPE)."
   ]
  },
  {
   "cell_type": "markdown",
   "metadata": {},
   "source": [
    "Split the dataset into training and test set in the ratio of 70:30 (Training:Test) (5 points)"
   ]
  },
  {
   "cell_type": "code",
   "execution_count": null,
   "metadata": {},
   "outputs": [],
   "source": [
    "#Split the data into training and test set in the ratio of 70:30 respectively\n",
    "X = pdData.drop(['status'],axis=1)\n",
    "y = pdData['status']\n",
    "\n",
    "# split data into train subset and test subset\n",
    "X_train, X_test, y_train, y_test = train_test_split(X, y, test_size=0.3, random_state=47)\n",
    "\n",
    "# checking the dimensions of the train & test subset\n",
    "# printing dimension of train set\n",
    "print(X_train.shape)\n",
    "# printing dimension of test set\n",
    "print(X_test.shape)"
   ]
  },
  {
   "cell_type": "markdown",
   "metadata": {},
   "source": [
    "Prepare the data for training - Scale the data if necessary, get rid of missing values (if any) etc (5 points)\n",
    "\n",
    "As we have seen earlier, there are no missing values in the dataset\n",
    "As from the earlier correlation heatmap of different attributes we found that mdvp_jitter_in_percent (MDVP:Jitter(%)) have high correlation with mdvp_jitter_abs (MDVP:Jitter(Abs) ), mdvp_rap (MDVP:RAP), mdvp_ppq (MDVP:PPQ), jitter_ddq (Jitter:DDQ) and nhr (NHR). So, in this case we will drop mdvp_jitter_in_percent (MDVP:Jitter(%))."
   ]
  },
  {
   "cell_type": "code",
   "execution_count": null,
   "metadata": {},
   "outputs": [],
   "source": [
    "X_train.drop(['mdvp_jitter_in_percent'],axis=1,inplace=True)\n",
    "X_test.drop(['mdvp_jitter_in_percent'],axis=1,inplace=True)"
   ]
  },
  {
   "cell_type": "markdown",
   "metadata": {},
   "source": [
    "Also from the earlier correlation heatmap of different attributes we found that mdvp_shimmer (MDVP:Shimmer) have high correlation with mdvp_shimmer_db (MDVP:Shimmer(dB)), shimmer_apq3 (Shimmer:APQ3), shimmer_apq5 (Shimmer:APQ5), mdvp_apq (MDVP:APQ), shimmer_dda (Shimmer:DDA). So, in this case we will drop mdvp_shimmer (MDVP:Shimmer)."
   ]
  },
  {
   "cell_type": "code",
   "execution_count": null,
   "metadata": {},
   "outputs": [],
   "source": [
    "X_train.drop(['mdvp_shimmer'],axis=1,inplace=True)\n",
    "X_test.drop(['mdvp_shimmer'],axis=1,inplace=True)"
   ]
  },
  {
   "cell_type": "markdown",
   "metadata": {},
   "source": [
    "Also we will drop hnr (HNR)."
   ]
  },
  {
   "cell_type": "code",
   "execution_count": null,
   "metadata": {},
   "outputs": [],
   "source": [
    "X_train.drop(['hnr'],axis=1,inplace=True)\n",
    "X_test.drop(['hnr'],axis=1,inplace=True)"
   ]
  },
  {
   "cell_type": "code",
   "execution_count": null,
   "metadata": {},
   "outputs": [],
   "source": [
    "# re checking the dimensions of the train & test subset after dropping several columns from the subsets\n",
    "# printing dimension of train set\n",
    "print(X_train.shape)\n",
    "# printing dimension of test set\n",
    "print(X_test.shape)"
   ]
  },
  {
   "cell_type": "code",
   "execution_count": null,
   "metadata": {},
   "outputs": [],
   "source": [
    "# Let us scale train as well as test data using StandardScaler\n",
    "scaler = StandardScaler()\n",
    "\n",
    "X_train_scaled = scaler.fit_transform(X_train)\n",
    "X_test_scaled = scaler.fit_transform(X_test)"
   ]
  },
  {
   "cell_type": "markdown",
   "metadata": {},
   "source": [
    "Train at least 3 standard classification algorithms - Logistic Regression, Naive Bayes’, SVM, k-NN etc, and note down their accuracies on the test data (10 points)"
   ]
  },
  {
   "cell_type": "markdown",
   "metadata": {},
   "source": [
    "A. Logistic Regression:"
   ]
  },
  {
   "cell_type": "code",
   "execution_count": null,
   "metadata": {},
   "outputs": [],
   "source": [
    "# Train and Fit model\n",
    "lr = LogisticRegression(random_state=0)\n",
    "lr.fit(X_train_scaled, y_train)\n",
    "\n",
    "#predict status for X_test_scaled dataset \n",
    "lr_y_pred = lr.predict(X_test_scaled)\n",
    "\n",
    "# Confusion Matrix for the Logistic Regression Model\n",
    "print(\"Confusion Matrix : Logistic Regression\")\n",
    "print(confusion_matrix(y_test,lr_y_pred))\n",
    "\n",
    "# Classification Report for the Logistic Regression Model\n",
    "classRep = classification_report(y_test, lr_y_pred, digits=2)\n",
    "print(classRep)"
   ]
  },
  {
   "cell_type": "markdown",
   "metadata": {},
   "source": [
    "From the above Logistic Regression Model, we can find out the following details:\n",
    "\n",
    "Accuracy of the model:- 86%\n",
    "Re-call of the model:- 91%\n",
    "Precision of the model:- 91%\n",
    "F1-Score of the model:- 91%"
   ]
  },
  {
   "cell_type": "markdown",
   "metadata": {},
   "source": [
    "B. K-nearest neighbors:"
   ]
  },
  {
   "cell_type": "markdown",
   "metadata": {},
   "source": [
    "First let's find out the value of neighbors."
   ]
  },
  {
   "cell_type": "code",
   "execution_count": null,
   "metadata": {},
   "outputs": [],
   "source": [
    "# creating odd list of K for KNN\n",
    "myList = list(range(3,40,2))\n",
    "\n",
    "# creating empty list for F1 scores od different value of K\n",
    "f1ScoreList = []\n",
    "\n",
    "# perform accuracy metrics for values from 3,5....29\n",
    "for k in myList:\n",
    "    knn = KNeighborsClassifier(n_neighbors=k)\n",
    "    knn.fit(X_train_scaled, y_train)\n",
    "    # predict the response\n",
    "    y_pred = knn.predict(X_test_scaled)\n",
    "    # evaluate F1 Score\n",
    "    f1Score = f1_score(y_test, y_pred)\n",
    "    f1ScoreList.append(f1Score)\n",
    "\n",
    "# changing to misclassification error\n",
    "MSE = [1 - x for x in f1ScoreList]\n",
    "\n",
    "# determining best k\n",
    "bestk = myList[MSE.index(min(MSE))]\n",
    "print(\"The optimal number of neighbors is %d\" % bestk)"
   ]
  },
  {
   "cell_type": "code",
   "execution_count": null,
   "metadata": {},
   "outputs": [],
   "source": [
    "# instantiate learning model (k = 29)\n",
    "knn = KNeighborsClassifier(n_neighbors = 29, weights = 'uniform', metric='euclidean')\n",
    "\n",
    "# fitting the model\n",
    "knn.fit(X_train_scaled, y_train)\n",
    "\n",
    "# predict the response\n",
    "knn_y_pred = knn.predict(X_test_scaled)\n",
    "\n",
    "# Confusion Matrix for the K-nearest neighbors Model\n",
    "print(\"Confusion Matrix : K-nearest neighbors\")\n",
    "print(confusion_matrix(y_test,knn_y_pred))\n",
    "\n",
    "# Classification Report for the K-nearest neighbors Model\n",
    "classRep = classification_report(y_test, knn_y_pred, digits=2)\n",
    "print(classRep)"
   ]
  },
  {
   "cell_type": "markdown",
   "metadata": {},
   "source": [
    "From the above K-nearest neighbors Model, we can find out the following details:\n",
    "\n",
    "Accuracy of the model:- 92%\n",
    "Re-call of the model:- 100%\n",
    "Precision of the model:- 90%\n",
    "F1-Score of the model:- 95%"
   ]
  },
  {
   "cell_type": "markdown",
   "metadata": {},
   "source": [
    "C. SVM (Support Vector Machine):"
   ]
  },
  {
   "cell_type": "code",
   "execution_count": null,
   "metadata": {},
   "outputs": [],
   "source": [
    "svm = SVC(gamma=0.05, C=70,random_state=47)\n",
    "svm.fit(X_train_scaled , y_train)\n",
    "\n",
    "# predict the response\n",
    "svm_y_pred = svm.predict(X_test_scaled)\n",
    "\n",
    "# Confusion Matrix for the Support Vector Machine Model\n",
    "print(\"Confusion Matrix : Support Vector Machine\")\n",
    "print(confusion_matrix(y_test,svm_y_pred))\n",
    "\n",
    "# Classification Report for the Support Vector Machine Model\n",
    "classRep = classification_report(y_test, svm_y_pred, digits=2)\n",
    "print(classRep)"
   ]
  },
  {
   "cell_type": "markdown",
   "metadata": {},
   "source": [
    "From the above Support Vector Machine Model, we can find out the following details:\n",
    "\n",
    "Accuracy of the model:- 95%\n",
    "Re-call of the model:- 100%\n",
    "Precision of the model:- 94%\n",
    "F1-Score of the model:- 97%"
   ]
  },
  {
   "cell_type": "markdown",
   "metadata": {},
   "source": [
    "Determining which standard model performed better"
   ]
  },
  {
   "cell_type": "code",
   "execution_count": null,
   "metadata": {},
   "outputs": [],
   "source": [
    "#Using K fold to check how the above algorighms varies throughout the dataset with 10 different subset of equal bins\n",
    "models = []\n",
    "models.append(('Logistic Regression', LogisticRegression(random_state=47)))\n",
    "models.append(('K-NN', KNeighborsClassifier(n_neighbors = 29, weights = 'uniform', metric='euclidean')))\n",
    "models.append(('SVM', SVC(gamma=0.05, C=70,random_state=47)))\n",
    "\n",
    "# evaluate each model\n",
    "results = []\n",
    "names = []\n",
    "scoring = 'f1'\n",
    "for name, model in models:\n",
    "    kfold = model_selection.KFold(n_splits=10, random_state=47)\n",
    "    cv_results = model_selection.cross_val_score(model, X_train_scaled, y_train, cv=kfold, scoring=scoring)\n",
    "    results.append(cv_results)\n",
    "    names.append(name)\n",
    "    print(\"\\033[1m{0}\\033[0m model have \\033[1mmean F1-Score\\033[0m of {1} and \\033[1mSD F1-Score\\033[0m of {2}\".format(name, cv_results.mean(), cv_results.std()))"
   ]
  },
  {
   "cell_type": "code",
   "execution_count": null,
   "metadata": {},
   "outputs": [],
   "source": [
    "plt.title('Algorithm Comparison')\n",
    "plt.plot(results[0],label='Logistic')\n",
    "plt.plot(results[1],label='KNN')\n",
    "plt.plot(results[2],label='SVM')\n",
    "plt.legend()"
   ]
  },
  {
   "cell_type": "markdown",
   "metadata": {},
   "source": [
    "From the above comparision of different algorithms (Logistic Regression, K-nearest neighbors and Support Vector Machine) we can conclude that SVM (Support Vector Machine) performed slightly better than other algorithms."
   ]
  },
  {
   "cell_type": "markdown",
   "metadata": {},
   "source": [
    "7. Train a meta-classifier and note the accuracy on test data (10 points)"
   ]
  },
  {
   "cell_type": "markdown",
   "metadata": {},
   "source": [
    "STACKING:"
   ]
  },
  {
   "cell_type": "code",
   "execution_count": null,
   "metadata": {},
   "outputs": [],
   "source": [
    "# defining level hetrogenious model\n",
    "level0 = list()\n",
    "level0.append(('lr', LogisticRegression(random_state=47)))\n",
    "level0.append(('knn', KNeighborsClassifier(n_neighbors = 29, weights = 'uniform', metric='euclidean')))\n",
    "level0.append(('cart', DecisionTreeClassifier()))\n",
    "level0.append(('svm', SVC(gamma=0.05, C=70,random_state=47)))\n",
    "level0.append(('bayes', GaussianNB()))\n",
    "\n",
    "# define meta learner model\n",
    "level1 = SVC(gamma=0.05, C=3,random_state=47)\n",
    "\n",
    "# define the stacking ensemble with cross validation of 5\n",
    "Stack_model = StackingClassifier(estimators=level0, final_estimator=level1, cv=5)\n",
    "\n",
    "# predict the response\n",
    "Stack_model.fit(X_train_scaled, y_train)\n",
    "prediction_Stack = Stack_model.predict(X_test_scaled)\n",
    "\n",
    "# Confusion Matrix for the Stacking Model\n",
    "print(\"Confusion Matrix : Stacking\")\n",
    "print(confusion_matrix(y_test,prediction_Stack))\n",
    "\n",
    "# Classification Report for the Stacking Model\n",
    "print(classification_report(y_test, prediction_Stack, digits=2))"
   ]
  },
  {
   "cell_type": "markdown",
   "metadata": {},
   "source": [
    "AUC-ROC for stacking"
   ]
  },
  {
   "cell_type": "code",
   "execution_count": null,
   "metadata": {},
   "outputs": [],
   "source": [
    "#determining false positive rate and True positive rate, threshold\n",
    "fpr, tpr, threshold = metrics.roc_curve(y_test, prediction_Stack)\n",
    "roc_auc_stack = metrics.auc(fpr, tpr)\n",
    "\n",
    "#plotting ROC curve\n",
    "plt.title('Receiver Operating Characteristic')\n",
    "plt.plot(fpr, tpr, 'b', label = 'AUC = %0.2f' % roc_auc_stack)\n",
    "plt.legend(loc = 'lower right')\n",
    "plt.plot([0, 1], [0, 1],'r--')\n",
    "plt.xlim([0, 1])\n",
    "plt.ylim([0, 1])\n",
    "plt.ylabel('True Positive Rate')\n",
    "plt.xlabel('False Positive Rate')\n",
    "plt.show()"
   ]
  },
  {
   "cell_type": "markdown",
   "metadata": {},
   "source": [
    "From the above Stacked meta classifier Model, we can find out the following details:\n",
    "\n",
    "Accuracy of the model:- 95%\n",
    "Re-call of the model:- 100%\n",
    "Precision of the model:- 94%\n",
    "F1-Score of the model:- 97%\n",
    "ROC-AUC : 88%"
   ]
  },
  {
   "cell_type": "markdown",
   "metadata": {},
   "source": [
    "8.Train at least one standard Ensemble model - Random forest, Bagging, Boosting etc, and note the accuracy (10 points)\n",
    "A. Random Forest"
   ]
  },
  {
   "cell_type": "code",
   "execution_count": null,
   "metadata": {},
   "outputs": [],
   "source": [
    "#creating model of Random Forest\n",
    "RandomForest = RandomForestClassifier(n_estimators = 100,criterion='entropy',max_features=10,random_state=47)\n",
    "RandomForest = RandomForest.fit(X_train_scaled, y_train)\n",
    "\n",
    "# predict the response\n",
    "RandomForest_pred = RandomForest.predict(X_test_scaled)\n",
    "\n",
    "# Confusion Matrix for the Random Forest Model\n",
    "print(\"Confusion Matrix : Random Forest\")\n",
    "print(confusion_matrix(y_test,RandomForest_pred))\n",
    "\n",
    "# Classification Report for the Randome Forest Model\n",
    "print(classification_report(y_test, RandomForest_pred, digits=2))"
   ]
  },
  {
   "cell_type": "markdown",
   "metadata": {},
   "source": [
    "AUC-ROC for Random Forest"
   ]
  },
  {
   "cell_type": "code",
   "execution_count": null,
   "metadata": {},
   "outputs": [],
   "source": [
    "#determining false positive rate and True positive rate, threshold\n",
    "fpr, tpr, threshold = metrics.roc_curve(y_test, RandomForest_pred)\n",
    "roc_auc_rf = metrics.auc(fpr, tpr)\n",
    "\n",
    "#plotting ROC curve\n",
    "plt.title('Receiver Operating Characteristic')\n",
    "plt.plot(fpr, tpr, 'b', label = 'AUC = %0.2f' % roc_auc_rf)\n",
    "plt.legend(loc = 'lower right')\n",
    "plt.plot([0, 1], [0, 1],'r--')\n",
    "plt.xlim([0, 1])\n",
    "plt.ylim([0, 1])\n",
    "plt.ylabel('True Positive Rate')\n",
    "plt.xlabel('False Positive Rate')\n",
    "plt.show()"
   ]
  },
  {
   "cell_type": "markdown",
   "metadata": {},
   "source": [
    "From the above Random Forest Model, we can find out the following details:\n",
    "\n",
    "Accuracy of the model:- 92%\n",
    "Re-call of the model:- 98%\n",
    "Precision of the model:- 92%\n",
    "F1-Score of the model:- 95%\n",
    "ROC-AUC : 84%"
   ]
  },
  {
   "cell_type": "code",
   "execution_count": null,
   "metadata": {},
   "outputs": [],
   "source": [
    "# Lets check features importance\n",
    "feature_imp = pd.Series(RandomForest.feature_importances_,index=X_train.columns).sort_values(ascending=False)\n",
    "feature_imp"
   ]
  },
  {
   "cell_type": "code",
   "execution_count": null,
   "metadata": {},
   "outputs": [],
   "source": [
    "# Creating a bar plot\n",
    "sns.barplot(x=feature_imp, y=feature_imp.index)\n",
    "# Add labels to your graph\n",
    "plt.xlabel('Feature Importance Score')\n",
    "plt.ylabel('Features')"
   ]
  },
  {
   "cell_type": "markdown",
   "metadata": {},
   "source": [
    "B. Adaptive Boosting"
   ]
  },
  {
   "cell_type": "code",
   "execution_count": null,
   "metadata": {},
   "outputs": [],
   "source": [
    "#creating model of Adaptive Boosting\n",
    "AdBs = AdaBoostClassifier( n_estimators= 50)\n",
    "AdBs  = AdBs.fit(X_train_scaled, y_train)\n",
    "\n",
    "# predict the response\n",
    "AdBs_y_pred = AdBs.predict(X_test_scaled)\n",
    "\n",
    "# Confusion Matrix for the Adaptive Boosting Model\n",
    "print(\"Confusion Matrix : Adaptive Boosting\")\n",
    "print(confusion_matrix(y_test,AdBs_y_pred))\n",
    "\n",
    "# Classification Report for the Adaptive Boosting Model\n",
    "print(classification_report(y_test, AdBs_y_pred, digits=2))"
   ]
  },
  {
   "cell_type": "code",
   "execution_count": null,
   "metadata": {},
   "outputs": [],
   "source": [
    "#AUC-ROC for AdaBoost\n",
    "#determining false positive rate and True positive rate, threshold\n",
    "fpr, tpr, threshold = metrics.roc_curve(y_test, AdBs_y_pred)\n",
    "roc_auc_ada = metrics.auc(fpr, tpr)\n",
    "\n",
    "#plotting ROC curve\n",
    "plt.title('Receiver Operating Characteristic')\n",
    "plt.plot(fpr, tpr, 'b', label = 'AUC = %0.2f' % roc_auc_ada)\n",
    "plt.legend(loc = 'lower right')\n",
    "plt.plot([0, 1], [0, 1],'r--')\n",
    "plt.xlim([0, 1])\n",
    "plt.ylim([0, 1])\n",
    "plt.ylabel('True Positive Rate')\n",
    "plt.xlabel('False Positive Rate')\n",
    "plt.show()"
   ]
  },
  {
   "cell_type": "markdown",
   "metadata": {},
   "source": [
    "From the above Adaptive Boosting Model, we can find out the following details:\n",
    "\n",
    "Accuracy of the model:- 90%\n",
    "Re-call of the model:- 96%\n",
    "Precision of the model:- 92%\n",
    "F1-Score of the model:- 94%\n",
    "ROC-AUC : 82%"
   ]
  },
  {
   "cell_type": "markdown",
   "metadata": {},
   "source": [
    "9. Compare all the models (minimum 5) and pick the best one among them (10 points)"
   ]
  },
  {
   "cell_type": "code",
   "execution_count": null,
   "metadata": {},
   "outputs": [],
   "source": [
    "#Using K fold to check how the various algorighms varies throughout the dataset with 10 different subset of equal bins\n",
    "models = []\n",
    "models.append(('Logistic Regression', LogisticRegression(random_state=47)))\n",
    "models.append(('K-NN', KNeighborsClassifier(n_neighbors = 29, weights = 'uniform', metric='euclidean')))\n",
    "models.append(('SVM', SVC(gamma=0.05, C=70,random_state=47)))\n",
    "models.append(('Stacking', StackingClassifier(estimators=level0, final_estimator=level1, cv=5)))\n",
    "models.append(('Random Forest', RandomForestClassifier(n_estimators = 100,criterion='entropy',max_features=10,random_state=47)))\n",
    "models.append(('Adaptive Boosting', AdaBoostClassifier( n_estimators= 50)))\n",
    "\n",
    "# evaluate each model with scoring method accuracy\n",
    "print(\"*\"*125)\n",
    "print(\"Accuracy scoring of the Models\")\n",
    "print(\"*\"*125)\n",
    "results = []\n",
    "names = []\n",
    "scoring = 'accuracy'\n",
    "for name, model in models:\n",
    "    kfold = model_selection.KFold(n_splits=10, random_state=47)\n",
    "    cv_results = model_selection.cross_val_score(model, X_train_scaled, y_train, cv=kfold, scoring=scoring)\n",
    "    results.append(cv_results)\n",
    "    names.append(name)\n",
    "    print(\"\\033[1m{0}\\033[0m model have \\033[1mmean Accuracy\\033[0m of {1} and \\033[1mSD Accuracy\\033[0m of {2}\"\n",
    "          .format(name, round(cv_results.mean(),2), round(cv_results.std(),2))) \n",
    "\n",
    "\n",
    "print()\n",
    "print(\"*\"*125)\n",
    "print(\"F1 scoring of the Models\")\n",
    "print(\"*\"*125)\n",
    "\n",
    "# evaluate each model with scoring method f1\n",
    "results = []\n",
    "names = []\n",
    "scoring = 'f1'\n",
    "for name, model in models:\n",
    "    kfold = model_selection.KFold(n_splits=10, random_state=47)\n",
    "    cv_results = model_selection.cross_val_score(model, X_train_scaled, y_train, cv=kfold, scoring=scoring)\n",
    "    results.append(cv_results)\n",
    "    names.append(name)\n",
    "    print(\"\\033[1m{0}\\033[0m model have \\033[1mmean F1-Score\\033[0m of {1} and \\033[1mSD F1-Score\\033[0m of {2}\"\n",
    "          .format(name, round(cv_results.mean(),2), round(cv_results.std(),2))) "
   ]
  },
  {
   "cell_type": "markdown",
   "metadata": {},
   "source": [
    "We can conclude from the above Accuracy and F1 scoring method that, Stacking Model performs better than other models.\n",
    "\n",
    "Stacking Model have mean Accuracy of 93% with standard deviation of 5% .\n",
    "And, Stacking Model have mean F1-Score of 94% with standard deviation of 5% "
   ]
  }
 ],
 "metadata": {
  "kernelspec": {
   "display_name": "Python 3 (ipykernel)",
   "language": "python",
   "name": "python3"
  },
  "language_info": {
   "codemirror_mode": {
    "name": "ipython",
    "version": 3
   },
   "file_extension": ".py",
   "mimetype": "text/x-python",
   "name": "python",
   "nbconvert_exporter": "python",
   "pygments_lexer": "ipython3",
   "version": "3.9.7"
  }
 },
 "nbformat": 4,
 "nbformat_minor": 4
}
